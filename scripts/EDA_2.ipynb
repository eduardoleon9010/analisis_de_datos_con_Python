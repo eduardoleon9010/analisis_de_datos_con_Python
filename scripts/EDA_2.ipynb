{
  "nbformat": 4,
  "nbformat_minor": 0,
  "metadata": {
    "colab": {
      "provenance": []
    },
    "kernelspec": {
      "name": "python3",
      "display_name": "Python 3"
    },
    "language_info": {
      "name": "python"
    }
  },
  "cells": [
    {
      "cell_type": "markdown",
      "source": [
        "# 🛠️ Práctica de Análisis Exploratorio de Datos (EDA)\n",
        "\n",
        "En esta practica, aplicarás las habilidades adquiridas a lo largo de la seccion para analizar cómo diferentes características influyen en el precio de las laptops.  \n",
        "\n",
        "## 🎯 Objetivos  \n",
        "\n",
        "✅ Visualizar patrones individuales en las características del conjunto de datos.  \n",
        "✅ Realizar análisis estadísticos descriptivos sobre los datos.  \n",
        "✅ Utilizar agrupaciones y tablas dinámicas para analizar el efecto de variables categóricas en el precio.  \n",
        "✅ Aplicar la correlación de Pearson para medir la interdependencia entre variables.  \n",
        "\n",
        "## 🛠️ Configuración del entorno  \n",
        "\n",
        "Para este análisis, utilizaremos las siguientes bibliotecas en Python:  \n",
        "\n",
        "- `pandas` 📊 → Para gestionar y manipular los datos.  \n",
        "- `numpy` 🔢 → Para realizar operaciones matemáticas.  \n",
        "- `scipy` 📈 → Para operaciones estadísticas avanzadas.  \n",
        "- `seaborn` 🎨 → Para la visualización de datos.  \n",
        "- `matplotlib` 📌 → Para herramientas adicionales de gráficos.  \n",
        "\n",
        "### 📌 Instalación de Bibliotecas  \n",
        "\n",
        "Si alguna de estas bibliotecas no está instalada, puedes instalarla ejecutando el siguiente comando en tu entorno de trabajo:  \n",
        "\n",
        "```python\n",
        "# Instalar seaborn en entornos como Jupyter Notebook o Google Colab\n",
        "%pip install seaborn  \n"
      ],
      "metadata": {
        "id": "pz-FulC88jFj"
      }
    },
    {
      "cell_type": "code",
      "execution_count": 1,
      "metadata": {
        "colab": {
          "base_uri": "https://localhost:8080/"
        },
        "id": "jnWc7T7h8fqg",
        "outputId": "75da1767-7fca-4b76-ee1c-1f44176f94e7"
      },
      "outputs": [
        {
          "output_type": "stream",
          "name": "stdout",
          "text": [
            "Requirement already satisfied: seaborn in /usr/local/lib/python3.11/dist-packages (0.13.2)\n",
            "Requirement already satisfied: numpy!=1.24.0,>=1.20 in /usr/local/lib/python3.11/dist-packages (from seaborn) (1.26.4)\n",
            "Requirement already satisfied: pandas>=1.2 in /usr/local/lib/python3.11/dist-packages (from seaborn) (2.2.2)\n",
            "Requirement already satisfied: matplotlib!=3.6.1,>=3.4 in /usr/local/lib/python3.11/dist-packages (from seaborn) (3.10.0)\n",
            "Requirement already satisfied: contourpy>=1.0.1 in /usr/local/lib/python3.11/dist-packages (from matplotlib!=3.6.1,>=3.4->seaborn) (1.3.1)\n",
            "Requirement already satisfied: cycler>=0.10 in /usr/local/lib/python3.11/dist-packages (from matplotlib!=3.6.1,>=3.4->seaborn) (0.12.1)\n",
            "Requirement already satisfied: fonttools>=4.22.0 in /usr/local/lib/python3.11/dist-packages (from matplotlib!=3.6.1,>=3.4->seaborn) (4.56.0)\n",
            "Requirement already satisfied: kiwisolver>=1.3.1 in /usr/local/lib/python3.11/dist-packages (from matplotlib!=3.6.1,>=3.4->seaborn) (1.4.8)\n",
            "Requirement already satisfied: packaging>=20.0 in /usr/local/lib/python3.11/dist-packages (from matplotlib!=3.6.1,>=3.4->seaborn) (24.2)\n",
            "Requirement already satisfied: pillow>=8 in /usr/local/lib/python3.11/dist-packages (from matplotlib!=3.6.1,>=3.4->seaborn) (11.1.0)\n",
            "Requirement already satisfied: pyparsing>=2.3.1 in /usr/local/lib/python3.11/dist-packages (from matplotlib!=3.6.1,>=3.4->seaborn) (3.2.1)\n",
            "Requirement already satisfied: python-dateutil>=2.7 in /usr/local/lib/python3.11/dist-packages (from matplotlib!=3.6.1,>=3.4->seaborn) (2.8.2)\n",
            "Requirement already satisfied: pytz>=2020.1 in /usr/local/lib/python3.11/dist-packages (from pandas>=1.2->seaborn) (2025.1)\n",
            "Requirement already satisfied: tzdata>=2022.7 in /usr/local/lib/python3.11/dist-packages (from pandas>=1.2->seaborn) (2025.1)\n",
            "Requirement already satisfied: six>=1.5 in /usr/local/lib/python3.11/dist-packages (from python-dateutil>=2.7->matplotlib!=3.6.1,>=3.4->seaborn) (1.17.0)\n"
          ]
        }
      ],
      "source": [
        "%pip install seaborn"
      ]
    },
    {
      "cell_type": "markdown",
      "source": [
        "## 📥 Importación de bibliotecas\n",
        "\n",
        "Para garantizar una mejor organización, es recomendable importar todas las bibliotecas necesarias en un solo bloque de código.  \n"
      ],
      "metadata": {
        "id": "OkeAj5sj9x5v"
      }
    },
    {
      "cell_type": "code",
      "source": [
        "# Importación de bibliotecas esenciales para el análisis\n",
        "import numpy as np  # Operaciones matemáticas y manejo de arrays\n",
        "import pandas as pd  # Manipulación y análisis de datos\n",
        "import matplotlib.pyplot as plt  # Generación de gráficos\n",
        "import seaborn as sns  # Visualización avanzada de datos\n",
        "from scipy import stats  # Funciones estadísticas y análisis avanzado\n",
        "import gdown  # Descarga de archivos desde Google Drive\n",
        "\n",
        "# Habilitar visualización de gráficos en línea en Google Colab\n",
        "%matplotlib inline"
      ],
      "metadata": {
        "id": "_-0A7uDn-HZb"
      },
      "execution_count": 3,
      "outputs": []
    },
    {
      "cell_type": "markdown",
      "source": [
        "## 📥 Importación del conjunto de datos  \n",
        "\n",
        "El conjunto de datos fue modificado en la seccion anterior y ahora está disponible para su uso en esta practica.  \n",
        "\n",
        "### 🔹 Carga de datos desde Google Drive  \n",
        "\n",
        "Para acceder al archivo CSV alojado en Google Drive, utilizaremos `gdown`, una herramienta que permite descargar archivos directamente.  \n",
        "\n",
        "\n",
        "\n",
        "\n"
      ],
      "metadata": {
        "id": "7dCp9bYt-kU3"
      }
    },
    {
      "cell_type": "code",
      "source": [
        "# Enlace al archivo en Google Drive\n",
        "file_url = \"https://drive.google.com/uc?id=17i9hwX_2fD0DTiiIwsRGDgwq8EszYoHQ\"\n",
        "\n",
        "# Descargar el archivo CSV\n",
        "output = \"laptops_data.csv\"\n",
        "gdown.download(file_url, output, quiet=False)"
      ],
      "metadata": {
        "colab": {
          "base_uri": "https://localhost:8080/",
          "height": 105
        },
        "id": "6SVosI2X-_EV",
        "outputId": "4a3a743d-12ee-47bd-9eda-46020470f2f1"
      },
      "execution_count": 4,
      "outputs": [
        {
          "output_type": "stream",
          "name": "stderr",
          "text": [
            "Downloading...\n",
            "From: https://drive.google.com/uc?id=17i9hwX_2fD0DTiiIwsRGDgwq8EszYoHQ\n",
            "To: /content/laptops_data.csv\n",
            "100%|██████████| 20.1k/20.1k [00:00<00:00, 24.8MB/s]\n"
          ]
        },
        {
          "output_type": "execute_result",
          "data": {
            "text/plain": [
              "'laptops_data.csv'"
            ],
            "application/vnd.google.colaboratory.intrinsic+json": {
              "type": "string"
            }
          },
          "metadata": {},
          "execution_count": 4
        }
      ]
    },
    {
      "cell_type": "code",
      "source": [
        "# Cargar el archivo CSV en un DataFrame de pandas\n",
        "df = pd.read_csv(output)\n",
        "\n",
        "# Visualizar las primeras filas del conjunto de datos\n",
        "df.head()"
      ],
      "metadata": {
        "colab": {
          "base_uri": "https://localhost:8080/",
          "height": 244
        },
        "id": "EYy8CbAI_F9K",
        "outputId": "9c4de701-2378-432f-bcb1-eda4d67b0fde"
      },
      "execution_count": 5,
      "outputs": [
        {
          "output_type": "execute_result",
          "data": {
            "text/plain": [
              "   Unnamed: 0.1  Unnamed: 0 Manufacturer  Category  GPU  OS  CPU_core  \\\n",
              "0             0           0         Acer         4    2   1         5   \n",
              "1             1           1         Dell         3    1   1         3   \n",
              "2             2           2         Dell         3    1   1         7   \n",
              "3             3           3         Dell         4    2   1         5   \n",
              "4             4           4           HP         4    2   1         7   \n",
              "\n",
              "   Screen_Size_inch  CPU_frequency  RAM_GB  Storage_GB_SSD  Weight_pounds  \\\n",
              "0              14.0       0.551724       8             256        3.52800   \n",
              "1              15.6       0.689655       4             256        4.85100   \n",
              "2              15.6       0.931034       8             256        4.85100   \n",
              "3              13.3       0.551724       8             128        2.69010   \n",
              "4              15.6       0.620690       8             256        4.21155   \n",
              "\n",
              "   Price Price-binned  Screen-Full_HD  Screen-IPS_panel  \n",
              "0    978          Low               0                 1  \n",
              "1    634          Low               1                 0  \n",
              "2    946          Low               1                 0  \n",
              "3   1244          Low               0                 1  \n",
              "4    837          Low               1                 0  "
            ],
            "text/html": [
              "\n",
              "  <div id=\"df-5aba0fde-6198-4e1e-b0a0-458aa249df50\" class=\"colab-df-container\">\n",
              "    <div>\n",
              "<style scoped>\n",
              "    .dataframe tbody tr th:only-of-type {\n",
              "        vertical-align: middle;\n",
              "    }\n",
              "\n",
              "    .dataframe tbody tr th {\n",
              "        vertical-align: top;\n",
              "    }\n",
              "\n",
              "    .dataframe thead th {\n",
              "        text-align: right;\n",
              "    }\n",
              "</style>\n",
              "<table border=\"1\" class=\"dataframe\">\n",
              "  <thead>\n",
              "    <tr style=\"text-align: right;\">\n",
              "      <th></th>\n",
              "      <th>Unnamed: 0.1</th>\n",
              "      <th>Unnamed: 0</th>\n",
              "      <th>Manufacturer</th>\n",
              "      <th>Category</th>\n",
              "      <th>GPU</th>\n",
              "      <th>OS</th>\n",
              "      <th>CPU_core</th>\n",
              "      <th>Screen_Size_inch</th>\n",
              "      <th>CPU_frequency</th>\n",
              "      <th>RAM_GB</th>\n",
              "      <th>Storage_GB_SSD</th>\n",
              "      <th>Weight_pounds</th>\n",
              "      <th>Price</th>\n",
              "      <th>Price-binned</th>\n",
              "      <th>Screen-Full_HD</th>\n",
              "      <th>Screen-IPS_panel</th>\n",
              "    </tr>\n",
              "  </thead>\n",
              "  <tbody>\n",
              "    <tr>\n",
              "      <th>0</th>\n",
              "      <td>0</td>\n",
              "      <td>0</td>\n",
              "      <td>Acer</td>\n",
              "      <td>4</td>\n",
              "      <td>2</td>\n",
              "      <td>1</td>\n",
              "      <td>5</td>\n",
              "      <td>14.0</td>\n",
              "      <td>0.551724</td>\n",
              "      <td>8</td>\n",
              "      <td>256</td>\n",
              "      <td>3.52800</td>\n",
              "      <td>978</td>\n",
              "      <td>Low</td>\n",
              "      <td>0</td>\n",
              "      <td>1</td>\n",
              "    </tr>\n",
              "    <tr>\n",
              "      <th>1</th>\n",
              "      <td>1</td>\n",
              "      <td>1</td>\n",
              "      <td>Dell</td>\n",
              "      <td>3</td>\n",
              "      <td>1</td>\n",
              "      <td>1</td>\n",
              "      <td>3</td>\n",
              "      <td>15.6</td>\n",
              "      <td>0.689655</td>\n",
              "      <td>4</td>\n",
              "      <td>256</td>\n",
              "      <td>4.85100</td>\n",
              "      <td>634</td>\n",
              "      <td>Low</td>\n",
              "      <td>1</td>\n",
              "      <td>0</td>\n",
              "    </tr>\n",
              "    <tr>\n",
              "      <th>2</th>\n",
              "      <td>2</td>\n",
              "      <td>2</td>\n",
              "      <td>Dell</td>\n",
              "      <td>3</td>\n",
              "      <td>1</td>\n",
              "      <td>1</td>\n",
              "      <td>7</td>\n",
              "      <td>15.6</td>\n",
              "      <td>0.931034</td>\n",
              "      <td>8</td>\n",
              "      <td>256</td>\n",
              "      <td>4.85100</td>\n",
              "      <td>946</td>\n",
              "      <td>Low</td>\n",
              "      <td>1</td>\n",
              "      <td>0</td>\n",
              "    </tr>\n",
              "    <tr>\n",
              "      <th>3</th>\n",
              "      <td>3</td>\n",
              "      <td>3</td>\n",
              "      <td>Dell</td>\n",
              "      <td>4</td>\n",
              "      <td>2</td>\n",
              "      <td>1</td>\n",
              "      <td>5</td>\n",
              "      <td>13.3</td>\n",
              "      <td>0.551724</td>\n",
              "      <td>8</td>\n",
              "      <td>128</td>\n",
              "      <td>2.69010</td>\n",
              "      <td>1244</td>\n",
              "      <td>Low</td>\n",
              "      <td>0</td>\n",
              "      <td>1</td>\n",
              "    </tr>\n",
              "    <tr>\n",
              "      <th>4</th>\n",
              "      <td>4</td>\n",
              "      <td>4</td>\n",
              "      <td>HP</td>\n",
              "      <td>4</td>\n",
              "      <td>2</td>\n",
              "      <td>1</td>\n",
              "      <td>7</td>\n",
              "      <td>15.6</td>\n",
              "      <td>0.620690</td>\n",
              "      <td>8</td>\n",
              "      <td>256</td>\n",
              "      <td>4.21155</td>\n",
              "      <td>837</td>\n",
              "      <td>Low</td>\n",
              "      <td>1</td>\n",
              "      <td>0</td>\n",
              "    </tr>\n",
              "  </tbody>\n",
              "</table>\n",
              "</div>\n",
              "    <div class=\"colab-df-buttons\">\n",
              "\n",
              "  <div class=\"colab-df-container\">\n",
              "    <button class=\"colab-df-convert\" onclick=\"convertToInteractive('df-5aba0fde-6198-4e1e-b0a0-458aa249df50')\"\n",
              "            title=\"Convert this dataframe to an interactive table.\"\n",
              "            style=\"display:none;\">\n",
              "\n",
              "  <svg xmlns=\"http://www.w3.org/2000/svg\" height=\"24px\" viewBox=\"0 -960 960 960\">\n",
              "    <path d=\"M120-120v-720h720v720H120Zm60-500h600v-160H180v160Zm220 220h160v-160H400v160Zm0 220h160v-160H400v160ZM180-400h160v-160H180v160Zm440 0h160v-160H620v160ZM180-180h160v-160H180v160Zm440 0h160v-160H620v160Z\"/>\n",
              "  </svg>\n",
              "    </button>\n",
              "\n",
              "  <style>\n",
              "    .colab-df-container {\n",
              "      display:flex;\n",
              "      gap: 12px;\n",
              "    }\n",
              "\n",
              "    .colab-df-convert {\n",
              "      background-color: #E8F0FE;\n",
              "      border: none;\n",
              "      border-radius: 50%;\n",
              "      cursor: pointer;\n",
              "      display: none;\n",
              "      fill: #1967D2;\n",
              "      height: 32px;\n",
              "      padding: 0 0 0 0;\n",
              "      width: 32px;\n",
              "    }\n",
              "\n",
              "    .colab-df-convert:hover {\n",
              "      background-color: #E2EBFA;\n",
              "      box-shadow: 0px 1px 2px rgba(60, 64, 67, 0.3), 0px 1px 3px 1px rgba(60, 64, 67, 0.15);\n",
              "      fill: #174EA6;\n",
              "    }\n",
              "\n",
              "    .colab-df-buttons div {\n",
              "      margin-bottom: 4px;\n",
              "    }\n",
              "\n",
              "    [theme=dark] .colab-df-convert {\n",
              "      background-color: #3B4455;\n",
              "      fill: #D2E3FC;\n",
              "    }\n",
              "\n",
              "    [theme=dark] .colab-df-convert:hover {\n",
              "      background-color: #434B5C;\n",
              "      box-shadow: 0px 1px 3px 1px rgba(0, 0, 0, 0.15);\n",
              "      filter: drop-shadow(0px 1px 2px rgba(0, 0, 0, 0.3));\n",
              "      fill: #FFFFFF;\n",
              "    }\n",
              "  </style>\n",
              "\n",
              "    <script>\n",
              "      const buttonEl =\n",
              "        document.querySelector('#df-5aba0fde-6198-4e1e-b0a0-458aa249df50 button.colab-df-convert');\n",
              "      buttonEl.style.display =\n",
              "        google.colab.kernel.accessAllowed ? 'block' : 'none';\n",
              "\n",
              "      async function convertToInteractive(key) {\n",
              "        const element = document.querySelector('#df-5aba0fde-6198-4e1e-b0a0-458aa249df50');\n",
              "        const dataTable =\n",
              "          await google.colab.kernel.invokeFunction('convertToInteractive',\n",
              "                                                    [key], {});\n",
              "        if (!dataTable) return;\n",
              "\n",
              "        const docLinkHtml = 'Like what you see? Visit the ' +\n",
              "          '<a target=\"_blank\" href=https://colab.research.google.com/notebooks/data_table.ipynb>data table notebook</a>'\n",
              "          + ' to learn more about interactive tables.';\n",
              "        element.innerHTML = '';\n",
              "        dataTable['output_type'] = 'display_data';\n",
              "        await google.colab.output.renderOutput(dataTable, element);\n",
              "        const docLink = document.createElement('div');\n",
              "        docLink.innerHTML = docLinkHtml;\n",
              "        element.appendChild(docLink);\n",
              "      }\n",
              "    </script>\n",
              "  </div>\n",
              "\n",
              "\n",
              "<div id=\"df-eb735663-43ab-4c6b-9077-c013cc78a915\">\n",
              "  <button class=\"colab-df-quickchart\" onclick=\"quickchart('df-eb735663-43ab-4c6b-9077-c013cc78a915')\"\n",
              "            title=\"Suggest charts\"\n",
              "            style=\"display:none;\">\n",
              "\n",
              "<svg xmlns=\"http://www.w3.org/2000/svg\" height=\"24px\"viewBox=\"0 0 24 24\"\n",
              "     width=\"24px\">\n",
              "    <g>\n",
              "        <path d=\"M19 3H5c-1.1 0-2 .9-2 2v14c0 1.1.9 2 2 2h14c1.1 0 2-.9 2-2V5c0-1.1-.9-2-2-2zM9 17H7v-7h2v7zm4 0h-2V7h2v10zm4 0h-2v-4h2v4z\"/>\n",
              "    </g>\n",
              "</svg>\n",
              "  </button>\n",
              "\n",
              "<style>\n",
              "  .colab-df-quickchart {\n",
              "      --bg-color: #E8F0FE;\n",
              "      --fill-color: #1967D2;\n",
              "      --hover-bg-color: #E2EBFA;\n",
              "      --hover-fill-color: #174EA6;\n",
              "      --disabled-fill-color: #AAA;\n",
              "      --disabled-bg-color: #DDD;\n",
              "  }\n",
              "\n",
              "  [theme=dark] .colab-df-quickchart {\n",
              "      --bg-color: #3B4455;\n",
              "      --fill-color: #D2E3FC;\n",
              "      --hover-bg-color: #434B5C;\n",
              "      --hover-fill-color: #FFFFFF;\n",
              "      --disabled-bg-color: #3B4455;\n",
              "      --disabled-fill-color: #666;\n",
              "  }\n",
              "\n",
              "  .colab-df-quickchart {\n",
              "    background-color: var(--bg-color);\n",
              "    border: none;\n",
              "    border-radius: 50%;\n",
              "    cursor: pointer;\n",
              "    display: none;\n",
              "    fill: var(--fill-color);\n",
              "    height: 32px;\n",
              "    padding: 0;\n",
              "    width: 32px;\n",
              "  }\n",
              "\n",
              "  .colab-df-quickchart:hover {\n",
              "    background-color: var(--hover-bg-color);\n",
              "    box-shadow: 0 1px 2px rgba(60, 64, 67, 0.3), 0 1px 3px 1px rgba(60, 64, 67, 0.15);\n",
              "    fill: var(--button-hover-fill-color);\n",
              "  }\n",
              "\n",
              "  .colab-df-quickchart-complete:disabled,\n",
              "  .colab-df-quickchart-complete:disabled:hover {\n",
              "    background-color: var(--disabled-bg-color);\n",
              "    fill: var(--disabled-fill-color);\n",
              "    box-shadow: none;\n",
              "  }\n",
              "\n",
              "  .colab-df-spinner {\n",
              "    border: 2px solid var(--fill-color);\n",
              "    border-color: transparent;\n",
              "    border-bottom-color: var(--fill-color);\n",
              "    animation:\n",
              "      spin 1s steps(1) infinite;\n",
              "  }\n",
              "\n",
              "  @keyframes spin {\n",
              "    0% {\n",
              "      border-color: transparent;\n",
              "      border-bottom-color: var(--fill-color);\n",
              "      border-left-color: var(--fill-color);\n",
              "    }\n",
              "    20% {\n",
              "      border-color: transparent;\n",
              "      border-left-color: var(--fill-color);\n",
              "      border-top-color: var(--fill-color);\n",
              "    }\n",
              "    30% {\n",
              "      border-color: transparent;\n",
              "      border-left-color: var(--fill-color);\n",
              "      border-top-color: var(--fill-color);\n",
              "      border-right-color: var(--fill-color);\n",
              "    }\n",
              "    40% {\n",
              "      border-color: transparent;\n",
              "      border-right-color: var(--fill-color);\n",
              "      border-top-color: var(--fill-color);\n",
              "    }\n",
              "    60% {\n",
              "      border-color: transparent;\n",
              "      border-right-color: var(--fill-color);\n",
              "    }\n",
              "    80% {\n",
              "      border-color: transparent;\n",
              "      border-right-color: var(--fill-color);\n",
              "      border-bottom-color: var(--fill-color);\n",
              "    }\n",
              "    90% {\n",
              "      border-color: transparent;\n",
              "      border-bottom-color: var(--fill-color);\n",
              "    }\n",
              "  }\n",
              "</style>\n",
              "\n",
              "  <script>\n",
              "    async function quickchart(key) {\n",
              "      const quickchartButtonEl =\n",
              "        document.querySelector('#' + key + ' button');\n",
              "      quickchartButtonEl.disabled = true;  // To prevent multiple clicks.\n",
              "      quickchartButtonEl.classList.add('colab-df-spinner');\n",
              "      try {\n",
              "        const charts = await google.colab.kernel.invokeFunction(\n",
              "            'suggestCharts', [key], {});\n",
              "      } catch (error) {\n",
              "        console.error('Error during call to suggestCharts:', error);\n",
              "      }\n",
              "      quickchartButtonEl.classList.remove('colab-df-spinner');\n",
              "      quickchartButtonEl.classList.add('colab-df-quickchart-complete');\n",
              "    }\n",
              "    (() => {\n",
              "      let quickchartButtonEl =\n",
              "        document.querySelector('#df-eb735663-43ab-4c6b-9077-c013cc78a915 button');\n",
              "      quickchartButtonEl.style.display =\n",
              "        google.colab.kernel.accessAllowed ? 'block' : 'none';\n",
              "    })();\n",
              "  </script>\n",
              "</div>\n",
              "\n",
              "    </div>\n",
              "  </div>\n"
            ],
            "application/vnd.google.colaboratory.intrinsic+json": {
              "type": "dataframe",
              "variable_name": "df",
              "summary": "{\n  \"name\": \"df\",\n  \"rows\": 238,\n  \"fields\": [\n    {\n      \"column\": \"Unnamed: 0.1\",\n      \"properties\": {\n        \"dtype\": \"number\",\n        \"std\": 68,\n        \"min\": 0,\n        \"max\": 237,\n        \"num_unique_values\": 238,\n        \"samples\": [\n          115,\n          15,\n          212\n        ],\n        \"semantic_type\": \"\",\n        \"description\": \"\"\n      }\n    },\n    {\n      \"column\": \"Unnamed: 0\",\n      \"properties\": {\n        \"dtype\": \"number\",\n        \"std\": 68,\n        \"min\": 0,\n        \"max\": 237,\n        \"num_unique_values\": 238,\n        \"samples\": [\n          115,\n          15,\n          212\n        ],\n        \"semantic_type\": \"\",\n        \"description\": \"\"\n      }\n    },\n    {\n      \"column\": \"Manufacturer\",\n      \"properties\": {\n        \"dtype\": \"category\",\n        \"num_unique_values\": 11,\n        \"samples\": [\n          \"Huawei\",\n          \"Acer\",\n          \"Samsung\"\n        ],\n        \"semantic_type\": \"\",\n        \"description\": \"\"\n      }\n    },\n    {\n      \"column\": \"Category\",\n      \"properties\": {\n        \"dtype\": \"number\",\n        \"std\": 0,\n        \"min\": 1,\n        \"max\": 5,\n        \"num_unique_values\": 5,\n        \"samples\": [\n          3,\n          2,\n          1\n        ],\n        \"semantic_type\": \"\",\n        \"description\": \"\"\n      }\n    },\n    {\n      \"column\": \"GPU\",\n      \"properties\": {\n        \"dtype\": \"number\",\n        \"std\": 0,\n        \"min\": 1,\n        \"max\": 3,\n        \"num_unique_values\": 3,\n        \"samples\": [\n          2,\n          1,\n          3\n        ],\n        \"semantic_type\": \"\",\n        \"description\": \"\"\n      }\n    },\n    {\n      \"column\": \"OS\",\n      \"properties\": {\n        \"dtype\": \"number\",\n        \"std\": 0,\n        \"min\": 1,\n        \"max\": 2,\n        \"num_unique_values\": 2,\n        \"samples\": [\n          2,\n          1\n        ],\n        \"semantic_type\": \"\",\n        \"description\": \"\"\n      }\n    },\n    {\n      \"column\": \"CPU_core\",\n      \"properties\": {\n        \"dtype\": \"number\",\n        \"std\": 1,\n        \"min\": 3,\n        \"max\": 7,\n        \"num_unique_values\": 3,\n        \"samples\": [\n          5,\n          3\n        ],\n        \"semantic_type\": \"\",\n        \"description\": \"\"\n      }\n    },\n    {\n      \"column\": \"Screen_Size_inch\",\n      \"properties\": {\n        \"dtype\": \"number\",\n        \"std\": 1.1660445051394153,\n        \"min\": 12.0,\n        \"max\": 17.3,\n        \"num_unique_values\": 9,\n        \"samples\": [\n          12.5,\n          15.6\n        ],\n        \"semantic_type\": \"\",\n        \"description\": \"\"\n      }\n    },\n    {\n      \"column\": \"CPU_frequency\",\n      \"properties\": {\n        \"dtype\": \"number\",\n        \"std\": 0.14185951867902602,\n        \"min\": 0.4137931034482758,\n        \"max\": 1.0,\n        \"num_unique_values\": 11,\n        \"samples\": [\n          0.8275862068965517,\n          0.5517241379310345\n        ],\n        \"semantic_type\": \"\",\n        \"description\": \"\"\n      }\n    },\n    {\n      \"column\": \"RAM_GB\",\n      \"properties\": {\n        \"dtype\": \"number\",\n        \"std\": 2,\n        \"min\": 4,\n        \"max\": 16,\n        \"num_unique_values\": 5,\n        \"samples\": [\n          4,\n          12\n        ],\n        \"semantic_type\": \"\",\n        \"description\": \"\"\n      }\n    },\n    {\n      \"column\": \"Storage_GB_SSD\",\n      \"properties\": {\n        \"dtype\": \"number\",\n        \"std\": 34,\n        \"min\": 128,\n        \"max\": 256,\n        \"num_unique_values\": 2,\n        \"samples\": [\n          128,\n          256\n        ],\n        \"semantic_type\": \"\",\n        \"description\": \"\"\n      }\n    },\n    {\n      \"column\": \"Weight_pounds\",\n      \"properties\": {\n        \"dtype\": \"number\",\n        \"std\": 1.0784424972042663,\n        \"min\": 1.78605,\n        \"max\": 7.938000000000001,\n        \"num_unique_values\": 78,\n        \"samples\": [\n          4.29975,\n          3.5280000000000005\n        ],\n        \"semantic_type\": \"\",\n        \"description\": \"\"\n      }\n    },\n    {\n      \"column\": \"Price\",\n      \"properties\": {\n        \"dtype\": \"number\",\n        \"std\": 574,\n        \"min\": 527,\n        \"max\": 3810,\n        \"num_unique_values\": 193,\n        \"samples\": [\n          1172,\n          1598\n        ],\n        \"semantic_type\": \"\",\n        \"description\": \"\"\n      }\n    },\n    {\n      \"column\": \"Price-binned\",\n      \"properties\": {\n        \"dtype\": \"category\",\n        \"num_unique_values\": 3,\n        \"samples\": [\n          \"Low\",\n          \"Medium\"\n        ],\n        \"semantic_type\": \"\",\n        \"description\": \"\"\n      }\n    },\n    {\n      \"column\": \"Screen-Full_HD\",\n      \"properties\": {\n        \"dtype\": \"number\",\n        \"std\": 0,\n        \"min\": 0,\n        \"max\": 1,\n        \"num_unique_values\": 2,\n        \"samples\": [\n          1,\n          0\n        ],\n        \"semantic_type\": \"\",\n        \"description\": \"\"\n      }\n    },\n    {\n      \"column\": \"Screen-IPS_panel\",\n      \"properties\": {\n        \"dtype\": \"number\",\n        \"std\": 0,\n        \"min\": 0,\n        \"max\": 1,\n        \"num_unique_values\": 2,\n        \"samples\": [\n          0,\n          1\n        ],\n        \"semantic_type\": \"\",\n        \"description\": \"\"\n      }\n    }\n  ]\n}"
            }
          },
          "metadata": {},
          "execution_count": 5
        }
      ]
    },
    {
      "cell_type": "markdown",
      "source": [
        "# 🎯 Tarea 1 - Visualización de patrones en características individuales  \n",
        "\n",
        "## 📌 Variables de valor continuo  \n",
        "\n",
        "En este paso, generaras gráficos de regresión para analizar la relación entre cada una de las siguientes características y el precio (`Price`):  \n",
        "\n",
        "- **Frecuencia del CPU** (`CPU_frequency`)  \n",
        "- **Tamaño de pantalla (pulgadas)** (`Screen_Size_inch`)  \n",
        "- **Peso (libras)** (`Weight_pounds`)  \n",
        "\n",
        "Calcularas el coeficiente de correlación de Pearson para medir la relación entre estas variables y el precio.  \n",
        "\n",
        "\n",
        "\n"
      ],
      "metadata": {
        "id": "s2rIb83p_X01"
      }
    },
    {
      "cell_type": "code",
      "source": [
        "# Escriba su código a continuación\n",
        "# Gráfico de caja por categoría\n"
      ],
      "metadata": {
        "id": "mVuvVEOi_YH8"
      },
      "execution_count": 11,
      "outputs": []
    },
    {
      "cell_type": "markdown",
      "source": [
        "<details>\n",
        "    <summary>Clic aqui para ver la solucion🔎</summary>\n",
        "\n",
        "```python\n",
        "# 📊 Box plot: Precio según la categoría del portátil\n",
        "sns.boxplot(x=\"Category\", y=\"Price\", data=df)\n",
        "```\n",
        "\n",
        "</details>"
      ],
      "metadata": {
        "id": "UwlwhtVM_eEW"
      }
    },
    {
      "cell_type": "code",
      "source": [
        "# Escriba su código a continuación\n",
        "# Gráfico de caja por tarjeta gráfica (GPU)\n"
      ],
      "metadata": {
        "id": "v0Yje8qyClls"
      },
      "execution_count": 13,
      "outputs": []
    },
    {
      "cell_type": "markdown",
      "source": [
        "<details>\n",
        "    <summary>Clic aqui para ver la solucion🔎</summary>\n",
        "\n",
        "```python\n",
        "sns.boxplot(x=\"GPU\", y=\"Price\", data=df)\n",
        "```\n",
        "\n",
        "</details>"
      ],
      "metadata": {
        "id": "dioa6JxyCWC-"
      }
    },
    {
      "cell_type": "code",
      "source": [
        "# Escriba su código a continuación\n"
      ],
      "metadata": {
        "id": "S9ZRveQiCmv2"
      },
      "execution_count": null,
      "outputs": []
    },
    {
      "cell_type": "markdown",
      "source": [
        "<details>\n",
        "    <summary>Clic aqui para ver la solucion🔎</summary>\n",
        "\n",
        "```python\n",
        "\n",
        "```\n",
        "\n",
        "</details>"
      ],
      "metadata": {
        "id": "dl3yIctGBLXF"
      }
    },
    {
      "cell_type": "code",
      "source": [
        "# Escriba su código a continuación\n",
        "# Gráfico de caja por sistema operativo (OS)\n"
      ],
      "metadata": {
        "id": "CjWSbgeTCnrk"
      },
      "execution_count": 15,
      "outputs": []
    },
    {
      "cell_type": "markdown",
      "source": [
        "<details>\n",
        "    <summary>Clic aqui para ver la solucion🔎</summary>\n",
        "\n",
        "```python\n",
        "sns.boxplot(x=\"OS\", y=\"Price\", data=df)\n",
        "```\n",
        "\n",
        "</details>"
      ],
      "metadata": {
        "id": "gAwehypfChz_"
      }
    },
    {
      "cell_type": "code",
      "source": [
        "# Escriba su código a continuación\n",
        "# Gráfico de caja por núcleos del CPU ( CPU_core)\n"
      ],
      "metadata": {
        "id": "B2Sz0TpcCoNg"
      },
      "execution_count": 17,
      "outputs": []
    },
    {
      "cell_type": "markdown",
      "source": [
        "<details>\n",
        "    <summary>Clic aqui para ver la solucion🔎</summary>\n",
        "\n",
        "```python\n",
        "sns.boxplot(x=\"CPU_core\", y=\"Price\", data=df)\n",
        "```\n",
        "\n",
        "</details>"
      ],
      "metadata": {
        "id": "5J57_7SRCiWF"
      }
    },
    {
      "cell_type": "code",
      "source": [
        "# Escriba su código a continuación\n",
        "# Gráfico de caja por memoria RAM (GB)\n"
      ],
      "metadata": {
        "id": "yKWvAgTkCi1R"
      },
      "execution_count": 19,
      "outputs": []
    },
    {
      "cell_type": "markdown",
      "source": [
        "<details>\n",
        "    <summary>Clic aqui para ver la solucion🔎</summary>\n",
        "\n",
        "```python\n",
        "sns.boxplot(x=\"RAM_GB\", y=\"Price\", data=df)\n",
        "```\n",
        "\n",
        "</details>"
      ],
      "metadata": {
        "id": "kukDyjcOA22Y"
      }
    },
    {
      "cell_type": "code",
      "source": [
        "# Escriba su código a continuación\n",
        "# Gráfico de caja por almacenamiento SSD (GB)\n"
      ],
      "metadata": {
        "id": "YoxzrEuVDhd7"
      },
      "execution_count": 21,
      "outputs": []
    },
    {
      "cell_type": "markdown",
      "source": [
        "<details>\n",
        "    <summary>Clic aqui para ver la solucion🔎</summary>\n",
        "\n",
        "```python\n",
        "sns.boxplot(x=\"Storage_GB_SSD\", y=\"Price\", data=df)\n",
        "```\n",
        "\n",
        "</details>"
      ],
      "metadata": {
        "id": "jiAMlGZSDlBl"
      }
    },
    {
      "cell_type": "markdown",
      "source": [
        "# 🎯 Tarea 2 - Análisis estadístico descriptivo  \n",
        "\n",
        "En esta sección, generaras un **resumen estadístico** de todas las características del conjunto de datos.  \n",
        "\n",
        "✅ Calcularas estadísticas clave para:  \n",
        "- **Variables numéricas**: Media, desviación estándar, valores mínimo y máximo, percentiles, etc.  \n",
        "- **Variables categóricas**: Cantidad de valores únicos, frecuencia del valor más común, etc.  \n",
        "\n",
        "\n"
      ],
      "metadata": {
        "id": "k4XC6fTSDy94"
      }
    },
    {
      "cell_type": "code",
      "source": [
        "# Escriba su código a continuación\n"
      ],
      "metadata": {
        "id": "6JNftszkG_9N"
      },
      "execution_count": 23,
      "outputs": []
    },
    {
      "cell_type": "markdown",
      "source": [
        "<details>\n",
        "    <summary>🔎 Clic aquí para ver la solución</summary>  \n",
        "\n",
        "```python\n",
        "# Análisis de las características numéricas del dataset\n",
        "print(\"📌 Estadísticas de variables numéricas:\")\n",
        "print(df.describe())\n",
        "\n",
        "# 📊 Análisis de las características categóricas (tipo 'object')\n",
        "print(\"\\n📌 Estadísticas de variables categóricas:\")\n",
        "print(df.describe(include=['object']))\n",
        "```\n",
        "</details>\n"
      ],
      "metadata": {
        "id": "ZjRVKnheHACp"
      }
    },
    {
      "cell_type": "markdown",
      "source": [
        "# 🎯 Tarea 3 - Agrupaciones y Tablas Dinámicas  \n",
        "\n",
        "En esta tarea, exploraras la relación entre **GPU, CPU_core y Price** mediante:  \n",
        "1️⃣ **Agrupación (`groupby`)** para calcular el precio promedio según **GPU y número de núcleos del CPU**.  \n",
        "2️⃣ **Creación de una tabla dinámica (`pivot table`)** para estructurar los datos de manera visualmente comprensible.  \n",
        "3️⃣ **Generación de un mapa de colores (`pcolor plot`)** para visualizar la relación entre las variables.  \n",
        "\n"
      ],
      "metadata": {
        "id": "XEDKZQMMHyfm"
      }
    },
    {
      "cell_type": "code",
      "source": [
        "# Escriba su código a continuación\n",
        "#Creación del grupo\n"
      ],
      "metadata": {
        "id": "eFhqQnDyHziN"
      },
      "execution_count": 25,
      "outputs": []
    },
    {
      "cell_type": "markdown",
      "source": [
        "<details>\n",
        "    <summary>🔎 Clic aquí para ver la solución</summary>  \n",
        "    \n",
        "```python\n",
        "# Seleccionamos las columnas de interés para el análisis\n",
        "df_gptest = df[['GPU', 'CPU_core', 'Price']]\n",
        "\n",
        "# Agrupamos los datos por GPU y CPU_core, calculando el precio promedio\n",
        "grouped_test1 = df_gptest.groupby(['GPU', 'CPU_core'], as_index=False).mean()\n",
        "\n",
        "# Mostramos el resultado de la agrupación\n",
        "print(\"📊 Datos agrupados por GPU y CPU_core con el precio promedio:\")\n",
        "print(grouped_test1)\n",
        "```\n",
        "</details>"
      ],
      "metadata": {
        "id": "RuROti36HzpY"
      }
    },
    {
      "cell_type": "code",
      "source": [
        "# Escriba su código a continuación\n",
        "# Creación de la Tabla Dinámica\n"
      ],
      "metadata": {
        "id": "AEXkmxtpJWEt"
      },
      "execution_count": 27,
      "outputs": []
    },
    {
      "cell_type": "markdown",
      "source": [
        "<details>\n",
        "    <summary>🔎 Clic aquí para ver la solución</summary>  \n",
        "    \n",
        "```python\n",
        "# Creamos una tabla dinámica para organizar los datos en formato de matriz\n",
        "grouped_pivot = grouped_test1.pivot(index='GPU', columns='CPU_core', values='Price')\n",
        "\n",
        "# Mostramos la tabla dinámica resultante\n",
        "print(\"📊 Tabla dinámica (Pivot Table) con GPU como índice y CPU_core como columnas:\")\n",
        "print(grouped_pivot)\n",
        "\n",
        "```\n",
        "</details>"
      ],
      "metadata": {
        "id": "JN4SRYxOJbem"
      }
    },
    {
      "cell_type": "code",
      "source": [
        "# Escriba su código a continuación\n",
        "# Visualización conpcolor plot\n"
      ],
      "metadata": {
        "id": "Ss5DWVz7JivN"
      },
      "execution_count": 29,
      "outputs": []
    },
    {
      "cell_type": "markdown",
      "source": [
        "<details>\n",
        "    <summary>🔎 Clic aquí para ver la solución</summary>  \n",
        "    \n",
        "```python\n",
        "# Creamos la figura y los ejes para la visualización\n",
        "fig, ax = plt.subplots(figsize=(10, 6))  # Ajustamos el tamaño de la gráfica\n",
        "\n",
        "# Creamos el mapa de colores basado en los valores de la tabla dinámica\n",
        "im = ax.pcolor(grouped_pivot, cmap='RdBu')\n",
        "\n",
        "# Extraemos los nombres de las etiquetas para las filas y columnas\n",
        "row_labels = grouped_pivot.columns.astype(str)  # Convertimos a string para evitar errores\n",
        "col_labels = grouped_pivot.index.astype(str)\n",
        "\n",
        "# Ajustamos las posiciones de los ticks y etiquetas\n",
        "ax.set_xticks(np.arange(len(row_labels)) + 0.5, minor=False)\n",
        "ax.set_yticks(np.arange(len(col_labels)) + 0.5, minor=False)\n",
        "\n",
        "# Asignamos las etiquetas correspondientes a los ejes\n",
        "ax.set_xticklabels(row_labels, minor=False, rotation=90)  # Rotamos para mayor legibilidad\n",
        "ax.set_yticklabels(col_labels, minor=False)\n",
        "\n",
        "# 🎨 Agregamos una barra de color para interpretar la escala\n",
        "fig.colorbar(im)\n",
        "\n",
        "# Mostramos el gráfico\n",
        "plt.title(\"Mapa de colores: Relación entre GPU, CPU_core y Precio\")\n",
        "plt.xlabel(\"CPU_core\")\n",
        "plt.ylabel(\"GPU\")\n",
        "plt.show()\n",
        "```\n",
        "</details>"
      ],
      "metadata": {
        "id": "3B9Bqm6vJps7"
      }
    },
    {
      "cell_type": "markdown",
      "source": [
        "La tabla dinámica nos ayuda a visualizar cómo varía el precio promedio según la combinación de GPU y CPU_core .\n",
        "El mapa de colores ( pcolor plot) representa esta relación de forma visual, donde los colores indican los valores del precio promedio."
      ],
      "metadata": {
        "id": "QOBmfTQZJ_GH"
      }
    },
    {
      "cell_type": "markdown",
      "source": [
        "# 🎯 Tarea 4 - Correlación de Pearson y valores p  \n",
        "\n",
        "En esta tarea, evaluaras la **fuerza y dirección** de la relación entre diferentes características de las laptops y su precio mediante:  \n",
        "✅ **Coeficiente de correlación de Pearson**: Indica qué tan fuerte es la relación entre dos variables.  \n",
        "✅ **Valor p (p-value)**: Determina la significancia estadística de la correlación.  \n",
        "\n",
        "📌 **Reglas de interpretación:**  \n",
        "🔹 Si el coeficiente de Pearson **está cerca de +1 o -1**, la relación es fuerte.  \n",
        "🔹 Si el **valor p < 0.05**, la correlación es estadísticamente significativa.  \n",
        "\n",
        "\n"
      ],
      "metadata": {
        "id": "v00cHUzNKCyB"
      }
    },
    {
      "cell_type": "code",
      "source": [
        "# Escriba su código a continuación\n",
        "# Cálculo del coeficiente de Pearson y p-value\n"
      ],
      "metadata": {
        "id": "fvkmqYtXKNxc"
      },
      "execution_count": 33,
      "outputs": []
    },
    {
      "cell_type": "markdown",
      "source": [
        "<details>\n",
        "    <summary>🔎 Clic aquí para ver la solución</summary>  \n",
        "\n",
        "```python\n",
        "# Lista de características a analizar\n",
        "features = ['RAM_GB', 'CPU_frequency', 'Storage_GB_SSD', 'Screen_Size_inch',\n",
        "            'Weight_pounds', 'CPU_core', 'OS', 'GPU', 'Category']\n",
        "\n",
        "# Iteramos sobre cada característica y calculamos su correlación con el precio\n",
        "for param in features:\n",
        "    pearson_coef, p_value = stats.pearsonr(df[param], df['Price'])  # Calculamos Pearson y p-value\n",
        "    \n",
        "    # Imprimimos los resultados con una mejor presentación\n",
        "    print(f\"🔹 {param}:\")\n",
        "    print(f\"   📊 Coeficiente de Pearson: {pearson_coef:.4f}\")\n",
        "    print(f\"   🏷️ P-value: {p_value:.4f}\")\n",
        "\n",
        "    # Interpretación rápida de la relación\n",
        "    if p_value < 0.05:\n",
        "        print(\"   ✅ Correlación significativa con el precio 💰\")\n",
        "    else:\n",
        "        print(\"   ❌ Correlación no significativa\")\n",
        "    print(\"-\" * 50)  # Separador visual\n",
        "    ```\n",
        "\n",
        "   </details>\n"
      ],
      "metadata": {
        "id": "EYFy44QeKcKQ"
      }
    },
    {
      "cell_type": "markdown",
      "source": [
        "# 📝 Task 5 - Reflexión y comparación de resultados  \n",
        "\n",
        "## 🎯 **Objetivo de la tarea**  \n",
        "Ahora que has realizado el análisis exploratorio de datos (EDA) y evaluado las correlaciones entre las diferentes características de las laptops y su precio, es momento de reflexionar sobre los resultados obtenidos.  \n",
        "\n",
        "## 📌 **Instrucciones**  \n",
        "1. **Analiza los resultados de la práctica** y redacta tus propias **conclusiones** sobre los factores que impactan en el precio de las laptops.  \n",
        "2. **Compara tu análisis** con el que se presenta a continuación.  \n",
        "3. Identifica **diferencias o similitudes** y reflexiona sobre posibles razones de estas diferencias.  \n",
        "\n",
        "\n"
      ],
      "metadata": {
        "id": "4bN-icn7LMOx"
      }
    },
    {
      "cell_type": "markdown",
      "source": [
        "<details>\n",
        "    <summary>🔎 Clic aquí para ver la solución</summary>  \n",
        "\n",
        "```python\n",
        "📊 Análisis Exploratorio de Datos (EDA) - Resultados y Conclusiones  \n",
        "\n",
        "Este análisis exploratorio de datos (EDA) tiene como objetivo comprender la relación entre diferentes características de las laptops y su precio. Se han utilizado técnicas estadísticas y visualización de datos para identificar patrones, tendencias y correlaciones significativas.\n",
        "\n",
        "🔎 Principales resultados  \n",
        "\n",
        "🔹 Distribución de precios y características\n",
        "- Se observa una gran variabilidad en los precios de las laptops.  \n",
        "- Existen diferencias notables en precio según la categoría, sistema operativo y la presencia de una GPU dedicada.  \n",
        "- Las características técnicas como la RAM, CPU y almacenamiento SSD presentan una tendencia positiva con el precio.  \n",
        "\n",
        "🔹 Correlaciones destacadas con el precio 💰  \n",
        "Las siguientes características muestran una correlación estadísticamente significativa con el precio:  \n",
        "1. RAM_GB (Coef. = 0.5493, p-value = 0.0000)  \n",
        "   - La cantidad de RAM tiene una relación positiva moderadamente fuerte con el precio.  \n",
        "   - Laptops con mayor RAM tienden a ser más costosas.  \n",
        "\n",
        "2. CPU_frequency (Coef. = 0.3667, p-value = 0.0000)  \n",
        "   - Existe una correlación positiva moderada.  \n",
        "   - Procesadores con mayor frecuencia suelen incrementar el precio de la laptop.  \n",
        "\n",
        "3. CPU_core (Coef. = 0.4594, p-value = 0.0000)  \n",
        "   - Relación positiva moderada.  \n",
        "   - Un mayor número de núcleos en el procesador está asociado con laptops más caras.  \n",
        "\n",
        "4. Storage_GB_SSD (Coef. = 0.2434, p-value = 0.0001)  \n",
        "   - Relación positiva débil, pero significativa.  \n",
        "   - Laptops con mayor capacidad de almacenamiento SSD tienden a ser más costosas.  \n",
        "\n",
        "5. GPU (Coef. = 0.2883, p-value = 0.0000)\n",
        "   - Relación positiva moderada.  \n",
        "   - Laptops con tarjetas gráficas dedicadas suelen tener precios más altos.  \n",
        "\n",
        "6. OS (Coef. = -0.2217, p-value = 0.0006)\n",
        "   - Relación negativa significativa.  \n",
        "   - Algunos sistemas operativos están más asociados con laptops de menor costo.  \n",
        "\n",
        "7. Categoría (Coef. = 0.2862, p-value = 0.0000)\n",
        "   - Relación positiva moderada.  \n",
        "   - La categoría de la laptop tiene un impacto en su precio.  \n",
        "\n",
        "🔹 Variables sin correlación significativa\n",
        "Las siguientes características no mostraron una relación estadísticamente significativa con el precio:  \n",
        "- Screen_Size_inch (Coef. = -0.1106, p-value = 0.0885): El tamaño de la pantalla no es un factor determinante en el costo.  \n",
        "- Weight_pounds (Coef. = -0.0503, p-value = 0.4398): El peso de la laptop no tiene una relación clara con el precio.  \n",
        "\n",
        "---\n",
        "\n",
        "📌 Conclusion oficial\n",
        "\n",
        "✅ Factores Clave que Impactan el Precio:  \n",
        "- La cantidad de RAM, la frecuencia del CPU, el número de núcleos, la GPU, la capacidad de almacenamiento SSD y la categoría** de la laptop son los factores más influyentes en su precio.  \n",
        "\n",
        "✅ El sistema operativo tiene un impacto en el precio, pero de manera negativa, lo que sugiere que algunas laptops con ciertos OS son más económicas.  \n",
        "\n",
        "❌ El tamaño de la pantalla y el peso no son determinantes en el precio de las laptops.  \n",
        "\n",
        "🚀 Este análisis puede ser útil para consumidores y fabricantes en la toma de decisiones informadas sobre la compra, venta y fabricación de laptops.\n",
        "```\n",
        "\n",
        "   </details>"
      ],
      "metadata": {
        "id": "9CvLNhcKL8yg"
      }
    },
    {
      "cell_type": "markdown",
      "source": [
        "## 🤔 **Reflexión final**  \n",
        "- ¿Tu análisis coincide con la conclusión oficial?  \n",
        "- ¿Existen diferencias o puntos adicionales que consideraste?  \n",
        "- ¿Cómo interpretarías estos hallazgos en un contexto real?  \n",
        "\n",
        "💡 **Comparar resultados te ayudará a mejorar tu capacidad analítica y validar la correcta ejecución de la práctica.** 🚀  \n"
      ],
      "metadata": {
        "id": "JFRy9NQ_Nkt1"
      }
    },
    {
      "cell_type": "markdown",
      "source": [
        "# 🎉 ¡Felicidades! Has completado la práctica 🚀  \n",
        "\n",
        "Has finalizado con éxito el análisis exploratorio de datos (EDA) aplicado al conjunto de datos de laptops.  \n",
        "\n",
        "🔍 **A lo largo de esta práctica, lograste:**  \n",
        "✅ Importar y visualizar datos en Google Colab.  \n",
        "✅ Generar gráficos para comprender patrones individuales y categóricos.  \n",
        "✅ Aplicar análisis estadístico descriptivo.  \n",
        "✅ Explorar relaciones entre variables con tablas dinámicas y gráficos de colores.  \n",
        "✅ Evaluar correlaciones utilizando el coeficiente de Pearson y valores p.  \n",
        "✅ Extraer conclusiones basadas en los resultados obtenidos.  \n",
        "\n",
        "📌 **Siguientes pasos:**  \n",
        "Si deseas profundizar más en el análisis, podrías:  \n",
        "- Aplicar técnicas de Machine Learning para predecir precios de laptops.  \n",
        "- Explorar otras visualizaciones interactivas con Plotly o Seaborn.  \n",
        "- Comparar este análisis con otros conjuntos de datos similares.  \n",
        "\n",
        "🎯 **¡Sigue explorando y mejorando tus habilidades en analisis de datos!** 🚀📊  \n"
      ],
      "metadata": {
        "id": "dQRlKpGhNy0W"
      }
    }
  ]
}