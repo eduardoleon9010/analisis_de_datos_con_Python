{
  "nbformat": 4,
  "nbformat_minor": 0,
  "metadata": {
    "colab": {
      "provenance": []
    },
    "kernelspec": {
      "name": "python3",
      "display_name": "Python 3"
    },
    "language_info": {
      "name": "python"
    }
  },
  "cells": [
    {
      "cell_type": "markdown",
      "source": [
        "# **Práctica aplicada: Manipulación de Datos (Data Wrangling)**  \n",
        "\n",
        "En esta práctica, tendrás la oportunidad de aplicar habilidades esenciales para abordar diversos desafíos en el manejo de datos. Te enfocarás en la gestión de datos faltantes, la corrección de tipos de datos en un DataFrame, así como en la ejecución de procesos de estandarización y normalización de atributos clave en el conjunto de datos.\n",
        "\n",
        "¡Es una excelente oportunidad para fortalecer tu comprensión de estos procesos fundamentales en el analisis y ciencia de datos!\n",
        "\n",
        "\n",
        "## **Objetivos**  \n",
        "Después de completar esta practica, serás capaz de:  \n",
        "\n",
        "- Manejar datos faltantes de diferentes maneras.  \n",
        "- Corregir los tipos de datos según los requerimientos del análisis.  \n",
        "- Estandarizar y normalizar atributos adecuados del conjunto de datos.  \n",
        "- Visualizar los datos mediante gráficos de barras agrupadas utilizando *Binning*.  \n",
        "- Convertir datos categóricos en variables indicadoras numéricas.  \n",
        "\n"
      ],
      "metadata": {
        "id": "-aOvxcOqPmgM"
      }
    },
    {
      "cell_type": "markdown",
      "source": [
        "## **Importación de bibliotecas requeridas**  \n",
        "\n",
        "En Google Colab, es recomendable importar todas las bibliotecas necesarias en una sola celda para facilitar la ejecución y mantener el código ordenado.  \n",
        "\n"
      ],
      "metadata": {
        "id": "2w2vdJAfs6bj"
      }
    },
    {
      "cell_type": "code",
      "execution_count": 1,
      "metadata": {
        "colab": {
          "base_uri": "https://localhost:8080/"
        },
        "id": "2tgTQdbSPMvy",
        "outputId": "b98deafa-97dd-47cb-8e1c-07bcd48570ba"
      },
      "outputs": [
        {
          "output_type": "stream",
          "name": "stdout",
          "text": [
            "Collecting skillsnetwork\n",
            "  Downloading skillsnetwork-0.21.10-py3-none-any.whl.metadata (2.0 kB)\n",
            "Requirement already satisfied: ipython in /usr/local/lib/python3.11/dist-packages (from skillsnetwork) (7.34.0)\n",
            "Requirement already satisfied: ipywidgets<=8.1.3 in /usr/local/lib/python3.11/dist-packages (from skillsnetwork) (7.7.1)\n",
            "Requirement already satisfied: requests<3,>=2 in /usr/local/lib/python3.11/dist-packages (from skillsnetwork) (2.32.3)\n",
            "Requirement already satisfied: tqdm<5,>=4 in /usr/local/lib/python3.11/dist-packages (from skillsnetwork) (4.67.1)\n",
            "Requirement already satisfied: ipykernel>=4.5.1 in /usr/local/lib/python3.11/dist-packages (from ipywidgets<=8.1.3->skillsnetwork) (5.5.6)\n",
            "Requirement already satisfied: ipython-genutils~=0.2.0 in /usr/local/lib/python3.11/dist-packages (from ipywidgets<=8.1.3->skillsnetwork) (0.2.0)\n",
            "Requirement already satisfied: traitlets>=4.3.1 in /usr/local/lib/python3.11/dist-packages (from ipywidgets<=8.1.3->skillsnetwork) (5.7.1)\n",
            "Requirement already satisfied: widgetsnbextension~=3.6.0 in /usr/local/lib/python3.11/dist-packages (from ipywidgets<=8.1.3->skillsnetwork) (3.6.10)\n",
            "Requirement already satisfied: jupyterlab-widgets>=1.0.0 in /usr/local/lib/python3.11/dist-packages (from ipywidgets<=8.1.3->skillsnetwork) (3.0.13)\n",
            "Requirement already satisfied: setuptools>=18.5 in /usr/local/lib/python3.11/dist-packages (from ipython->skillsnetwork) (75.1.0)\n",
            "Collecting jedi>=0.16 (from ipython->skillsnetwork)\n",
            "  Downloading jedi-0.19.2-py2.py3-none-any.whl.metadata (22 kB)\n",
            "Requirement already satisfied: decorator in /usr/local/lib/python3.11/dist-packages (from ipython->skillsnetwork) (4.4.2)\n",
            "Requirement already satisfied: pickleshare in /usr/local/lib/python3.11/dist-packages (from ipython->skillsnetwork) (0.7.5)\n",
            "Requirement already satisfied: prompt-toolkit!=3.0.0,!=3.0.1,<3.1.0,>=2.0.0 in /usr/local/lib/python3.11/dist-packages (from ipython->skillsnetwork) (3.0.50)\n",
            "Requirement already satisfied: pygments in /usr/local/lib/python3.11/dist-packages (from ipython->skillsnetwork) (2.18.0)\n",
            "Requirement already satisfied: backcall in /usr/local/lib/python3.11/dist-packages (from ipython->skillsnetwork) (0.2.0)\n",
            "Requirement already satisfied: matplotlib-inline in /usr/local/lib/python3.11/dist-packages (from ipython->skillsnetwork) (0.1.7)\n",
            "Requirement already satisfied: pexpect>4.3 in /usr/local/lib/python3.11/dist-packages (from ipython->skillsnetwork) (4.9.0)\n",
            "Requirement already satisfied: charset-normalizer<4,>=2 in /usr/local/lib/python3.11/dist-packages (from requests<3,>=2->skillsnetwork) (3.4.1)\n",
            "Requirement already satisfied: idna<4,>=2.5 in /usr/local/lib/python3.11/dist-packages (from requests<3,>=2->skillsnetwork) (3.10)\n",
            "Requirement already satisfied: urllib3<3,>=1.21.1 in /usr/local/lib/python3.11/dist-packages (from requests<3,>=2->skillsnetwork) (2.3.0)\n",
            "Requirement already satisfied: certifi>=2017.4.17 in /usr/local/lib/python3.11/dist-packages (from requests<3,>=2->skillsnetwork) (2025.1.31)\n",
            "Requirement already satisfied: jupyter-client in /usr/local/lib/python3.11/dist-packages (from ipykernel>=4.5.1->ipywidgets<=8.1.3->skillsnetwork) (6.1.12)\n",
            "Requirement already satisfied: tornado>=4.2 in /usr/local/lib/python3.11/dist-packages (from ipykernel>=4.5.1->ipywidgets<=8.1.3->skillsnetwork) (6.4.2)\n",
            "Requirement already satisfied: parso<0.9.0,>=0.8.4 in /usr/local/lib/python3.11/dist-packages (from jedi>=0.16->ipython->skillsnetwork) (0.8.4)\n",
            "Requirement already satisfied: ptyprocess>=0.5 in /usr/local/lib/python3.11/dist-packages (from pexpect>4.3->ipython->skillsnetwork) (0.7.0)\n",
            "Requirement already satisfied: wcwidth in /usr/local/lib/python3.11/dist-packages (from prompt-toolkit!=3.0.0,!=3.0.1,<3.1.0,>=2.0.0->ipython->skillsnetwork) (0.2.13)\n",
            "Requirement already satisfied: notebook>=4.4.1 in /usr/local/lib/python3.11/dist-packages (from widgetsnbextension~=3.6.0->ipywidgets<=8.1.3->skillsnetwork) (6.5.5)\n",
            "Requirement already satisfied: jinja2 in /usr/local/lib/python3.11/dist-packages (from notebook>=4.4.1->widgetsnbextension~=3.6.0->ipywidgets<=8.1.3->skillsnetwork) (3.1.5)\n",
            "Requirement already satisfied: pyzmq<25,>=17 in /usr/local/lib/python3.11/dist-packages (from notebook>=4.4.1->widgetsnbextension~=3.6.0->ipywidgets<=8.1.3->skillsnetwork) (24.0.1)\n",
            "Requirement already satisfied: argon2-cffi in /usr/local/lib/python3.11/dist-packages (from notebook>=4.4.1->widgetsnbextension~=3.6.0->ipywidgets<=8.1.3->skillsnetwork) (23.1.0)\n",
            "Requirement already satisfied: jupyter-core>=4.6.1 in /usr/local/lib/python3.11/dist-packages (from notebook>=4.4.1->widgetsnbextension~=3.6.0->ipywidgets<=8.1.3->skillsnetwork) (5.7.2)\n",
            "Requirement already satisfied: nbformat in /usr/local/lib/python3.11/dist-packages (from notebook>=4.4.1->widgetsnbextension~=3.6.0->ipywidgets<=8.1.3->skillsnetwork) (5.10.4)\n",
            "Requirement already satisfied: nbconvert>=5 in /usr/local/lib/python3.11/dist-packages (from notebook>=4.4.1->widgetsnbextension~=3.6.0->ipywidgets<=8.1.3->skillsnetwork) (7.16.6)\n",
            "Requirement already satisfied: nest-asyncio>=1.5 in /usr/local/lib/python3.11/dist-packages (from notebook>=4.4.1->widgetsnbextension~=3.6.0->ipywidgets<=8.1.3->skillsnetwork) (1.6.0)\n",
            "Requirement already satisfied: Send2Trash>=1.8.0 in /usr/local/lib/python3.11/dist-packages (from notebook>=4.4.1->widgetsnbextension~=3.6.0->ipywidgets<=8.1.3->skillsnetwork) (1.8.3)\n",
            "Requirement already satisfied: terminado>=0.8.3 in /usr/local/lib/python3.11/dist-packages (from notebook>=4.4.1->widgetsnbextension~=3.6.0->ipywidgets<=8.1.3->skillsnetwork) (0.18.1)\n",
            "Requirement already satisfied: prometheus-client in /usr/local/lib/python3.11/dist-packages (from notebook>=4.4.1->widgetsnbextension~=3.6.0->ipywidgets<=8.1.3->skillsnetwork) (0.21.1)\n",
            "Requirement already satisfied: nbclassic>=0.4.7 in /usr/local/lib/python3.11/dist-packages (from notebook>=4.4.1->widgetsnbextension~=3.6.0->ipywidgets<=8.1.3->skillsnetwork) (1.2.0)\n",
            "Requirement already satisfied: python-dateutil>=2.1 in /usr/local/lib/python3.11/dist-packages (from jupyter-client->ipykernel>=4.5.1->ipywidgets<=8.1.3->skillsnetwork) (2.8.2)\n",
            "Requirement already satisfied: platformdirs>=2.5 in /usr/local/lib/python3.11/dist-packages (from jupyter-core>=4.6.1->notebook>=4.4.1->widgetsnbextension~=3.6.0->ipywidgets<=8.1.3->skillsnetwork) (4.3.6)\n",
            "Requirement already satisfied: notebook-shim>=0.2.3 in /usr/local/lib/python3.11/dist-packages (from nbclassic>=0.4.7->notebook>=4.4.1->widgetsnbextension~=3.6.0->ipywidgets<=8.1.3->skillsnetwork) (0.2.4)\n",
            "Requirement already satisfied: beautifulsoup4 in /usr/local/lib/python3.11/dist-packages (from nbconvert>=5->notebook>=4.4.1->widgetsnbextension~=3.6.0->ipywidgets<=8.1.3->skillsnetwork) (4.13.3)\n",
            "Requirement already satisfied: bleach!=5.0.0 in /usr/local/lib/python3.11/dist-packages (from bleach[css]!=5.0.0->nbconvert>=5->notebook>=4.4.1->widgetsnbextension~=3.6.0->ipywidgets<=8.1.3->skillsnetwork) (6.2.0)\n",
            "Requirement already satisfied: defusedxml in /usr/local/lib/python3.11/dist-packages (from nbconvert>=5->notebook>=4.4.1->widgetsnbextension~=3.6.0->ipywidgets<=8.1.3->skillsnetwork) (0.7.1)\n",
            "Requirement already satisfied: jupyterlab-pygments in /usr/local/lib/python3.11/dist-packages (from nbconvert>=5->notebook>=4.4.1->widgetsnbextension~=3.6.0->ipywidgets<=8.1.3->skillsnetwork) (0.3.0)\n",
            "Requirement already satisfied: markupsafe>=2.0 in /usr/local/lib/python3.11/dist-packages (from nbconvert>=5->notebook>=4.4.1->widgetsnbextension~=3.6.0->ipywidgets<=8.1.3->skillsnetwork) (3.0.2)\n",
            "Requirement already satisfied: mistune<4,>=2.0.3 in /usr/local/lib/python3.11/dist-packages (from nbconvert>=5->notebook>=4.4.1->widgetsnbextension~=3.6.0->ipywidgets<=8.1.3->skillsnetwork) (3.1.1)\n",
            "Requirement already satisfied: nbclient>=0.5.0 in /usr/local/lib/python3.11/dist-packages (from nbconvert>=5->notebook>=4.4.1->widgetsnbextension~=3.6.0->ipywidgets<=8.1.3->skillsnetwork) (0.10.2)\n",
            "Requirement already satisfied: packaging in /usr/local/lib/python3.11/dist-packages (from nbconvert>=5->notebook>=4.4.1->widgetsnbextension~=3.6.0->ipywidgets<=8.1.3->skillsnetwork) (24.2)\n",
            "Requirement already satisfied: pandocfilters>=1.4.1 in /usr/local/lib/python3.11/dist-packages (from nbconvert>=5->notebook>=4.4.1->widgetsnbextension~=3.6.0->ipywidgets<=8.1.3->skillsnetwork) (1.5.1)\n",
            "Requirement already satisfied: fastjsonschema>=2.15 in /usr/local/lib/python3.11/dist-packages (from nbformat->notebook>=4.4.1->widgetsnbextension~=3.6.0->ipywidgets<=8.1.3->skillsnetwork) (2.21.1)\n",
            "Requirement already satisfied: jsonschema>=2.6 in /usr/local/lib/python3.11/dist-packages (from nbformat->notebook>=4.4.1->widgetsnbextension~=3.6.0->ipywidgets<=8.1.3->skillsnetwork) (4.23.0)\n",
            "Requirement already satisfied: six>=1.5 in /usr/local/lib/python3.11/dist-packages (from python-dateutil>=2.1->jupyter-client->ipykernel>=4.5.1->ipywidgets<=8.1.3->skillsnetwork) (1.17.0)\n",
            "Requirement already satisfied: argon2-cffi-bindings in /usr/local/lib/python3.11/dist-packages (from argon2-cffi->notebook>=4.4.1->widgetsnbextension~=3.6.0->ipywidgets<=8.1.3->skillsnetwork) (21.2.0)\n",
            "Requirement already satisfied: webencodings in /usr/local/lib/python3.11/dist-packages (from bleach!=5.0.0->bleach[css]!=5.0.0->nbconvert>=5->notebook>=4.4.1->widgetsnbextension~=3.6.0->ipywidgets<=8.1.3->skillsnetwork) (0.5.1)\n",
            "Requirement already satisfied: tinycss2<1.5,>=1.1.0 in /usr/local/lib/python3.11/dist-packages (from bleach[css]!=5.0.0->nbconvert>=5->notebook>=4.4.1->widgetsnbextension~=3.6.0->ipywidgets<=8.1.3->skillsnetwork) (1.4.0)\n",
            "Requirement already satisfied: attrs>=22.2.0 in /usr/local/lib/python3.11/dist-packages (from jsonschema>=2.6->nbformat->notebook>=4.4.1->widgetsnbextension~=3.6.0->ipywidgets<=8.1.3->skillsnetwork) (25.1.0)\n",
            "Requirement already satisfied: jsonschema-specifications>=2023.03.6 in /usr/local/lib/python3.11/dist-packages (from jsonschema>=2.6->nbformat->notebook>=4.4.1->widgetsnbextension~=3.6.0->ipywidgets<=8.1.3->skillsnetwork) (2024.10.1)\n",
            "Requirement already satisfied: referencing>=0.28.4 in /usr/local/lib/python3.11/dist-packages (from jsonschema>=2.6->nbformat->notebook>=4.4.1->widgetsnbextension~=3.6.0->ipywidgets<=8.1.3->skillsnetwork) (0.36.2)\n",
            "Requirement already satisfied: rpds-py>=0.7.1 in /usr/local/lib/python3.11/dist-packages (from jsonschema>=2.6->nbformat->notebook>=4.4.1->widgetsnbextension~=3.6.0->ipywidgets<=8.1.3->skillsnetwork) (0.22.3)\n",
            "Requirement already satisfied: jupyter-server<3,>=1.8 in /usr/local/lib/python3.11/dist-packages (from notebook-shim>=0.2.3->nbclassic>=0.4.7->notebook>=4.4.1->widgetsnbextension~=3.6.0->ipywidgets<=8.1.3->skillsnetwork) (1.24.0)\n",
            "Requirement already satisfied: cffi>=1.0.1 in /usr/local/lib/python3.11/dist-packages (from argon2-cffi-bindings->argon2-cffi->notebook>=4.4.1->widgetsnbextension~=3.6.0->ipywidgets<=8.1.3->skillsnetwork) (1.17.1)\n",
            "Requirement already satisfied: soupsieve>1.2 in /usr/local/lib/python3.11/dist-packages (from beautifulsoup4->nbconvert>=5->notebook>=4.4.1->widgetsnbextension~=3.6.0->ipywidgets<=8.1.3->skillsnetwork) (2.6)\n",
            "Requirement already satisfied: typing-extensions>=4.0.0 in /usr/local/lib/python3.11/dist-packages (from beautifulsoup4->nbconvert>=5->notebook>=4.4.1->widgetsnbextension~=3.6.0->ipywidgets<=8.1.3->skillsnetwork) (4.12.2)\n",
            "Requirement already satisfied: pycparser in /usr/local/lib/python3.11/dist-packages (from cffi>=1.0.1->argon2-cffi-bindings->argon2-cffi->notebook>=4.4.1->widgetsnbextension~=3.6.0->ipywidgets<=8.1.3->skillsnetwork) (2.22)\n",
            "Requirement already satisfied: anyio<4,>=3.1.0 in /usr/local/lib/python3.11/dist-packages (from jupyter-server<3,>=1.8->notebook-shim>=0.2.3->nbclassic>=0.4.7->notebook>=4.4.1->widgetsnbextension~=3.6.0->ipywidgets<=8.1.3->skillsnetwork) (3.7.1)\n",
            "Requirement already satisfied: websocket-client in /usr/local/lib/python3.11/dist-packages (from jupyter-server<3,>=1.8->notebook-shim>=0.2.3->nbclassic>=0.4.7->notebook>=4.4.1->widgetsnbextension~=3.6.0->ipywidgets<=8.1.3->skillsnetwork) (1.8.0)\n",
            "Requirement already satisfied: sniffio>=1.1 in /usr/local/lib/python3.11/dist-packages (from anyio<4,>=3.1.0->jupyter-server<3,>=1.8->notebook-shim>=0.2.3->nbclassic>=0.4.7->notebook>=4.4.1->widgetsnbextension~=3.6.0->ipywidgets<=8.1.3->skillsnetwork) (1.3.1)\n",
            "Downloading skillsnetwork-0.21.10-py3-none-any.whl (26 kB)\n",
            "Downloading jedi-0.19.2-py2.py3-none-any.whl (1.6 MB)\n",
            "\u001b[2K   \u001b[90m━━━━━━━━━━━━━━━━━━━━━━━━━━━━━━━━━━━━━━━━\u001b[0m \u001b[32m1.6/1.6 MB\u001b[0m \u001b[31m37.9 MB/s\u001b[0m eta \u001b[36m0:00:00\u001b[0m\n",
            "\u001b[?25hInstalling collected packages: jedi, skillsnetwork\n",
            "Successfully installed jedi-0.19.2 skillsnetwork-0.21.10\n",
            "Bibliotecas importadas correctamente.\n"
          ]
        }
      ],
      "source": [
        "# Importación de bibliotecas necesarias\n",
        "import pandas as pd  # Manejo y manipulación de datos en estructuras tipo DataFrame\n",
        "import numpy as np  # Operaciones matemáticas y funciones avanzadas para matrices y arreglos\n",
        "import matplotlib.pyplot as plt  # Herramientas de visualización de datos\n",
        "\n",
        "# Instalación de la librería skillsnetwork en Google Colab si no está disponible\n",
        "try:\n",
        "    import skillsnetwork\n",
        "except ImportError:\n",
        "    !pip install skillsnetwork\n",
        "    import skillsnetwork  # Descarga de conjuntos de datos desde Skills Network\n",
        "\n",
        "# Configuración opcional para mejorar la visualización de los DataFrames en la salida\n",
        "pd.set_option('display.max_columns', None)  # Muestra todas las columnas sin truncar\n",
        "pd.set_option('display.precision', 2)  # Limita la precisión decimal a 2 cifras\n",
        "\n",
        "# Configuración para visualizar gráficos directamente en Colab\n",
        "%matplotlib inline\n",
        "\n",
        "# Mensaje de confirmación\n",
        "print(\"Bibliotecas importadas correctamente.\")"
      ]
    },
    {
      "cell_type": "markdown",
      "source": [
        "## **Descarga del conjunto de datos actualizado**  \n",
        "\n",
        "Ejecuta la siguiente celda para descargar el conjunto de datos más reciente.  \n",
        "\n",
        "La función proporcionada descargará el archivo directamente en el entorno de Google Colab.  \n"
      ],
      "metadata": {
        "id": "SOuPY3N3th71"
      }
    },
    {
      "cell_type": "code",
      "source": [
        "# Importar la biblioteca necesaria para la descarga\n",
        "import gdown\n",
        "\n",
        "# Definir el ID del archivo en Google Drive\n",
        "file_id = \"1I-1Tt0jRaMUmv5pjFWSUwePgHxph21bD\"\n",
        "dataset_filename = \"datos_actualizados.csv\"  # Nombre con el que se guardará el archivo\n",
        "\n",
        "# Construcción de la URL de descarga directa\n",
        "download_url = f\"https://drive.google.com/uc?id={file_id}\"\n",
        "\n",
        "# Descargar el archivo\n",
        "gdown.download(download_url, dataset_filename, quiet=False)\n",
        "\n",
        "# Mensaje de confirmación\n",
        "print(f\"Conjunto de datos descargado y guardado como '{dataset_filename}'\")"
      ],
      "metadata": {
        "colab": {
          "base_uri": "https://localhost:8080/"
        },
        "id": "JAl4hNiJt7Tc",
        "outputId": "1cc7c4af-0377-4729-9832-a56c4b8a2153"
      },
      "execution_count": 2,
      "outputs": [
        {
          "output_type": "stream",
          "name": "stderr",
          "text": [
            "Downloading...\n",
            "From: https://drive.google.com/uc?id=1I-1Tt0jRaMUmv5pjFWSUwePgHxph21bD\n",
            "To: /content/datos_actualizados.csv\n",
            "100%|██████████| 12.5k/12.5k [00:00<00:00, 10.9MB/s]"
          ]
        },
        {
          "output_type": "stream",
          "name": "stdout",
          "text": [
            "Conjunto de datos descargado y guardado como 'datos_actualizados.csv'\n"
          ]
        },
        {
          "output_type": "stream",
          "name": "stderr",
          "text": [
            "\n"
          ]
        }
      ]
    },
    {
      "cell_type": "code",
      "source": [
        "df = pd.read_csv(\"datos_actualizados.csv\")"
      ],
      "metadata": {
        "id": "Em4PY-dsuM8g"
      },
      "execution_count": 5,
      "outputs": []
    },
    {
      "cell_type": "code",
      "source": [
        "# Mostrar un resumen del DataFrame\n",
        "df.info()"
      ],
      "metadata": {
        "colab": {
          "base_uri": "https://localhost:8080/"
        },
        "id": "r1_RJCLguqi-",
        "outputId": "486dd8fc-2b6d-4447-de53-9905ef0156aa"
      },
      "execution_count": 4,
      "outputs": [
        {
          "output_type": "stream",
          "name": "stdout",
          "text": [
            "<class 'pandas.core.frame.DataFrame'>\n",
            "RangeIndex: 238 entries, 0 to 237\n",
            "Data columns (total 13 columns):\n",
            " #   Column          Non-Null Count  Dtype  \n",
            "---  ------          --------------  -----  \n",
            " 0   Unnamed: 0      238 non-null    int64  \n",
            " 1   Manufacturer    238 non-null    object \n",
            " 2   Category        238 non-null    int64  \n",
            " 3   Screen          238 non-null    object \n",
            " 4   GPU             238 non-null    int64  \n",
            " 5   OS              238 non-null    int64  \n",
            " 6   CPU_core        238 non-null    int64  \n",
            " 7   Screen_Size_cm  234 non-null    float64\n",
            " 8   CPU_frequency   238 non-null    float64\n",
            " 9   RAM_GB          238 non-null    int64  \n",
            " 10  Storage_GB_SSD  238 non-null    int64  \n",
            " 11  Weight_kg       233 non-null    float64\n",
            " 12  Price           238 non-null    int64  \n",
            "dtypes: float64(3), int64(8), object(2)\n",
            "memory usage: 24.3+ KB\n"
          ]
        }
      ]
    },
    {
      "cell_type": "code",
      "source": [
        "df.head()  # Mostrar las primeras filas del DataFrame"
      ],
      "metadata": {
        "colab": {
          "base_uri": "https://localhost:8080/",
          "height": 330
        },
        "id": "gdp8yrytu2_G",
        "outputId": "c314c9d0-ee49-4101-bb82-efc17d287543"
      },
      "execution_count": 6,
      "outputs": [
        {
          "output_type": "execute_result",
          "data": {
            "text/plain": [
              "   Unnamed: 0 Manufacturer  Category     Screen  GPU  OS  CPU_core  \\\n",
              "0           0         Acer         4  IPS Panel    2   1         5   \n",
              "1           1         Dell         3    Full HD    1   1         3   \n",
              "2           2         Dell         3    Full HD    1   1         7   \n",
              "3           3         Dell         4  IPS Panel    2   1         5   \n",
              "4           4           HP         4    Full HD    2   1         7   \n",
              "\n",
              "   Screen_Size_cm  CPU_frequency  RAM_GB  Storage_GB_SSD  Weight_kg  Price  \n",
              "0           35.56            1.6       8             256       1.60    978  \n",
              "1           39.62            2.0       4             256       2.20    634  \n",
              "2           39.62            2.7       8             256       2.20    946  \n",
              "3           33.78            1.6       8             128       1.22   1244  \n",
              "4           39.62            1.8       8             256       1.91    837  "
            ],
            "text/html": [
              "\n",
              "  <div id=\"df-8bc2ea39-6d0e-49f4-b36c-518b1c59dd65\" class=\"colab-df-container\">\n",
              "    <div>\n",
              "<style scoped>\n",
              "    .dataframe tbody tr th:only-of-type {\n",
              "        vertical-align: middle;\n",
              "    }\n",
              "\n",
              "    .dataframe tbody tr th {\n",
              "        vertical-align: top;\n",
              "    }\n",
              "\n",
              "    .dataframe thead th {\n",
              "        text-align: right;\n",
              "    }\n",
              "</style>\n",
              "<table border=\"1\" class=\"dataframe\">\n",
              "  <thead>\n",
              "    <tr style=\"text-align: right;\">\n",
              "      <th></th>\n",
              "      <th>Unnamed: 0</th>\n",
              "      <th>Manufacturer</th>\n",
              "      <th>Category</th>\n",
              "      <th>Screen</th>\n",
              "      <th>GPU</th>\n",
              "      <th>OS</th>\n",
              "      <th>CPU_core</th>\n",
              "      <th>Screen_Size_cm</th>\n",
              "      <th>CPU_frequency</th>\n",
              "      <th>RAM_GB</th>\n",
              "      <th>Storage_GB_SSD</th>\n",
              "      <th>Weight_kg</th>\n",
              "      <th>Price</th>\n",
              "    </tr>\n",
              "  </thead>\n",
              "  <tbody>\n",
              "    <tr>\n",
              "      <th>0</th>\n",
              "      <td>0</td>\n",
              "      <td>Acer</td>\n",
              "      <td>4</td>\n",
              "      <td>IPS Panel</td>\n",
              "      <td>2</td>\n",
              "      <td>1</td>\n",
              "      <td>5</td>\n",
              "      <td>35.56</td>\n",
              "      <td>1.6</td>\n",
              "      <td>8</td>\n",
              "      <td>256</td>\n",
              "      <td>1.60</td>\n",
              "      <td>978</td>\n",
              "    </tr>\n",
              "    <tr>\n",
              "      <th>1</th>\n",
              "      <td>1</td>\n",
              "      <td>Dell</td>\n",
              "      <td>3</td>\n",
              "      <td>Full HD</td>\n",
              "      <td>1</td>\n",
              "      <td>1</td>\n",
              "      <td>3</td>\n",
              "      <td>39.62</td>\n",
              "      <td>2.0</td>\n",
              "      <td>4</td>\n",
              "      <td>256</td>\n",
              "      <td>2.20</td>\n",
              "      <td>634</td>\n",
              "    </tr>\n",
              "    <tr>\n",
              "      <th>2</th>\n",
              "      <td>2</td>\n",
              "      <td>Dell</td>\n",
              "      <td>3</td>\n",
              "      <td>Full HD</td>\n",
              "      <td>1</td>\n",
              "      <td>1</td>\n",
              "      <td>7</td>\n",
              "      <td>39.62</td>\n",
              "      <td>2.7</td>\n",
              "      <td>8</td>\n",
              "      <td>256</td>\n",
              "      <td>2.20</td>\n",
              "      <td>946</td>\n",
              "    </tr>\n",
              "    <tr>\n",
              "      <th>3</th>\n",
              "      <td>3</td>\n",
              "      <td>Dell</td>\n",
              "      <td>4</td>\n",
              "      <td>IPS Panel</td>\n",
              "      <td>2</td>\n",
              "      <td>1</td>\n",
              "      <td>5</td>\n",
              "      <td>33.78</td>\n",
              "      <td>1.6</td>\n",
              "      <td>8</td>\n",
              "      <td>128</td>\n",
              "      <td>1.22</td>\n",
              "      <td>1244</td>\n",
              "    </tr>\n",
              "    <tr>\n",
              "      <th>4</th>\n",
              "      <td>4</td>\n",
              "      <td>HP</td>\n",
              "      <td>4</td>\n",
              "      <td>Full HD</td>\n",
              "      <td>2</td>\n",
              "      <td>1</td>\n",
              "      <td>7</td>\n",
              "      <td>39.62</td>\n",
              "      <td>1.8</td>\n",
              "      <td>8</td>\n",
              "      <td>256</td>\n",
              "      <td>1.91</td>\n",
              "      <td>837</td>\n",
              "    </tr>\n",
              "  </tbody>\n",
              "</table>\n",
              "</div>\n",
              "    <div class=\"colab-df-buttons\">\n",
              "\n",
              "  <div class=\"colab-df-container\">\n",
              "    <button class=\"colab-df-convert\" onclick=\"convertToInteractive('df-8bc2ea39-6d0e-49f4-b36c-518b1c59dd65')\"\n",
              "            title=\"Convert this dataframe to an interactive table.\"\n",
              "            style=\"display:none;\">\n",
              "\n",
              "  <svg xmlns=\"http://www.w3.org/2000/svg\" height=\"24px\" viewBox=\"0 -960 960 960\">\n",
              "    <path d=\"M120-120v-720h720v720H120Zm60-500h600v-160H180v160Zm220 220h160v-160H400v160Zm0 220h160v-160H400v160ZM180-400h160v-160H180v160Zm440 0h160v-160H620v160ZM180-180h160v-160H180v160Zm440 0h160v-160H620v160Z\"/>\n",
              "  </svg>\n",
              "    </button>\n",
              "\n",
              "  <style>\n",
              "    .colab-df-container {\n",
              "      display:flex;\n",
              "      gap: 12px;\n",
              "    }\n",
              "\n",
              "    .colab-df-convert {\n",
              "      background-color: #E8F0FE;\n",
              "      border: none;\n",
              "      border-radius: 50%;\n",
              "      cursor: pointer;\n",
              "      display: none;\n",
              "      fill: #1967D2;\n",
              "      height: 32px;\n",
              "      padding: 0 0 0 0;\n",
              "      width: 32px;\n",
              "    }\n",
              "\n",
              "    .colab-df-convert:hover {\n",
              "      background-color: #E2EBFA;\n",
              "      box-shadow: 0px 1px 2px rgba(60, 64, 67, 0.3), 0px 1px 3px 1px rgba(60, 64, 67, 0.15);\n",
              "      fill: #174EA6;\n",
              "    }\n",
              "\n",
              "    .colab-df-buttons div {\n",
              "      margin-bottom: 4px;\n",
              "    }\n",
              "\n",
              "    [theme=dark] .colab-df-convert {\n",
              "      background-color: #3B4455;\n",
              "      fill: #D2E3FC;\n",
              "    }\n",
              "\n",
              "    [theme=dark] .colab-df-convert:hover {\n",
              "      background-color: #434B5C;\n",
              "      box-shadow: 0px 1px 3px 1px rgba(0, 0, 0, 0.15);\n",
              "      filter: drop-shadow(0px 1px 2px rgba(0, 0, 0, 0.3));\n",
              "      fill: #FFFFFF;\n",
              "    }\n",
              "  </style>\n",
              "\n",
              "    <script>\n",
              "      const buttonEl =\n",
              "        document.querySelector('#df-8bc2ea39-6d0e-49f4-b36c-518b1c59dd65 button.colab-df-convert');\n",
              "      buttonEl.style.display =\n",
              "        google.colab.kernel.accessAllowed ? 'block' : 'none';\n",
              "\n",
              "      async function convertToInteractive(key) {\n",
              "        const element = document.querySelector('#df-8bc2ea39-6d0e-49f4-b36c-518b1c59dd65');\n",
              "        const dataTable =\n",
              "          await google.colab.kernel.invokeFunction('convertToInteractive',\n",
              "                                                    [key], {});\n",
              "        if (!dataTable) return;\n",
              "\n",
              "        const docLinkHtml = 'Like what you see? Visit the ' +\n",
              "          '<a target=\"_blank\" href=https://colab.research.google.com/notebooks/data_table.ipynb>data table notebook</a>'\n",
              "          + ' to learn more about interactive tables.';\n",
              "        element.innerHTML = '';\n",
              "        dataTable['output_type'] = 'display_data';\n",
              "        await google.colab.output.renderOutput(dataTable, element);\n",
              "        const docLink = document.createElement('div');\n",
              "        docLink.innerHTML = docLinkHtml;\n",
              "        element.appendChild(docLink);\n",
              "      }\n",
              "    </script>\n",
              "  </div>\n",
              "\n",
              "\n",
              "<div id=\"df-50193fb2-5df3-4eb5-af80-838986411acd\">\n",
              "  <button class=\"colab-df-quickchart\" onclick=\"quickchart('df-50193fb2-5df3-4eb5-af80-838986411acd')\"\n",
              "            title=\"Suggest charts\"\n",
              "            style=\"display:none;\">\n",
              "\n",
              "<svg xmlns=\"http://www.w3.org/2000/svg\" height=\"24px\"viewBox=\"0 0 24 24\"\n",
              "     width=\"24px\">\n",
              "    <g>\n",
              "        <path d=\"M19 3H5c-1.1 0-2 .9-2 2v14c0 1.1.9 2 2 2h14c1.1 0 2-.9 2-2V5c0-1.1-.9-2-2-2zM9 17H7v-7h2v7zm4 0h-2V7h2v10zm4 0h-2v-4h2v4z\"/>\n",
              "    </g>\n",
              "</svg>\n",
              "  </button>\n",
              "\n",
              "<style>\n",
              "  .colab-df-quickchart {\n",
              "      --bg-color: #E8F0FE;\n",
              "      --fill-color: #1967D2;\n",
              "      --hover-bg-color: #E2EBFA;\n",
              "      --hover-fill-color: #174EA6;\n",
              "      --disabled-fill-color: #AAA;\n",
              "      --disabled-bg-color: #DDD;\n",
              "  }\n",
              "\n",
              "  [theme=dark] .colab-df-quickchart {\n",
              "      --bg-color: #3B4455;\n",
              "      --fill-color: #D2E3FC;\n",
              "      --hover-bg-color: #434B5C;\n",
              "      --hover-fill-color: #FFFFFF;\n",
              "      --disabled-bg-color: #3B4455;\n",
              "      --disabled-fill-color: #666;\n",
              "  }\n",
              "\n",
              "  .colab-df-quickchart {\n",
              "    background-color: var(--bg-color);\n",
              "    border: none;\n",
              "    border-radius: 50%;\n",
              "    cursor: pointer;\n",
              "    display: none;\n",
              "    fill: var(--fill-color);\n",
              "    height: 32px;\n",
              "    padding: 0;\n",
              "    width: 32px;\n",
              "  }\n",
              "\n",
              "  .colab-df-quickchart:hover {\n",
              "    background-color: var(--hover-bg-color);\n",
              "    box-shadow: 0 1px 2px rgba(60, 64, 67, 0.3), 0 1px 3px 1px rgba(60, 64, 67, 0.15);\n",
              "    fill: var(--button-hover-fill-color);\n",
              "  }\n",
              "\n",
              "  .colab-df-quickchart-complete:disabled,\n",
              "  .colab-df-quickchart-complete:disabled:hover {\n",
              "    background-color: var(--disabled-bg-color);\n",
              "    fill: var(--disabled-fill-color);\n",
              "    box-shadow: none;\n",
              "  }\n",
              "\n",
              "  .colab-df-spinner {\n",
              "    border: 2px solid var(--fill-color);\n",
              "    border-color: transparent;\n",
              "    border-bottom-color: var(--fill-color);\n",
              "    animation:\n",
              "      spin 1s steps(1) infinite;\n",
              "  }\n",
              "\n",
              "  @keyframes spin {\n",
              "    0% {\n",
              "      border-color: transparent;\n",
              "      border-bottom-color: var(--fill-color);\n",
              "      border-left-color: var(--fill-color);\n",
              "    }\n",
              "    20% {\n",
              "      border-color: transparent;\n",
              "      border-left-color: var(--fill-color);\n",
              "      border-top-color: var(--fill-color);\n",
              "    }\n",
              "    30% {\n",
              "      border-color: transparent;\n",
              "      border-left-color: var(--fill-color);\n",
              "      border-top-color: var(--fill-color);\n",
              "      border-right-color: var(--fill-color);\n",
              "    }\n",
              "    40% {\n",
              "      border-color: transparent;\n",
              "      border-right-color: var(--fill-color);\n",
              "      border-top-color: var(--fill-color);\n",
              "    }\n",
              "    60% {\n",
              "      border-color: transparent;\n",
              "      border-right-color: var(--fill-color);\n",
              "    }\n",
              "    80% {\n",
              "      border-color: transparent;\n",
              "      border-right-color: var(--fill-color);\n",
              "      border-bottom-color: var(--fill-color);\n",
              "    }\n",
              "    90% {\n",
              "      border-color: transparent;\n",
              "      border-bottom-color: var(--fill-color);\n",
              "    }\n",
              "  }\n",
              "</style>\n",
              "\n",
              "  <script>\n",
              "    async function quickchart(key) {\n",
              "      const quickchartButtonEl =\n",
              "        document.querySelector('#' + key + ' button');\n",
              "      quickchartButtonEl.disabled = true;  // To prevent multiple clicks.\n",
              "      quickchartButtonEl.classList.add('colab-df-spinner');\n",
              "      try {\n",
              "        const charts = await google.colab.kernel.invokeFunction(\n",
              "            'suggestCharts', [key], {});\n",
              "      } catch (error) {\n",
              "        console.error('Error during call to suggestCharts:', error);\n",
              "      }\n",
              "      quickchartButtonEl.classList.remove('colab-df-spinner');\n",
              "      quickchartButtonEl.classList.add('colab-df-quickchart-complete');\n",
              "    }\n",
              "    (() => {\n",
              "      let quickchartButtonEl =\n",
              "        document.querySelector('#df-50193fb2-5df3-4eb5-af80-838986411acd button');\n",
              "      quickchartButtonEl.style.display =\n",
              "        google.colab.kernel.accessAllowed ? 'block' : 'none';\n",
              "    })();\n",
              "  </script>\n",
              "</div>\n",
              "\n",
              "    </div>\n",
              "  </div>\n"
            ],
            "application/vnd.google.colaboratory.intrinsic+json": {
              "type": "dataframe",
              "variable_name": "df",
              "summary": "{\n  \"name\": \"df\",\n  \"rows\": 238,\n  \"fields\": [\n    {\n      \"column\": \"Unnamed: 0\",\n      \"properties\": {\n        \"dtype\": \"number\",\n        \"std\": 68,\n        \"min\": 0,\n        \"max\": 237,\n        \"num_unique_values\": 238,\n        \"samples\": [\n          115,\n          15,\n          212\n        ],\n        \"semantic_type\": \"\",\n        \"description\": \"\"\n      }\n    },\n    {\n      \"column\": \"Manufacturer\",\n      \"properties\": {\n        \"dtype\": \"category\",\n        \"num_unique_values\": 11,\n        \"samples\": [\n          \"Huawei\",\n          \"Acer\",\n          \"Samsung\"\n        ],\n        \"semantic_type\": \"\",\n        \"description\": \"\"\n      }\n    },\n    {\n      \"column\": \"Category\",\n      \"properties\": {\n        \"dtype\": \"number\",\n        \"std\": 0,\n        \"min\": 1,\n        \"max\": 5,\n        \"num_unique_values\": 5,\n        \"samples\": [\n          3,\n          2,\n          1\n        ],\n        \"semantic_type\": \"\",\n        \"description\": \"\"\n      }\n    },\n    {\n      \"column\": \"Screen\",\n      \"properties\": {\n        \"dtype\": \"category\",\n        \"num_unique_values\": 2,\n        \"samples\": [\n          \"Full HD\",\n          \"IPS Panel\"\n        ],\n        \"semantic_type\": \"\",\n        \"description\": \"\"\n      }\n    },\n    {\n      \"column\": \"GPU\",\n      \"properties\": {\n        \"dtype\": \"number\",\n        \"std\": 0,\n        \"min\": 1,\n        \"max\": 3,\n        \"num_unique_values\": 3,\n        \"samples\": [\n          2,\n          1\n        ],\n        \"semantic_type\": \"\",\n        \"description\": \"\"\n      }\n    },\n    {\n      \"column\": \"OS\",\n      \"properties\": {\n        \"dtype\": \"number\",\n        \"std\": 0,\n        \"min\": 1,\n        \"max\": 2,\n        \"num_unique_values\": 2,\n        \"samples\": [\n          2,\n          1\n        ],\n        \"semantic_type\": \"\",\n        \"description\": \"\"\n      }\n    },\n    {\n      \"column\": \"CPU_core\",\n      \"properties\": {\n        \"dtype\": \"number\",\n        \"std\": 1,\n        \"min\": 3,\n        \"max\": 7,\n        \"num_unique_values\": 3,\n        \"samples\": [\n          5,\n          3\n        ],\n        \"semantic_type\": \"\",\n        \"description\": \"\"\n      }\n    },\n    {\n      \"column\": \"Screen_Size_cm\",\n      \"properties\": {\n        \"dtype\": \"number\",\n        \"std\": 2.971365242625714,\n        \"min\": 30.48,\n        \"max\": 43.942,\n        \"num_unique_values\": 9,\n        \"samples\": [\n          31.75,\n          39.624\n        ],\n        \"semantic_type\": \"\",\n        \"description\": \"\"\n      }\n    },\n    {\n      \"column\": \"CPU_frequency\",\n      \"properties\": {\n        \"dtype\": \"number\",\n        \"std\": 0.41139260416917633,\n        \"min\": 1.2,\n        \"max\": 2.9,\n        \"num_unique_values\": 11,\n        \"samples\": [\n          2.4,\n          1.6\n        ],\n        \"semantic_type\": \"\",\n        \"description\": \"\"\n      }\n    },\n    {\n      \"column\": \"RAM_GB\",\n      \"properties\": {\n        \"dtype\": \"number\",\n        \"std\": 2,\n        \"min\": 4,\n        \"max\": 16,\n        \"num_unique_values\": 5,\n        \"samples\": [\n          4,\n          12\n        ],\n        \"semantic_type\": \"\",\n        \"description\": \"\"\n      }\n    },\n    {\n      \"column\": \"Storage_GB_SSD\",\n      \"properties\": {\n        \"dtype\": \"number\",\n        \"std\": 34,\n        \"min\": 128,\n        \"max\": 256,\n        \"num_unique_values\": 2,\n        \"samples\": [\n          128,\n          256\n        ],\n        \"semantic_type\": \"\",\n        \"description\": \"\"\n      }\n    },\n    {\n      \"column\": \"Weight_kg\",\n      \"properties\": {\n        \"dtype\": \"number\",\n        \"std\": 0.49433183520518015,\n        \"min\": 0.81,\n        \"max\": 3.6,\n        \"num_unique_values\": 77,\n        \"samples\": [\n          2.1,\n          1.26\n        ],\n        \"semantic_type\": \"\",\n        \"description\": \"\"\n      }\n    },\n    {\n      \"column\": \"Price\",\n      \"properties\": {\n        \"dtype\": \"number\",\n        \"std\": 574,\n        \"min\": 527,\n        \"max\": 3810,\n        \"num_unique_values\": 193,\n        \"samples\": [\n          1172,\n          1598\n        ],\n        \"semantic_type\": \"\",\n        \"description\": \"\"\n      }\n    }\n  ]\n}"
            }
          },
          "metadata": {},
          "execution_count": 6
        }
      ]
    },
    {
      "cell_type": "markdown",
      "source": [
        "## **Actualización de la columna `Screen_Size_cm`**  \n",
        "\n",
        "Para mejorar la precisión y consistencia de los datos, redondearemos todos los valores de la columna `Screen_Size_cm` a dos decimales utilizando la función `numpy.round()`.  "
      ],
      "metadata": {
        "id": "9UH_Z7dDu9JB"
      }
    },
    {
      "cell_type": "code",
      "source": [
        "# Verificar si la columna 'Screen_Size_cm' existe en el DataFrame\n",
        "if 'Screen_Size_cm' in df.columns:\n",
        "    # Redondear los valores a dos decimales usando numpy.round()\n",
        "    df['Screen_Size_cm'] = np.round(df['Screen_Size_cm'], 2)\n",
        "\n",
        "    # Mostrar los primeros registros para verificar el cambio\n",
        "    print(\"Columna 'Screen_Size_cm' actualizada con valores redondeados:\")\n",
        "    print(df[['Screen_Size_cm']].head())\n",
        "else:\n",
        "    print(\"Error: La columna 'Screen_Size_cm' no se encuentra en el DataFrame.\")"
      ],
      "metadata": {
        "colab": {
          "base_uri": "https://localhost:8080/"
        },
        "id": "mS0N9j9fvBFl",
        "outputId": "e8bf74d7-67fc-46a1-fa92-15507d9f6e85"
      },
      "execution_count": 7,
      "outputs": [
        {
          "output_type": "stream",
          "name": "stdout",
          "text": [
            "Columna 'Screen_Size_cm' actualizada con valores redondeados:\n",
            "   Screen_Size_cm\n",
            "0           35.56\n",
            "1           39.62\n",
            "2           39.62\n",
            "3           33.78\n",
            "4           39.62\n"
          ]
        }
      ]
    },
    {
      "cell_type": "markdown",
      "source": [
        "## **Ejercicio - 1**  \n",
        "### **Evaluar el conjunto de datos en busca de valores faltantes**  \n",
        "\n",
        "En el preprocesamiento anterior, los datos faltantes fueron convertidos del símbolo `'?'` a `numpy.NaN`. *Pandas* trata los valores `NaN` y `Null` de manera equivalente.  \n",
        "\n",
        "Por lo tanto, podemos identificar directamente las columnas que contienen valores nulos en el conjunto de datos. Escribe un código que detecte qué columnas tienen datos faltantes.  "
      ],
      "metadata": {
        "id": "Bj3-GRO5vO8K"
      }
    },
    {
      "cell_type": "code",
      "source": [
        "# Escribe aqui tu codigo\n"
      ],
      "metadata": {
        "id": "uBBLYgTHvUf6"
      },
      "execution_count": 9,
      "outputs": []
    },
    {
      "cell_type": "markdown",
      "source": [
        "<details><summary>Haz clic aquí para ver la solución</summary>\n",
        "\n",
        "```python\n",
        "# Identificar los valores nulos en el DataFrame\n",
        "missing_data = df.isnull()\n",
        "\n",
        "# Mostrar las primeras filas de la matriz booleana que indica valores nulos\n",
        "print(missing_data.head())\n",
        "\n",
        "# Iterar sobre cada columna y contar la cantidad de valores nulos\n",
        "for column in missing_data.columns.values.tolist():\n",
        "    print(f\"Columna: {column}\")\n",
        "    print(missing_data[column].value_counts())  # Muestra el conteo de valores nulos y no nulos\n",
        "    print(\"\")  # Línea en blanco para mejorar la legibilidad\n",
        "```\n",
        "\n",
        "</details>"
      ],
      "metadata": {
        "id": "GfW6i6hfvY0P"
      }
    },
    {
      "cell_type": "markdown",
      "source": [
        "## **Ejercicio - 2**  \n",
        "### **Reemplazar con el valor medio**  \n",
        "\n",
        "Los valores faltantes en atributos con datos continuos se deben reemplazar con el valor promedio (media). En este caso, los valores en el atributo `\"Weight_kg\"` son continuos, y algunos valores están faltando. Escribe un código para reemplazar los valores faltantes en la columna de peso con el valor promedio de ese atributo.  \n"
      ],
      "metadata": {
        "id": "mnkuuRPuvvm8"
      }
    },
    {
      "cell_type": "code",
      "source": [
        "# Escribe aqui tu codigo\n"
      ],
      "metadata": {
        "id": "vAvVBDNtv9G2"
      },
      "execution_count": 13,
      "outputs": []
    },
    {
      "cell_type": "markdown",
      "source": [
        "<details><summary>Haz clic aquí para ver la solución</summary>\n",
        "\n",
        "```python\n",
        "# Reemplazar los valores faltantes con la media sin usar inplace=True\n",
        "df[\"Weight_kg\"] = df[\"Weight_kg\"].replace(np.nan, avg_weight)\n",
        "\n",
        "# Verificar el cambio mostrando las primeras filas de la columna 'Weight_kg'\n",
        "print(\"Primeras filas de la columna 'Weight_kg' después del reemplazo:\")\n",
        "print(df[['Weight_kg']].head())\n",
        "```\n",
        "\n",
        "</details>"
      ],
      "metadata": {
        "id": "tPJfBcWsv_10"
      }
    },
    {
      "cell_type": "markdown",
      "source": [
        "## **Reemplazar con el valor más frecuente**  \n",
        "\n",
        "Los valores faltantes en atributos con datos categóricos se deben reemplazar con el valor más frecuente (moda). En este caso, el atributo `\"Screen_Size_cm\"` es categórico, y algunos valores están faltando. Escribe un código para reemplazar los valores faltantes en esta columna con el valor más frecuente de ese atributo.  \n"
      ],
      "metadata": {
        "id": "LNZrpsCDwt_S"
      }
    },
    {
      "cell_type": "code",
      "source": [
        "# Escribe aqui tu codigo\n"
      ],
      "metadata": {
        "id": "4dMNqyLWxDJa"
      },
      "execution_count": 27,
      "outputs": []
    },
    {
      "cell_type": "markdown",
      "source": [
        "<details><summary>Haz clic aquí para ver la solución</summary>\n",
        "\n",
        "```python\n",
        "# Reemplazar los valores faltantes con el valor más frecuente (moda)\n",
        "common_screen_size = df['Screen_Size_cm'].value_counts().idxmax()  # Obtener el valor más frecuente\n",
        "df[\"Screen_Size_cm\"] = df[\"Screen_Size_cm\"].replace(np.nan, common_screen_size)  # Reemplazar NaN con el valor más frecuente\n",
        "\n",
        "# Verificar el cambio mostrando las primeras filas de la columna 'Screen_Size_cm'\n",
        "print(\"Primeras filas de la columna 'Screen_Size_cm' después del reemplazo:\")\n",
        "print(df[['Screen_Size_cm']].head())\n",
        "```\n",
        "\n",
        "</details>"
      ],
      "metadata": {
        "id": "dVSfkwY4zj-R"
      }
    },
    {
      "cell_type": "markdown",
      "source": [
        "## **Ejercicio - 3**  \n",
        "### **Corregir los tipos de datos**  \n",
        "\n",
        "Tanto la columna `\"Weight_kg\"` como la columna `\"Screen_Size_cm\"` tienen el tipo de dato `\"Object\"`, pero ambas deberían tener el tipo de dato `\"float\"`. Escribe un código para corregir el tipo de datos de estas dos columnas.  \n"
      ],
      "metadata": {
        "id": "UwdyvetkxOBJ"
      }
    },
    {
      "cell_type": "code",
      "source": [
        "# Escribe aqui tu codigo\n"
      ],
      "metadata": {
        "id": "f6tFaJk2xPKY"
      },
      "execution_count": 16,
      "outputs": []
    },
    {
      "cell_type": "markdown",
      "source": [
        "<details><summary>Haz clic aquí para ver la solución</summary>\n",
        "\n",
        "```python\n",
        "# Corregir el tipo de datos de las columnas a 'float'\n",
        "df['Weight_kg'] = df['Weight_kg'].astype(float)  # Convertir 'Weight_kg' a tipo float\n",
        "df['Screen_Size_cm'] = df['Screen_Size_cm'].astype(float)  # Convertir 'Screen_Size_cm' a tipo float\n",
        "\n",
        "# Verificar los tipos de datos después de la conversión\n",
        "print(\"Tipos de datos después de la corrección:\")\n",
        "print(df.dtypes)\n",
        "```\n",
        "\n",
        "</details>"
      ],
      "metadata": {
        "id": "FY3EKmgaxRUx"
      }
    },
    {
      "cell_type": "markdown",
      "source": [
        "## **Ejercicio - 4**  \n",
        "### **Estandarización de los datos**  \n",
        "\n",
        "El valor de la columna `Screen_Size_cm` generalmente se expresa en pulgadas, y el valor de la columna `Weight_kg` debe estar en libras. Utiliza las siguientes unidades de conversión y escribe un código para modificar las columnas del `DataFrame` en consecuencia. También actualiza sus nombres:\n",
        "\n",
        "- 1 pulgada = 2.54 cm\n",
        "- 1 kg = 2.205 libras\n"
      ],
      "metadata": {
        "id": "e6y3fWDfxbp_"
      }
    },
    {
      "cell_type": "code",
      "source": [
        "# Escribe aqui tu codigo\n"
      ],
      "metadata": {
        "id": "ABEC6UePxlHV"
      },
      "execution_count": 18,
      "outputs": []
    },
    {
      "cell_type": "markdown",
      "source": [
        "<details><summary>Haz clic aquí para ver la solución</summary>\n",
        "\n",
        "```python\n",
        "# Convertir Screen_Size_cm de cm a pulgadas\n",
        "df['Screen_Size_inch'] = df['Screen_Size_cm'] / 2.54  # Convertir a pulgadas\n",
        "\n",
        "# Convertir Weight_kg de kg a libras\n",
        "df['Weight_lbs'] = df['Weight_kg'] * 2.205  # Convertir a libras\n",
        "\n",
        "# Eliminar las columnas originales para mantener el DataFrame limpio\n",
        "df.drop(['Screen_Size_cm', 'Weight_kg'], axis=1, inplace=True)\n",
        "\n",
        "# Verificar los cambios mostrando las primeras filas del DataFrame\n",
        "print(\"Primeras filas del DataFrame después de la estandarización:\")\n",
        "print(df.head())\n",
        "```\n",
        "\n",
        "</details>"
      ],
      "metadata": {
        "id": "sdPF8NO8xn0a"
      }
    },
    {
      "cell_type": "markdown",
      "source": [
        "## **Normalización de los Datos**  \n",
        "\n",
        "A menudo es necesario normalizar un atributo de datos continuos. Escribe un código para normalizar el atributo `\"CPU_frequency\"` con respecto al valor máximo disponible en el conjunto de datos.  \n"
      ],
      "metadata": {
        "id": "l8mhZfeFxw9c"
      }
    },
    {
      "cell_type": "code",
      "source": [
        "# Escribe aqui tu codigo\n"
      ],
      "metadata": {
        "id": "gpuz_DrFx4qf"
      },
      "execution_count": 20,
      "outputs": []
    },
    {
      "cell_type": "markdown",
      "source": [
        "<details><summary>Haz clic aquí para ver la solución</summary>\n",
        "\n",
        "```python\n",
        "# Normalizar el atributo 'CPU_frequency' con respecto al valor máximo\n",
        "df['CPU_frequency'] = df['CPU_frequency'] / df['CPU_frequency'].max()\n",
        "\n",
        "# Verificar la normalización mostrando las primeras filas de la columna 'CPU_frequency'\n",
        "print(\"Primeras filas de la columna 'CPU_frequency' después de la normalización:\")\n",
        "print(df[['CPU_frequency']].head())\n",
        "```\n",
        "\n",
        "</details>"
      ],
      "metadata": {
        "id": "vBhBUm38x7sN"
      }
    },
    {
      "cell_type": "markdown",
      "source": [
        "## **Ejercicio - 5**  \n",
        "### **Binning y grafica**  \n",
        "\n",
        "El *Binning* es un proceso que consiste en crear un atributo categórico dividiendo los valores de un dato continuo en un número especificado de grupos. En este caso, escribe un código para crear 3 grupos para el atributo `\"Price\"`. Estos grupos serán nombrados como `\"Low\"`, `\"Medium\"` y `\"High\"`. El nuevo atributo se llamará `\"Price-binned\"`.  \n",
        "Crear una gráfica de barras que muestre la distribución de los valores en los grupos `\"Low\"`, `\"Medium\"` y `\"High\"`."
      ],
      "metadata": {
        "id": "SQh8SvIpyHj7"
      }
    },
    {
      "cell_type": "code",
      "source": [
        "# Escribe aqui tu codigo\n"
      ],
      "metadata": {
        "id": "oWeuyOWZyNUc"
      },
      "execution_count": 29,
      "outputs": []
    },
    {
      "cell_type": "markdown",
      "source": [
        "<details><summary>Haz clic aquí para ver la solución</summary>\n",
        "\n",
        "```python\n",
        "# Definir los límites de los bins (valores de 'Price' para dividir en 3 categorías)\n",
        "bins = [df['Price'].min(), df['Price'].quantile(0.33), df['Price'].quantile(0.66), df['Price'].max()]\n",
        "\n",
        "# Definir las etiquetas para los bins\n",
        "labels = ['Low', 'Medium', 'High']\n",
        "\n",
        "# Crear una nueva columna 'Price-binned' con los valores categorizados\n",
        "df['Price-binned'] = pd.cut(df['Price'], bins=bins, labels=labels, include_lowest=True)\n",
        "\n",
        "# Eliminar la columna original 'Price'\n",
        "df.drop(['Price'], axis=1, inplace=True)\n",
        "\n",
        "# Gráfica de barras para visualizar la distribución de los grupos 'Price-binned'\n",
        "plt.figure(figsize=(8, 6))\n",
        "df['Price-binned'].value_counts().plot(kind='bar', color=['green', 'yellow', 'red'])\n",
        "plt.title('Distribución de los grupos de precios')\n",
        "plt.xlabel('Grupo de Precios')\n",
        "plt.ylabel('Cantidad de Elementos')\n",
        "plt.xticks(rotation=0)\n",
        "plt.show()\n",
        "```\n",
        "\n",
        "</details>"
      ],
      "metadata": {
        "id": "TRKOx4n1yOrf"
      }
    },
    {
      "cell_type": "markdown",
      "source": [
        "## **Ejercicio - 6**  \n",
        "### **Variables Indicadoras**  \n",
        "\n",
        "Convierte el atributo `\"Screen\"` del conjunto de datos en 2 variables indicadoras: `\"Screen-IPS_panel\"` y `\"Screen-Full_HD\"`. Luego, elimina el atributo `\"Screen\"` del conjunto de datos.  \n"
      ],
      "metadata": {
        "id": "XeEz_-sPydhN"
      }
    },
    {
      "cell_type": "code",
      "source": [
        "# Escribe aqui tu codigo\n"
      ],
      "metadata": {
        "id": "vZiJ3yDwygTM"
      },
      "execution_count": 24,
      "outputs": []
    },
    {
      "cell_type": "markdown",
      "source": [
        "<details><summary>Haz clic aquí para ver la solución</summary>\n",
        "\n",
        "```python\n",
        "# Crear las variables indicadoras basadas en los valores presentes en 'Screen'\n",
        "df['Screen-IPS_panel'] = df['Screen'].apply(lambda x: 1 if 'IPS' in str(x) else 0)\n",
        "df['Screen-Full_HD'] = df['Screen'].apply(lambda x: 1 if 'Full HD' in str(x) else 0)\n",
        "\n",
        "# Eliminar la columna original 'Screen'\n",
        "df.drop(['Screen'], axis=1, inplace=True)\n",
        "```\n",
        "\n",
        "</details>"
      ],
      "metadata": {
        "id": "4B5S4H1Nyjp_"
      }
    },
    {
      "cell_type": "markdown",
      "source": [
        "## **Verificación final de los cambios en el conjunto de datos**  \n",
        "\n",
        "Este conjunto de datos, ahora finalizado, es el que utilizarás en todos los módulos posteriores. Imprime el contenido de `dataframe.head()` para verificar los cambios realizados en el conjunto de datos.  \n"
      ],
      "metadata": {
        "id": "0R1JgWPiy2s8"
      }
    },
    {
      "cell_type": "code",
      "source": [
        "# Verificar las primeras filas del DataFrame después de todas las modificaciones\n",
        "print(\"Primeras filas del DataFrame después de los cambios realizados:\")\n",
        "print(df.head())"
      ],
      "metadata": {
        "id": "pVd_PrgOy3q5"
      },
      "execution_count": 26,
      "outputs": []
    },
    {
      "cell_type": "markdown",
      "source": [
        "## ¡Felicidades! Has completado la práctica con éxito 🎉\n",
        "\n",
        "Has aprendido a:\n",
        "\n",
        "- Manejar datos faltantes.\n",
        "- Corregir tipos de datos.\n",
        "- Estandarizar y normalizar atributos.\n",
        "- Crear variables indicadoras.\n",
        "- Realizar *binning*.\n",
        "\n",
        "¡Excelente trabajo!\n",
        "\n",
        " ¡Sigue adelante! 😊"
      ],
      "metadata": {
        "id": "ZtiyEih0zJ2F"
      }
    }
  ]
}