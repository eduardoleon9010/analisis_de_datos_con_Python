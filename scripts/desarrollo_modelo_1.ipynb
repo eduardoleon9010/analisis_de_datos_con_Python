{
  "nbformat": 4,
  "nbformat_minor": 0,
  "metadata": {
    "colab": {
      "provenance": []
    },
    "kernelspec": {
      "name": "python3",
      "display_name": "Python 3"
    },
    "language_info": {
      "name": "python"
    }
  },
  "cells": [
    {
      "cell_type": "markdown",
      "source": [
        "# Desarrollo de Modelos  \n",
        "\n",
        "## **Objetivos**  \n",
        "\n",
        "✅ Desarrollar modelos de predicción.  \n",
        "\n",
        "---\n",
        "\n",
        "## **Introducción**  \n",
        "En esta sección, desarrollaremos varios modelos que nos permitirán **predecir el precio de un automóvil** utilizando diferentes variables o características.  \n",
        "Aunque esta predicción es solo una estimación, nos proporcionará **una idea objetiva** del costo que debería tener un automóvil.  \n",
        "\n",
        "### **Preguntas clave en este módulo:**  \n",
        "- 📌 ¿El concesionario está ofreciendo un valor justo por mi vehículo en intercambio?  \n",
        "- 📌 ¿Estoy estableciendo un precio justo para mi automóvil?  \n",
        "\n",
        "En **análisis de datos**, el desarrollo de modelos nos permite **predecir observaciones futuras** con base en la información disponible.  \n",
        "\n",
        "Un modelo nos ayudará a entender **la relación exacta** entre diferentes variables y cómo estas se pueden utilizar para predecir el resultado.  \n",
        "\n",
        "---\n",
        "\n",
        "## **Configuración inicial**  \n",
        "\n",
        "Para trabajar en **Google Colab**, primero aseguramos que tenemos las librerías necesarias.  \n",
        "\n",
        "\n"
      ],
      "metadata": {
        "id": "hHYlnHDxRRJH"
      }
    },
    {
      "cell_type": "code",
      "execution_count": 1,
      "metadata": {
        "colab": {
          "base_uri": "https://localhost:8080/"
        },
        "id": "BCGC67dgxj6h",
        "outputId": "f2202796-ceb6-477c-97a2-e3760a61f8b6"
      },
      "outputs": [
        {
          "output_type": "stream",
          "name": "stdout",
          "text": [
            "Librerías cargadas con éxito. ¡Listo para comenzar! 🚀\n"
          ]
        }
      ],
      "source": [
        "# Instalación de paquetes necesarios en Google Colab (si es necesario)\n",
        "#!pip install pandas numpy scikit-learn matplotlib seaborn --quiet\n",
        "\n",
        "# Importación de librerías esenciales\n",
        "import pandas as pd\n",
        "import numpy as np\n",
        "import matplotlib.pyplot as plt\n",
        "import seaborn as sns\n",
        "from sklearn.model_selection import train_test_split\n",
        "from sklearn.linear_model import LinearRegression\n",
        "from sklearn.metrics import mean_squared_error\n",
        "\n",
        "# Configuración de gráficos\n",
        "sns.set_style(\"whitegrid\")\n",
        "plt.rcParams[\"figure.figsize\"] = (10, 6)\n",
        "\n",
        "print(\"Librerías cargadas con éxito. ¡Listo para comenzar! 🚀\")"
      ]
    },
    {
      "cell_type": "markdown",
      "source": [
        "## **Carga de datos en un DataFrame**  \n",
        "\n",
        "Para analizar los datos, primero debemos **cargarlos en un DataFrame** de **pandas**.  \n",
        "\n",
        " 📌 **Pasos a seguir:**  \n",
        "1. Descargar el archivo desde **Google Drive**.  \n",
        "2. Leer los datos en un **DataFrame**.  \n",
        "\n",
        "---\n",
        "\n",
        "### **📥 Descarga del archivo desde Google Drive**  \n",
        "\n",
        "En **Google Colab**, usaremos la biblioteca `gdown` para descargar el archivo.  \n",
        "\n",
        "\n"
      ],
      "metadata": {
        "id": "J8bSyrAOS0Jr"
      }
    },
    {
      "cell_type": "code",
      "source": [
        "# Instalamos gdown si no está disponible\n",
        "!pip install gdown --quiet\n",
        "\n",
        "# Importamos librerías necesarias\n",
        "import pandas as pd\n",
        "import gdown\n",
        "\n",
        "# Enlace del archivo en Google Drive (ID del archivo extraído del enlace original)\n",
        "file_id = \"1tFIOPpvoPdt0Be6vNzCBmtR6VokMtpa9\"\n",
        "file_name = \"usedcars.csv\"\n",
        "\n",
        "# URL directa para descargar\n",
        "download_url = f\"https://drive.google.com/uc?id={file_id}\"\n",
        "\n",
        "# Descargar archivo\n",
        "gdown.download(download_url, file_name, quiet=False)\n",
        "\n",
        "# Cargar datos en un DataFrame\n",
        "df = pd.read_csv(file_name)\n",
        "\n",
        "# Mostrar las primeras filas del DataFrame\n",
        "df.head()"
      ],
      "metadata": {
        "colab": {
          "base_uri": "https://localhost:8080/",
          "height": 412
        },
        "id": "fro8CkDaTd3s",
        "outputId": "907bc562-d476-44ac-b1dd-06e18251a495"
      },
      "execution_count": 2,
      "outputs": [
        {
          "output_type": "stream",
          "name": "stderr",
          "text": [
            "Downloading...\n",
            "From: https://drive.google.com/uc?id=1tFIOPpvoPdt0Be6vNzCBmtR6VokMtpa9\n",
            "To: /content/usedcars.csv\n",
            "100%|██████████| 35.6k/35.6k [00:00<00:00, 44.4MB/s]\n"
          ]
        },
        {
          "output_type": "execute_result",
          "data": {
            "text/plain": [
              "   symboling  normalized-losses         make aspiration num-of-doors  \\\n",
              "0          3                122  alfa-romero        std          two   \n",
              "1          3                122  alfa-romero        std          two   \n",
              "2          1                122  alfa-romero        std          two   \n",
              "3          2                164         audi        std         four   \n",
              "4          2                164         audi        std         four   \n",
              "\n",
              "    body-style drive-wheels engine-location  wheel-base    length  ...  \\\n",
              "0  convertible          rwd           front        88.6  0.811148  ...   \n",
              "1  convertible          rwd           front        88.6  0.811148  ...   \n",
              "2    hatchback          rwd           front        94.5  0.822681  ...   \n",
              "3        sedan          fwd           front        99.8  0.848630  ...   \n",
              "4        sedan          4wd           front        99.4  0.848630  ...   \n",
              "\n",
              "   compression-ratio  horsepower  peak-rpm city-mpg highway-mpg    price  \\\n",
              "0                9.0       111.0    5000.0       21          27  13495.0   \n",
              "1                9.0       111.0    5000.0       21          27  16500.0   \n",
              "2                9.0       154.0    5000.0       19          26  16500.0   \n",
              "3               10.0       102.0    5500.0       24          30  13950.0   \n",
              "4                8.0       115.0    5500.0       18          22  17450.0   \n",
              "\n",
              "  city-L/100km  horsepower-binned  diesel  gas  \n",
              "0    11.190476             Medium       0    1  \n",
              "1    11.190476             Medium       0    1  \n",
              "2    12.368421             Medium       0    1  \n",
              "3     9.791667             Medium       0    1  \n",
              "4    13.055556             Medium       0    1  \n",
              "\n",
              "[5 rows x 29 columns]"
            ],
            "text/html": [
              "\n",
              "  <div id=\"df-c303d36a-b7dc-4711-9bac-44d5645df19f\" class=\"colab-df-container\">\n",
              "    <div>\n",
              "<style scoped>\n",
              "    .dataframe tbody tr th:only-of-type {\n",
              "        vertical-align: middle;\n",
              "    }\n",
              "\n",
              "    .dataframe tbody tr th {\n",
              "        vertical-align: top;\n",
              "    }\n",
              "\n",
              "    .dataframe thead th {\n",
              "        text-align: right;\n",
              "    }\n",
              "</style>\n",
              "<table border=\"1\" class=\"dataframe\">\n",
              "  <thead>\n",
              "    <tr style=\"text-align: right;\">\n",
              "      <th></th>\n",
              "      <th>symboling</th>\n",
              "      <th>normalized-losses</th>\n",
              "      <th>make</th>\n",
              "      <th>aspiration</th>\n",
              "      <th>num-of-doors</th>\n",
              "      <th>body-style</th>\n",
              "      <th>drive-wheels</th>\n",
              "      <th>engine-location</th>\n",
              "      <th>wheel-base</th>\n",
              "      <th>length</th>\n",
              "      <th>...</th>\n",
              "      <th>compression-ratio</th>\n",
              "      <th>horsepower</th>\n",
              "      <th>peak-rpm</th>\n",
              "      <th>city-mpg</th>\n",
              "      <th>highway-mpg</th>\n",
              "      <th>price</th>\n",
              "      <th>city-L/100km</th>\n",
              "      <th>horsepower-binned</th>\n",
              "      <th>diesel</th>\n",
              "      <th>gas</th>\n",
              "    </tr>\n",
              "  </thead>\n",
              "  <tbody>\n",
              "    <tr>\n",
              "      <th>0</th>\n",
              "      <td>3</td>\n",
              "      <td>122</td>\n",
              "      <td>alfa-romero</td>\n",
              "      <td>std</td>\n",
              "      <td>two</td>\n",
              "      <td>convertible</td>\n",
              "      <td>rwd</td>\n",
              "      <td>front</td>\n",
              "      <td>88.6</td>\n",
              "      <td>0.811148</td>\n",
              "      <td>...</td>\n",
              "      <td>9.0</td>\n",
              "      <td>111.0</td>\n",
              "      <td>5000.0</td>\n",
              "      <td>21</td>\n",
              "      <td>27</td>\n",
              "      <td>13495.0</td>\n",
              "      <td>11.190476</td>\n",
              "      <td>Medium</td>\n",
              "      <td>0</td>\n",
              "      <td>1</td>\n",
              "    </tr>\n",
              "    <tr>\n",
              "      <th>1</th>\n",
              "      <td>3</td>\n",
              "      <td>122</td>\n",
              "      <td>alfa-romero</td>\n",
              "      <td>std</td>\n",
              "      <td>two</td>\n",
              "      <td>convertible</td>\n",
              "      <td>rwd</td>\n",
              "      <td>front</td>\n",
              "      <td>88.6</td>\n",
              "      <td>0.811148</td>\n",
              "      <td>...</td>\n",
              "      <td>9.0</td>\n",
              "      <td>111.0</td>\n",
              "      <td>5000.0</td>\n",
              "      <td>21</td>\n",
              "      <td>27</td>\n",
              "      <td>16500.0</td>\n",
              "      <td>11.190476</td>\n",
              "      <td>Medium</td>\n",
              "      <td>0</td>\n",
              "      <td>1</td>\n",
              "    </tr>\n",
              "    <tr>\n",
              "      <th>2</th>\n",
              "      <td>1</td>\n",
              "      <td>122</td>\n",
              "      <td>alfa-romero</td>\n",
              "      <td>std</td>\n",
              "      <td>two</td>\n",
              "      <td>hatchback</td>\n",
              "      <td>rwd</td>\n",
              "      <td>front</td>\n",
              "      <td>94.5</td>\n",
              "      <td>0.822681</td>\n",
              "      <td>...</td>\n",
              "      <td>9.0</td>\n",
              "      <td>154.0</td>\n",
              "      <td>5000.0</td>\n",
              "      <td>19</td>\n",
              "      <td>26</td>\n",
              "      <td>16500.0</td>\n",
              "      <td>12.368421</td>\n",
              "      <td>Medium</td>\n",
              "      <td>0</td>\n",
              "      <td>1</td>\n",
              "    </tr>\n",
              "    <tr>\n",
              "      <th>3</th>\n",
              "      <td>2</td>\n",
              "      <td>164</td>\n",
              "      <td>audi</td>\n",
              "      <td>std</td>\n",
              "      <td>four</td>\n",
              "      <td>sedan</td>\n",
              "      <td>fwd</td>\n",
              "      <td>front</td>\n",
              "      <td>99.8</td>\n",
              "      <td>0.848630</td>\n",
              "      <td>...</td>\n",
              "      <td>10.0</td>\n",
              "      <td>102.0</td>\n",
              "      <td>5500.0</td>\n",
              "      <td>24</td>\n",
              "      <td>30</td>\n",
              "      <td>13950.0</td>\n",
              "      <td>9.791667</td>\n",
              "      <td>Medium</td>\n",
              "      <td>0</td>\n",
              "      <td>1</td>\n",
              "    </tr>\n",
              "    <tr>\n",
              "      <th>4</th>\n",
              "      <td>2</td>\n",
              "      <td>164</td>\n",
              "      <td>audi</td>\n",
              "      <td>std</td>\n",
              "      <td>four</td>\n",
              "      <td>sedan</td>\n",
              "      <td>4wd</td>\n",
              "      <td>front</td>\n",
              "      <td>99.4</td>\n",
              "      <td>0.848630</td>\n",
              "      <td>...</td>\n",
              "      <td>8.0</td>\n",
              "      <td>115.0</td>\n",
              "      <td>5500.0</td>\n",
              "      <td>18</td>\n",
              "      <td>22</td>\n",
              "      <td>17450.0</td>\n",
              "      <td>13.055556</td>\n",
              "      <td>Medium</td>\n",
              "      <td>0</td>\n",
              "      <td>1</td>\n",
              "    </tr>\n",
              "  </tbody>\n",
              "</table>\n",
              "<p>5 rows × 29 columns</p>\n",
              "</div>\n",
              "    <div class=\"colab-df-buttons\">\n",
              "\n",
              "  <div class=\"colab-df-container\">\n",
              "    <button class=\"colab-df-convert\" onclick=\"convertToInteractive('df-c303d36a-b7dc-4711-9bac-44d5645df19f')\"\n",
              "            title=\"Convert this dataframe to an interactive table.\"\n",
              "            style=\"display:none;\">\n",
              "\n",
              "  <svg xmlns=\"http://www.w3.org/2000/svg\" height=\"24px\" viewBox=\"0 -960 960 960\">\n",
              "    <path d=\"M120-120v-720h720v720H120Zm60-500h600v-160H180v160Zm220 220h160v-160H400v160Zm0 220h160v-160H400v160ZM180-400h160v-160H180v160Zm440 0h160v-160H620v160ZM180-180h160v-160H180v160Zm440 0h160v-160H620v160Z\"/>\n",
              "  </svg>\n",
              "    </button>\n",
              "\n",
              "  <style>\n",
              "    .colab-df-container {\n",
              "      display:flex;\n",
              "      gap: 12px;\n",
              "    }\n",
              "\n",
              "    .colab-df-convert {\n",
              "      background-color: #E8F0FE;\n",
              "      border: none;\n",
              "      border-radius: 50%;\n",
              "      cursor: pointer;\n",
              "      display: none;\n",
              "      fill: #1967D2;\n",
              "      height: 32px;\n",
              "      padding: 0 0 0 0;\n",
              "      width: 32px;\n",
              "    }\n",
              "\n",
              "    .colab-df-convert:hover {\n",
              "      background-color: #E2EBFA;\n",
              "      box-shadow: 0px 1px 2px rgba(60, 64, 67, 0.3), 0px 1px 3px 1px rgba(60, 64, 67, 0.15);\n",
              "      fill: #174EA6;\n",
              "    }\n",
              "\n",
              "    .colab-df-buttons div {\n",
              "      margin-bottom: 4px;\n",
              "    }\n",
              "\n",
              "    [theme=dark] .colab-df-convert {\n",
              "      background-color: #3B4455;\n",
              "      fill: #D2E3FC;\n",
              "    }\n",
              "\n",
              "    [theme=dark] .colab-df-convert:hover {\n",
              "      background-color: #434B5C;\n",
              "      box-shadow: 0px 1px 3px 1px rgba(0, 0, 0, 0.15);\n",
              "      filter: drop-shadow(0px 1px 2px rgba(0, 0, 0, 0.3));\n",
              "      fill: #FFFFFF;\n",
              "    }\n",
              "  </style>\n",
              "\n",
              "    <script>\n",
              "      const buttonEl =\n",
              "        document.querySelector('#df-c303d36a-b7dc-4711-9bac-44d5645df19f button.colab-df-convert');\n",
              "      buttonEl.style.display =\n",
              "        google.colab.kernel.accessAllowed ? 'block' : 'none';\n",
              "\n",
              "      async function convertToInteractive(key) {\n",
              "        const element = document.querySelector('#df-c303d36a-b7dc-4711-9bac-44d5645df19f');\n",
              "        const dataTable =\n",
              "          await google.colab.kernel.invokeFunction('convertToInteractive',\n",
              "                                                    [key], {});\n",
              "        if (!dataTable) return;\n",
              "\n",
              "        const docLinkHtml = 'Like what you see? Visit the ' +\n",
              "          '<a target=\"_blank\" href=https://colab.research.google.com/notebooks/data_table.ipynb>data table notebook</a>'\n",
              "          + ' to learn more about interactive tables.';\n",
              "        element.innerHTML = '';\n",
              "        dataTable['output_type'] = 'display_data';\n",
              "        await google.colab.output.renderOutput(dataTable, element);\n",
              "        const docLink = document.createElement('div');\n",
              "        docLink.innerHTML = docLinkHtml;\n",
              "        element.appendChild(docLink);\n",
              "      }\n",
              "    </script>\n",
              "  </div>\n",
              "\n",
              "\n",
              "<div id=\"df-50eddedc-f2c7-4b6d-bfae-e6874682ec4b\">\n",
              "  <button class=\"colab-df-quickchart\" onclick=\"quickchart('df-50eddedc-f2c7-4b6d-bfae-e6874682ec4b')\"\n",
              "            title=\"Suggest charts\"\n",
              "            style=\"display:none;\">\n",
              "\n",
              "<svg xmlns=\"http://www.w3.org/2000/svg\" height=\"24px\"viewBox=\"0 0 24 24\"\n",
              "     width=\"24px\">\n",
              "    <g>\n",
              "        <path d=\"M19 3H5c-1.1 0-2 .9-2 2v14c0 1.1.9 2 2 2h14c1.1 0 2-.9 2-2V5c0-1.1-.9-2-2-2zM9 17H7v-7h2v7zm4 0h-2V7h2v10zm4 0h-2v-4h2v4z\"/>\n",
              "    </g>\n",
              "</svg>\n",
              "  </button>\n",
              "\n",
              "<style>\n",
              "  .colab-df-quickchart {\n",
              "      --bg-color: #E8F0FE;\n",
              "      --fill-color: #1967D2;\n",
              "      --hover-bg-color: #E2EBFA;\n",
              "      --hover-fill-color: #174EA6;\n",
              "      --disabled-fill-color: #AAA;\n",
              "      --disabled-bg-color: #DDD;\n",
              "  }\n",
              "\n",
              "  [theme=dark] .colab-df-quickchart {\n",
              "      --bg-color: #3B4455;\n",
              "      --fill-color: #D2E3FC;\n",
              "      --hover-bg-color: #434B5C;\n",
              "      --hover-fill-color: #FFFFFF;\n",
              "      --disabled-bg-color: #3B4455;\n",
              "      --disabled-fill-color: #666;\n",
              "  }\n",
              "\n",
              "  .colab-df-quickchart {\n",
              "    background-color: var(--bg-color);\n",
              "    border: none;\n",
              "    border-radius: 50%;\n",
              "    cursor: pointer;\n",
              "    display: none;\n",
              "    fill: var(--fill-color);\n",
              "    height: 32px;\n",
              "    padding: 0;\n",
              "    width: 32px;\n",
              "  }\n",
              "\n",
              "  .colab-df-quickchart:hover {\n",
              "    background-color: var(--hover-bg-color);\n",
              "    box-shadow: 0 1px 2px rgba(60, 64, 67, 0.3), 0 1px 3px 1px rgba(60, 64, 67, 0.15);\n",
              "    fill: var(--button-hover-fill-color);\n",
              "  }\n",
              "\n",
              "  .colab-df-quickchart-complete:disabled,\n",
              "  .colab-df-quickchart-complete:disabled:hover {\n",
              "    background-color: var(--disabled-bg-color);\n",
              "    fill: var(--disabled-fill-color);\n",
              "    box-shadow: none;\n",
              "  }\n",
              "\n",
              "  .colab-df-spinner {\n",
              "    border: 2px solid var(--fill-color);\n",
              "    border-color: transparent;\n",
              "    border-bottom-color: var(--fill-color);\n",
              "    animation:\n",
              "      spin 1s steps(1) infinite;\n",
              "  }\n",
              "\n",
              "  @keyframes spin {\n",
              "    0% {\n",
              "      border-color: transparent;\n",
              "      border-bottom-color: var(--fill-color);\n",
              "      border-left-color: var(--fill-color);\n",
              "    }\n",
              "    20% {\n",
              "      border-color: transparent;\n",
              "      border-left-color: var(--fill-color);\n",
              "      border-top-color: var(--fill-color);\n",
              "    }\n",
              "    30% {\n",
              "      border-color: transparent;\n",
              "      border-left-color: var(--fill-color);\n",
              "      border-top-color: var(--fill-color);\n",
              "      border-right-color: var(--fill-color);\n",
              "    }\n",
              "    40% {\n",
              "      border-color: transparent;\n",
              "      border-right-color: var(--fill-color);\n",
              "      border-top-color: var(--fill-color);\n",
              "    }\n",
              "    60% {\n",
              "      border-color: transparent;\n",
              "      border-right-color: var(--fill-color);\n",
              "    }\n",
              "    80% {\n",
              "      border-color: transparent;\n",
              "      border-right-color: var(--fill-color);\n",
              "      border-bottom-color: var(--fill-color);\n",
              "    }\n",
              "    90% {\n",
              "      border-color: transparent;\n",
              "      border-bottom-color: var(--fill-color);\n",
              "    }\n",
              "  }\n",
              "</style>\n",
              "\n",
              "  <script>\n",
              "    async function quickchart(key) {\n",
              "      const quickchartButtonEl =\n",
              "        document.querySelector('#' + key + ' button');\n",
              "      quickchartButtonEl.disabled = true;  // To prevent multiple clicks.\n",
              "      quickchartButtonEl.classList.add('colab-df-spinner');\n",
              "      try {\n",
              "        const charts = await google.colab.kernel.invokeFunction(\n",
              "            'suggestCharts', [key], {});\n",
              "      } catch (error) {\n",
              "        console.error('Error during call to suggestCharts:', error);\n",
              "      }\n",
              "      quickchartButtonEl.classList.remove('colab-df-spinner');\n",
              "      quickchartButtonEl.classList.add('colab-df-quickchart-complete');\n",
              "    }\n",
              "    (() => {\n",
              "      let quickchartButtonEl =\n",
              "        document.querySelector('#df-50eddedc-f2c7-4b6d-bfae-e6874682ec4b button');\n",
              "      quickchartButtonEl.style.display =\n",
              "        google.colab.kernel.accessAllowed ? 'block' : 'none';\n",
              "    })();\n",
              "  </script>\n",
              "</div>\n",
              "\n",
              "    </div>\n",
              "  </div>\n"
            ],
            "application/vnd.google.colaboratory.intrinsic+json": {
              "type": "dataframe",
              "variable_name": "df"
            }
          },
          "metadata": {},
          "execution_count": 2
        }
      ]
    },
    {
      "cell_type": "markdown",
      "source": [
        "## **1️⃣ Regresión Lineal y Regresión Lineal Múltiple**  \n",
        "\n",
        "### **📌 Regresión Lineal**  \n",
        "Uno de los modelos de datos que utilizaremos es la **Regresión Lineal Simple**.  \n",
        "\n",
        "### 🔹 **¿Qué es la Regresión Lineal Simple?**  \n",
        "Es un método que nos ayuda a entender la relación entre **dos variables**:  \n",
        "\n",
        "✅ **Variable predictora/independiente (X)**  \n",
        "✅ **Variable respuesta/dependiente (Y)**  \n",
        "\n",
        "El resultado de la **Regresión Lineal** es una **función lineal** que nos permite predecir el valor de `Y` en función de `X`.  \n",
        "\n",
        "---\n",
        "\n",
        "### **📏 Función Lineal**  \n",
        "\n",
        "\n",
        "Y = a + bX\n",
        "\n",
        "\n",
        "📌 **Donde:**  \n",
        "- **\\( a \\)** → Es la intersección con el eje Y (**cuando \\( X = 0 \\)**).  \n",
        "- **\\( b \\)** → Es la pendiente de la recta (**indica cuánto cambia \\( Y \\) cuando \\( X \\) aumenta en 1 unidad**).  \n",
        "\n",
        "---\n",
        "\n",
        "## **🔧 Carga de Módulos para Regresión Lineal**  \n",
        "\n",
        "Antes de implementar el modelo, cargaremos las bibliotecas necesarias.  \n",
        "\n"
      ],
      "metadata": {
        "id": "j5VfaMn2T39G"
      }
    },
    {
      "cell_type": "code",
      "source": [
        "# Configuración de gráficos\n",
        "sns.set_style(\"whitegrid\")\n",
        "plt.rcParams[\"figure.figsize\"] = (10, 6)\n",
        "\n",
        "print(\"📌 Módulos de Regresión Lineal cargados correctamente. ¡Listos para entrenar el modelo! 🚀\")"
      ],
      "metadata": {
        "colab": {
          "base_uri": "https://localhost:8080/"
        },
        "id": "pGe0KfdLT_2M",
        "outputId": "ca38db84-f8d9-4b5d-faaa-cdcb600756cd"
      },
      "execution_count": 3,
      "outputs": [
        {
          "output_type": "stream",
          "name": "stdout",
          "text": [
            "📌 Módulos de Regresión Lineal cargados correctamente. ¡Listos para entrenar el modelo! 🚀\n"
          ]
        }
      ]
    },
    {
      "cell_type": "markdown",
      "source": [
        "## **🔹 Creación del objeto de Regresión Lineal**  \n",
        "\n",
        "Para entrenar un modelo de **Regresión Lineal**, primero debemos crear un objeto de la clase `LinearRegression` de **scikit-learn**.  \n",
        "\n"
      ],
      "metadata": {
        "id": "Hl--PRdPUMNZ"
      }
    },
    {
      "cell_type": "code",
      "source": [
        "# Crear el objeto de Regresión Lineal\n",
        "lin_reg = LinearRegression()\n",
        "\n",
        "# Confirmar la creación del modelo\n",
        "print(\"✅ Objeto de Regresión Lineal creado correctamente.\")"
      ],
      "metadata": {
        "colab": {
          "base_uri": "https://localhost:8080/"
        },
        "id": "h6GN4cHnUPM0",
        "outputId": "0b52347c-a01d-4e44-d3f1-497156ee1ca7"
      },
      "execution_count": 4,
      "outputs": [
        {
          "output_type": "stream",
          "name": "stdout",
          "text": [
            "✅ Objeto de Regresión Lineal creado correctamente.\n"
          ]
        }
      ]
    },
    {
      "cell_type": "markdown",
      "source": [
        "## **🔹 ¿Cómo puede \"highway-mpg\" ayudarnos a predecir el precio de un automóvil?**  \n",
        "\n",
        "En este ejemplo, analizaremos cómo la variable **\"highway-mpg\"** (millas por galón en carretera) puede ayudarnos a **predecir el precio del automóvil**.  \n",
        "\n",
        "📌 Para ello, utilizaremos **Regresión Lineal Simple**, donde:  \n",
        "\n",
        "- **Variable predictora (X)** → `\"highway-mpg\"`  \n",
        "- **Variable respuesta (Y)** → `\"price\"`  \n",
        "\n",
        "El objetivo es encontrar una **función lineal** que nos permita estimar el precio del automóvil en función del consumo en carretera.  \n",
        "\n",
        "---\n",
        "\n",
        "## **📊 Visualización de la relación entre \"highway-mpg\" y \"price\"**  \n",
        "\n",
        "Antes de entrenar el modelo, es útil observar la relación entre ambas variables mediante un **gráfico de dispersión**.  \n",
        "\n",
        "\n"
      ],
      "metadata": {
        "id": "wInoHV41Ua3c"
      }
    },
    {
      "cell_type": "code",
      "source": [
        "# Visualizar la relación entre highway-mpg y price\n",
        "plt.figure(figsize=(10, 6))\n",
        "sns.scatterplot(x=df[\"highway-mpg\"], y=df[\"price\"], color=\"blue\", alpha=0.6)\n",
        "\n",
        "# Etiquetas y título\n",
        "plt.xlabel(\"Millas por galón en carretera (highway-mpg)\")\n",
        "plt.ylabel(\"Precio del automóvil\")\n",
        "plt.title(\"Relación entre highway-mpg y precio del automóvil\")\n",
        "\n",
        "# Mostrar el gráfico\n",
        "plt.show()"
      ],
      "metadata": {
        "colab": {
          "base_uri": "https://localhost:8080/",
          "height": 460
        },
        "id": "Xh5HPMtNUdsc",
        "outputId": "018c58c9-b889-4900-ce2a-62ca9ad0dd1f"
      },
      "execution_count": 5,
      "outputs": [
        {
          "output_type": "display_data",
          "data": {
            "text/plain": [
              "<Figure size 1000x600 with 1 Axes>"
            ],
            "image/png": "[encoded data removed]"
          },
          "metadata": {}
        }
      ]
    },
    {
      "cell_type": "markdown",
      "source": [
        "## **🔹 Ajuste del Modelo de Regresión Lineal con \"highway-mpg\"**  \n",
        "\n",
        "Ahora ajustaremos nuestro modelo de **Regresión Lineal** utilizando **\"highway-mpg\"** como variable predictora y **\"price\"** como variable respuesta.  \n",
        "\n",
        "📌 **Pasos a seguir:**  \n",
        "1️⃣ Definir las variables `X` (predictora) y `y` (respuesta).  \n",
        "2️⃣ Ajustar el modelo con `fit()`.  \n",
        "3️⃣ Visualizar los coeficientes obtenidos.  \n",
        "\n",
        "\n"
      ],
      "metadata": {
        "id": "pRE7e3T7Wr5f"
      }
    },
    {
      "cell_type": "code",
      "source": [
        "# Definir la variable predictora (X) y la variable respuesta (y)\n",
        "X = df[[\"highway-mpg\"]]  # La variable debe estar en formato de matriz (DataFrame)\n",
        "y = df[\"price\"]          # Variable respuesta\n",
        "\n",
        "# Ajustar el modelo de regresión lineal\n",
        "lin_reg.fit(X, y)\n",
        "\n",
        "# Mostrar los coeficientes del modelo\n",
        "print(f\"📌 Intersección (a): {lin_reg.intercept_:.2f}\")\n",
        "print(f\"📌 Pendiente (b): {lin_reg.coef_[0]:.2f}\")"
      ],
      "metadata": {
        "colab": {
          "base_uri": "https://localhost:8080/"
        },
        "id": "ABnpizhNWv28",
        "outputId": "5e0d0156-fbdf-4eed-8b29-237c70f12260"
      },
      "execution_count": 6,
      "outputs": [
        {
          "output_type": "stream",
          "name": "stdout",
          "text": [
            "📌 Intersección (a): 38423.31\n",
            "📌 Pendiente (b): -821.73\n"
          ]
        }
      ]
    },
    {
      "cell_type": "markdown",
      "source": [
        "## **🔹 Predicción del precio del automóvil con \"highway-mpg\"**  \n",
        "\n",
        "Ahora que hemos ajustado nuestro modelo, podemos usarlo para **predecir el precio de un automóvil** dado un valor específico de **\"highway-mpg\"**.  \n",
        "\n",
        "📌 **Ejemplo:**  \n",
        "Supongamos que queremos estimar el precio de un automóvil con **30 millas por galón en carretera**.  \n"
      ],
      "metadata": {
        "id": "sgmrHKmIXLD1"
      }
    },
    {
      "cell_type": "code",
      "source": [
        "# Crear un DataFrame con el nuevo valor de \"highway-mpg\"\n",
        "highway_mpg_nuevo = pd.DataFrame({\"highway-mpg\": [30]})\n",
        "\n",
        "# Realizar la predicción con el modelo ajustado\n",
        "prediccion_precio = lin_reg.predict(highway_mpg_nuevo)\n",
        "\n",
        "# Mostrar el resultado\n",
        "print(f\"🚗 Predicción: Para un automóvil con 30 mpg en carretera, el precio estimado es de ${prediccion_precio[0]:,.2f}\")"
      ],
      "metadata": {
        "colab": {
          "base_uri": "https://localhost:8080/"
        },
        "id": "54DVaWN9XOti",
        "outputId": "6df467ac-955a-42a8-9564-e5e246310326"
      },
      "execution_count": 11,
      "outputs": [
        {
          "output_type": "stream",
          "name": "stdout",
          "text": [
            "🚗 Predicción: Para un automóvil con 30 mpg en carretera, el precio estimado es de $13,771.30\n"
          ]
        }
      ]
    },
    {
      "cell_type": "markdown",
      "source": [
        "## **🔹 Valor de la Intersección (a)**  \n",
        "\n",
        "En un modelo de **Regresión Lineal Simple**, la ecuación general es:  \n",
        "\n",
        "Y = a + bX\n",
        "\n",
        "Donde:  \n",
        "✅ **\\(a\\)** es la **intersección** o término independiente, el valor de `Y` cuando `X = 0`.  \n",
        "✅ **\\(b\\)** es la **pendiente**, que indica cuánto cambia `Y` por cada unidad de `X`.  \n",
        "\n",
        "Podemos obtener el valor de la intersección de nuestro modelo con:  \n"
      ],
      "metadata": {
        "id": "d-fPLM2yYjnw"
      }
    },
    {
      "cell_type": "code",
      "source": [
        "# Obtener la intersección del modelo\n",
        "interseccion = lin_reg.intercept_\n",
        "\n",
        "# Mostrar el resultado\n",
        "print(f\"📌 El valor de la intersección (a) es: {interseccion:.2f}\")"
      ],
      "metadata": {
        "colab": {
          "base_uri": "https://localhost:8080/"
        },
        "id": "jh7S44cGYqom",
        "outputId": "3af29b2c-77b9-4cf2-9575-5d1a03628b42"
      },
      "execution_count": 12,
      "outputs": [
        {
          "output_type": "stream",
          "name": "stdout",
          "text": [
            "📌 El valor de la intersección (a) es: 38423.31\n"
          ]
        }
      ]
    },
    {
      "cell_type": "markdown",
      "source": [
        "## **🔹 Valor de la Pendiente (b)**  \n",
        "\n",
        "En nuestro modelo de **Regresión Lineal Simple**, la ecuación es:  \n",
        "\n",
        "Y = a + bX\n",
        "\n",
        "Donde:  \n",
        "✅ **\\( a \\)** es la **intersección**, el valor de `Y` cuando `X = 0`.  \n",
        "✅ **\\( b \\)** es la **pendiente**, que indica cuánto cambia `Y` por cada unidad de `X`.  \n",
        "\n",
        "Podemos obtener la pendiente con:  \n",
        "\n"
      ],
      "metadata": {
        "id": "haXrRBkNZMzG"
      }
    },
    {
      "cell_type": "code",
      "source": [
        "# Obtener la pendiente del modelo\n",
        "pendiente = lin_reg.coef_[0]\n",
        "\n",
        "# Mostrar el resultado\n",
        "print(f\"📈 El valor de la pendiente (b) es: {pendiente:.2f}\")"
      ],
      "metadata": {
        "colab": {
          "base_uri": "https://localhost:8080/"
        },
        "id": "OHmHFdmbZPiT",
        "outputId": "9d95b237-2ce0-477e-f1fd-d7d796dd975a"
      },
      "execution_count": 13,
      "outputs": [
        {
          "output_type": "stream",
          "name": "stdout",
          "text": [
            "📈 El valor de la pendiente (b) es: -821.73\n"
          ]
        }
      ]
    },
    {
      "cell_type": "markdown",
      "source": [
        "## **🔹 Modelo Lineal Estimado**  \n",
        "\n",
        "El modelo de **Regresión Lineal Simple** sigue la ecuación:  \n",
        "\n",
        "$$\n",
        "ŷ = a + b  X\n",
        "$$\n",
        "\n",
        "Donde:  \n",
        "✅ **\\( a \\)** es la **intersección** (valor de `Y` cuando `X=0`).  \n",
        "✅ **\\( b \\)** es la **pendiente** (cambio en `Y` por cada unidad de `X`).  \n",
        "\n",
        "\n"
      ],
      "metadata": {
        "id": "TLSykBjhZal6"
      }
    },
    {
      "cell_type": "code",
      "source": [
        "# Obtener los coeficientes\n",
        "a = lin_reg.intercept_\n",
        "b = lin_reg.coef_[0]\n",
        "\n",
        "# Mostrar el modelo final\n",
        "print(f\"📊 El modelo lineal estimado es:\\n\\nPrecio = {a:.2f} + ({b:.2f} × highway-mpg)\")"
      ],
      "metadata": {
        "colab": {
          "base_uri": "https://localhost:8080/"
        },
        "id": "J895nr3uaCzh",
        "outputId": "3720c6d3-4a86-4cc6-a41b-8857e582a240"
      },
      "execution_count": 16,
      "outputs": [
        {
          "output_type": "stream",
          "name": "stdout",
          "text": [
            "📊 El modelo lineal estimado es:\n",
            "\n",
            "Precio = 38423.31 + (-821.73 × highway-mpg)\n"
          ]
        }
      ]
    },
    {
      "cell_type": "markdown",
      "source": [
        "## **🔹 Pregunta 1a - Crear un objeto de Regresión Lineal**  \n",
        "\n",
        "Para crear un modelo de **Regresión Lineal**, utilizamos la clase `LinearRegression()` de `sklearn`.  \n"
      ],
      "metadata": {
        "id": "ggBf874uaGbq"
      }
    },
    {
      "cell_type": "code",
      "source": [
        "# Escribe tu codigo aqui:\n"
      ],
      "metadata": {
        "id": "sJN4w1AOakQK"
      },
      "execution_count": 18,
      "outputs": []
    },
    {
      "cell_type": "markdown",
      "source": [
        "<details><summary>Clic aqui para ver la solucion</summary>\n",
        "\n",
        "```python\n",
        "# Importar la librería\n",
        "from sklearn.linear_model import LinearRegression\n",
        "\n",
        "# Crear el objeto de regresión lineal\n",
        "lm1 = LinearRegression()\n",
        "\n",
        "# Mostrar el objeto creado\n",
        "lm1\n",
        "```\n",
        "\n",
        "</details>"
      ],
      "metadata": {
        "id": "CfbCZ_28ai3u"
      }
    },
    {
      "cell_type": "markdown",
      "source": [
        "## **🔹 Pregunta 1b - Entrenar el modelo con \"engine-size\"**  \n",
        "\n",
        "Ahora entrenaremos el modelo utilizando:  \n",
        "✅ **Variable independiente**: `engine-size` (tamaño del motor)  \n",
        "✅ **Variable dependiente**: `price` (precio del automóvil)  \n"
      ],
      "metadata": {
        "id": "GZR7rvMGa5dw"
      }
    },
    {
      "cell_type": "code",
      "source": [
        "# Escribe tu codigo aqui:\n"
      ],
      "metadata": {
        "id": "GVRCvFvca56Y"
      },
      "execution_count": 20,
      "outputs": []
    },
    {
      "cell_type": "markdown",
      "source": [
        "<details><summary>Clic aqui para ver la solucion</summary>\n",
        "\n",
        "```python\n",
        "# Entrenar el modelo\n",
        "lm1.fit(df[['engine-size']], df[['price']])\n",
        "\n",
        "# Mostrar el modelo entrenado\n",
        "lm1\n",
        "```\n",
        "\n",
        "</details>"
      ],
      "metadata": {
        "id": "2UYfnzIta6Au"
      }
    },
    {
      "cell_type": "markdown",
      "source": [
        "## **🔹 Pregunta 1c - Obtener la pendiente y la intersección del modelo**  \n",
        "\n",
        "Una vez entrenado el modelo, podemos obtener sus **coeficientes**:  \n",
        "✅ **Intersección (`a`)**: Valor de `price` cuando `engine-size = 0`.  \n",
        "✅ **Pendiente (`b`)**: Cuánto cambia `price` por cada unidad adicional de `engine-size`.  \n"
      ],
      "metadata": {
        "id": "8QWOr3bdbUUU"
      }
    },
    {
      "cell_type": "code",
      "source": [
        "# Escribe tu codigo aqui:\n"
      ],
      "metadata": {
        "id": "1LBLNnK5bUbB"
      },
      "execution_count": 22,
      "outputs": []
    },
    {
      "cell_type": "markdown",
      "source": [
        "<details><summary>Clic aqui para ver la solucion</summary>\n",
        "\n",
        "```python\n",
        "# Obtener la intersección (a)\n",
        "a = lm1.intercept_\n",
        "\n",
        "# Obtener la pendiente (b)\n",
        "b = lm1.coef_[0]\n",
        "\n",
        "# Mostrar resultados\n",
        "print(f\"📌 Intersección (a): {a[0]:.2f}\")\n",
        "print(f\"📌 Pendiente (b): {b[0]:.2f}\")\n",
        "```\n",
        "\n",
        "</details>"
      ],
      "metadata": {
        "id": "B6sWCUWobUg8"
      }
    },
    {
      "cell_type": "markdown",
      "source": [
        "## **🔹 Pregunta 1d - Obtener la ecuación de la línea de regresión**  \n",
        "\n",
        "Ahora que tenemos la **pendiente** (`b`) y la **intersección** (`a`), podemos escribir la ecuación de la recta de regresión:  \n",
        "$$\n",
        "ŷ = a + bX\n",
        "$$\n",
        "\n",
        "Donde:  \n",
        "✅ **`X`** es `engine-size` (tamaño del motor).  \n",
        "✅ **ŷ** es `price` (precio estimado del automóvil).  \n",
        "✅ **`a`** es la intersección.  \n",
        "✅ **`b`** es la pendiente.    "
      ],
      "metadata": {
        "id": "ajuHH3ETcETp"
      }
    },
    {
      "cell_type": "code",
      "source": [
        "# Escribe tu codigo aqui:\n"
      ],
      "metadata": {
        "id": "fPYVYmd9cGDW"
      },
      "execution_count": 25,
      "outputs": []
    },
    {
      "cell_type": "markdown",
      "source": [
        "<details><summary>Clic aqui para ver la solucion</summary>\n",
        "\n",
        "```python\n",
        "# Definir los coeficientes del modelo\n",
        "a = lm1.intercept_[0]\n",
        "b = lm1.coef_[0][0]\n",
        "\n",
        "# Mostrar la ecuación de la regresión\n",
        "print(f\"📌 Ecuación del modelo: Price = {a:.2f} + {b:.2f} * engine-size\")\n",
        "\n",
        "# Calcular valores predichos\n",
        "df['price_pred'] = a + b * df['engine-size']\n",
        "```\n",
        "\n",
        "</details>"
      ],
      "metadata": {
        "id": "JJWM9lZGcJeO"
      }
    },
    {
      "cell_type": "markdown",
      "source": [
        "## **🔹 Regresión Lineal Múltiple**\n",
        "### **📌 ¿Qué pasa si queremos predecir el precio del automóvil usando más de una variable?**  \n",
        "\n",
        "Si queremos utilizar **más variables** en nuestro modelo para predecir el **precio del automóvil**, podemos emplear **Regresión Lineal Múltiple**.  \n",
        "\n",
        "✅ **Diferencia con la regresión lineal simple:**  \n",
        "🔹 La regresión lineal simple solo usa **una** variable independiente.  \n",
        "🔹 La regresión lineal múltiple usa **dos o más** variables independientes.  \n",
        "\n",
        "En la práctica, la mayoría de los modelos de regresión en el mundo real involucran **múltiples predictores**.  \n",
        "\n",
        "---\n",
        "\n",
        "### **📌 Estructura de la Regresión Lineal Múltiple**  \n",
        "\n",
        "Y: Variable de respuesta (dependiente)\n",
        "\n",
        "X_1, X_2, X_3, X_4: Variables predictoras (independientes)\n",
        "\n",
        "\n",
        "La ecuación de la regresión lineal múltiple es:\n",
        "\n",
        "ŷ = a + b_1 X_1 + b_2 X_2 + b_3 X_3 + b_4 X_4\n",
        "\n",
        "\n",
        "Donde:  \n",
        "✅ **`a`** es la intersección.  \n",
        "✅ **`b_1, b_2, b_3, b_4`** son los coeficientes de cada variable predictora.  \n",
        "\n",
        "---\n",
        "\n"
      ],
      "metadata": {
        "id": "Io2-kVy_fjAc"
      }
    },
    {
      "cell_type": "markdown",
      "source": [
        "## **🔹 Desarrollo del Modelo con Múltiples Predictores**\n",
        "### **📌 Elección de Variables Predictoras**\n",
        "A partir de la sección anterior, sabemos que existen algunas variables que pueden ser **buenos predictores** del precio del automóvil.  \n",
        "\n",
        "Las variables seleccionadas son:  \n",
        "✅ **Horsepower (Potencia del motor)**  \n",
        "✅ **Curb-weight (Peso en vacío)**  \n",
        "✅ **Engine-size (Tamaño del motor)**  \n",
        "✅ **Highway-mpg (Consumo en carretera - mpg)**  \n",
        "\n",
        "---\n",
        "\n",
        "### **📌 Implementación en Python (Google Colab)**\n",
        "\n"
      ],
      "metadata": {
        "id": "H6yxAB6Kfkvv"
      }
    },
    {
      "cell_type": "code",
      "source": [
        "# Importamos la librería necesaria\n",
        "from sklearn.linear_model import LinearRegression\n",
        "\n",
        "# Definimos las variables predictoras\n",
        "X = df[['horsepower', 'curb-weight', 'engine-size', 'highway-mpg']]\n",
        "\n",
        "# Definimos la variable de respuesta\n",
        "Y = df[['price']]\n",
        "\n",
        "# Creamos el objeto de regresión lineal múltiple\n",
        "lm_multiple = LinearRegression()\n",
        "\n",
        "# Ajustamos el modelo con los datos\n",
        "lm_multiple.fit(X, Y)\n",
        "\n",
        "# Mostramos los coeficientes y la intersección\n",
        "a = lm_multiple.intercept_[0]  # Intersección\n",
        "b = lm_multiple.coef_[0]  # Coeficientes de las variables\n",
        "\n",
        "print(f\"📌 Ecuación del modelo:\")\n",
        "print(f\"Price = {a:.2f} + {b[0]:.2f} * horsepower + {b[1]:.2f} * curb-weight + {b[2]:.2f} * engine-size + {b[3]:.2f} * highway-mpg\")"
      ],
      "metadata": {
        "colab": {
          "base_uri": "https://localhost:8080/"
        },
        "id": "e2I0XiPzg8fC",
        "outputId": "af8aa416-cdee-4c34-c8ab-68ba96fb8a29"
      },
      "execution_count": 27,
      "outputs": [
        {
          "output_type": "stream",
          "name": "stdout",
          "text": [
            "📌 Ecuación del modelo:\n",
            "Price = -15806.62 + 53.50 * horsepower + 4.71 * curb-weight + 81.53 * engine-size + 36.06 * highway-mpg\n"
          ]
        }
      ]
    },
    {
      "cell_type": "code",
      "source": [
        "# Ajustamos el modelo de regresión lineal múltiple con las variables seleccionadas\n",
        "lm_multiple.fit(X, Y)"
      ],
      "metadata": {
        "colab": {
          "base_uri": "https://localhost:8080/",
          "height": 80
        },
        "id": "YeVxJXmQhShC",
        "outputId": "f9cccedb-4ec6-466b-ac02-56285b62dc5c"
      },
      "execution_count": 28,
      "outputs": [
        {
          "output_type": "execute_result",
          "data": {
            "text/plain": [
              "LinearRegression()"
            ],
            "text/html": [
              "<style>#sk-container-id-3 {\n",
              "  /* Definition of color scheme common for light and dark mode */\n",
              "  --sklearn-color-text: #000;\n",
              "  --sklearn-color-text-muted: #666;\n",
              "  --sklearn-color-line: gray;\n",
              "  /* Definition of color scheme for unfitted estimators */\n",
              "  --sklearn-color-unfitted-level-0: #fff5e6;\n",
              "  --sklearn-color-unfitted-level-1: #f6e4d2;\n",
              "  --sklearn-color-unfitted-level-2: #ffe0b3;\n",
              "  --sklearn-color-unfitted-level-3: chocolate;\n",
              "  /* Definition of color scheme for fitted estimators */\n",
              "  --sklearn-color-fitted-level-0: #f0f8ff;\n",
              "  --sklearn-color-fitted-level-1: #d4ebff;\n",
              "  --sklearn-color-fitted-level-2: #b3dbfd;\n",
              "  --sklearn-color-fitted-level-3: cornflowerblue;\n",
              "\n",
              "  /* Specific color for light theme */\n",
              "  --sklearn-color-text-on-default-background: var(--sg-text-color, var(--theme-code-foreground, var(--jp-content-font-color1, black)));\n",
              "  --sklearn-color-background: var(--sg-background-color, var(--theme-background, var(--jp-layout-color0, white)));\n",
              "  --sklearn-color-border-box: var(--sg-text-color, var(--theme-code-foreground, var(--jp-content-font-color1, black)));\n",
              "  --sklearn-color-icon: #696969;\n",
              "\n",
              "  @media (prefers-color-scheme: dark) {\n",
              "    /* Redefinition of color scheme for dark theme */\n",
              "    --sklearn-color-text-on-default-background: var(--sg-text-color, var(--theme-code-foreground, var(--jp-content-font-color1, white)));\n",
              "    --sklearn-color-background: var(--sg-background-color, var(--theme-background, var(--jp-layout-color0, #111)));\n",
              "    --sklearn-color-border-box: var(--sg-text-color, var(--theme-code-foreground, var(--jp-content-font-color1, white)));\n",
              "    --sklearn-color-icon: #878787;\n",
              "  }\n",
              "}\n",
              "\n",
              "#sk-container-id-3 {\n",
              "  color: var(--sklearn-color-text);\n",
              "}\n",
              "\n",
              "#sk-container-id-3 pre {\n",
              "  padding: 0;\n",
              "}\n",
              "\n",
              "#sk-container-id-3 input.sk-hidden--visually {\n",
              "  border: 0;\n",
              "  clip: rect(1px 1px 1px 1px);\n",
              "  clip: rect(1px, 1px, 1px, 1px);\n",
              "  height: 1px;\n",
              "  margin: -1px;\n",
              "  overflow: hidden;\n",
              "  padding: 0;\n",
              "  position: absolute;\n",
              "  width: 1px;\n",
              "}\n",
              "\n",
              "#sk-container-id-3 div.sk-dashed-wrapped {\n",
              "  border: 1px dashed var(--sklearn-color-line);\n",
              "  margin: 0 0.4em 0.5em 0.4em;\n",
              "  box-sizing: border-box;\n",
              "  padding-bottom: 0.4em;\n",
              "  background-color: var(--sklearn-color-background);\n",
              "}\n",
              "\n",
              "#sk-container-id-3 div.sk-container {\n",
              "  /* jupyter's `normalize.less` sets `[hidden] { display: none; }`\n",
              "     but bootstrap.min.css set `[hidden] { display: none !important; }`\n",
              "     so we also need the `!important` here to be able to override the\n",
              "     default hidden behavior on the sphinx rendered scikit-learn.org.\n",
              "     See: https://github.com/scikit-learn/scikit-learn/issues/21755 */\n",
              "  display: inline-block !important;\n",
              "  position: relative;\n",
              "}\n",
              "\n",
              "#sk-container-id-3 div.sk-text-repr-fallback {\n",
              "  display: none;\n",
              "}\n",
              "\n",
              "div.sk-parallel-item,\n",
              "div.sk-serial,\n",
              "div.sk-item {\n",
              "  /* draw centered vertical line to link estimators */\n",
              "  background-image: linear-gradient(var(--sklearn-color-text-on-default-background), var(--sklearn-color-text-on-default-background));\n",
              "  background-size: 2px 100%;\n",
              "  background-repeat: no-repeat;\n",
              "  background-position: center center;\n",
              "}\n",
              "\n",
              "/* Parallel-specific style estimator block */\n",
              "\n",
              "#sk-container-id-3 div.sk-parallel-item::after {\n",
              "  content: \"\";\n",
              "  width: 100%;\n",
              "  border-bottom: 2px solid var(--sklearn-color-text-on-default-background);\n",
              "  flex-grow: 1;\n",
              "}\n",
              "\n",
              "#sk-container-id-3 div.sk-parallel {\n",
              "  display: flex;\n",
              "  align-items: stretch;\n",
              "  justify-content: center;\n",
              "  background-color: var(--sklearn-color-background);\n",
              "  position: relative;\n",
              "}\n",
              "\n",
              "#sk-container-id-3 div.sk-parallel-item {\n",
              "  display: flex;\n",
              "  flex-direction: column;\n",
              "}\n",
              "\n",
              "#sk-container-id-3 div.sk-parallel-item:first-child::after {\n",
              "  align-self: flex-end;\n",
              "  width: 50%;\n",
              "}\n",
              "\n",
              "#sk-container-id-3 div.sk-parallel-item:last-child::after {\n",
              "  align-self: flex-start;\n",
              "  width: 50%;\n",
              "}\n",
              "\n",
              "#sk-container-id-3 div.sk-parallel-item:only-child::after {\n",
              "  width: 0;\n",
              "}\n",
              "\n",
              "/* Serial-specific style estimator block */\n",
              "\n",
              "#sk-container-id-3 div.sk-serial {\n",
              "  display: flex;\n",
              "  flex-direction: column;\n",
              "  align-items: center;\n",
              "  background-color: var(--sklearn-color-background);\n",
              "  padding-right: 1em;\n",
              "  padding-left: 1em;\n",
              "}\n",
              "\n",
              "\n",
              "/* Toggleable style: style used for estimator/Pipeline/ColumnTransformer box that is\n",
              "clickable and can be expanded/collapsed.\n",
              "- Pipeline and ColumnTransformer use this feature and define the default style\n",
              "- Estimators will overwrite some part of the style using the `sk-estimator` class\n",
              "*/\n",
              "\n",
              "/* Pipeline and ColumnTransformer style (default) */\n",
              "\n",
              "#sk-container-id-3 div.sk-toggleable {\n",
              "  /* Default theme specific background. It is overwritten whether we have a\n",
              "  specific estimator or a Pipeline/ColumnTransformer */\n",
              "  background-color: var(--sklearn-color-background);\n",
              "}\n",
              "\n",
              "/* Toggleable label */\n",
              "#sk-container-id-3 label.sk-toggleable__label {\n",
              "  cursor: pointer;\n",
              "  display: flex;\n",
              "  width: 100%;\n",
              "  margin-bottom: 0;\n",
              "  padding: 0.5em;\n",
              "  box-sizing: border-box;\n",
              "  text-align: center;\n",
              "  align-items: start;\n",
              "  justify-content: space-between;\n",
              "  gap: 0.5em;\n",
              "}\n",
              "\n",
              "#sk-container-id-3 label.sk-toggleable__label .caption {\n",
              "  font-size: 0.6rem;\n",
              "  font-weight: lighter;\n",
              "  color: var(--sklearn-color-text-muted);\n",
              "}\n",
              "\n",
              "#sk-container-id-3 label.sk-toggleable__label-arrow:before {\n",
              "  /* Arrow on the left of the label */\n",
              "  content: \"▸\";\n",
              "  float: left;\n",
              "  margin-right: 0.25em;\n",
              "  color: var(--sklearn-color-icon);\n",
              "}\n",
              "\n",
              "#sk-container-id-3 label.sk-toggleable__label-arrow:hover:before {\n",
              "  color: var(--sklearn-color-text);\n",
              "}\n",
              "\n",
              "/* Toggleable content - dropdown */\n",
              "\n",
              "#sk-container-id-3 div.sk-toggleable__content {\n",
              "  max-height: 0;\n",
              "  max-width: 0;\n",
              "  overflow: hidden;\n",
              "  text-align: left;\n",
              "  /* unfitted */\n",
              "  background-color: var(--sklearn-color-unfitted-level-0);\n",
              "}\n",
              "\n",
              "#sk-container-id-3 div.sk-toggleable__content.fitted {\n",
              "  /* fitted */\n",
              "  background-color: var(--sklearn-color-fitted-level-0);\n",
              "}\n",
              "\n",
              "#sk-container-id-3 div.sk-toggleable__content pre {\n",
              "  margin: 0.2em;\n",
              "  border-radius: 0.25em;\n",
              "  color: var(--sklearn-color-text);\n",
              "  /* unfitted */\n",
              "  background-color: var(--sklearn-color-unfitted-level-0);\n",
              "}\n",
              "\n",
              "#sk-container-id-3 div.sk-toggleable__content.fitted pre {\n",
              "  /* unfitted */\n",
              "  background-color: var(--sklearn-color-fitted-level-0);\n",
              "}\n",
              "\n",
              "#sk-container-id-3 input.sk-toggleable__control:checked~div.sk-toggleable__content {\n",
              "  /* Expand drop-down */\n",
              "  max-height: 200px;\n",
              "  max-width: 100%;\n",
              "  overflow: auto;\n",
              "}\n",
              "\n",
              "#sk-container-id-3 input.sk-toggleable__control:checked~label.sk-toggleable__label-arrow:before {\n",
              "  content: \"▾\";\n",
              "}\n",
              "\n",
              "/* Pipeline/ColumnTransformer-specific style */\n",
              "\n",
              "#sk-container-id-3 div.sk-label input.sk-toggleable__control:checked~label.sk-toggleable__label {\n",
              "  color: var(--sklearn-color-text);\n",
              "  background-color: var(--sklearn-color-unfitted-level-2);\n",
              "}\n",
              "\n",
              "#sk-container-id-3 div.sk-label.fitted input.sk-toggleable__control:checked~label.sk-toggleable__label {\n",
              "  background-color: var(--sklearn-color-fitted-level-2);\n",
              "}\n",
              "\n",
              "/* Estimator-specific style */\n",
              "\n",
              "/* Colorize estimator box */\n",
              "#sk-container-id-3 div.sk-estimator input.sk-toggleable__control:checked~label.sk-toggleable__label {\n",
              "  /* unfitted */\n",
              "  background-color: var(--sklearn-color-unfitted-level-2);\n",
              "}\n",
              "\n",
              "#sk-container-id-3 div.sk-estimator.fitted input.sk-toggleable__control:checked~label.sk-toggleable__label {\n",
              "  /* fitted */\n",
              "  background-color: var(--sklearn-color-fitted-level-2);\n",
              "}\n",
              "\n",
              "#sk-container-id-3 div.sk-label label.sk-toggleable__label,\n",
              "#sk-container-id-3 div.sk-label label {\n",
              "  /* The background is the default theme color */\n",
              "  color: var(--sklearn-color-text-on-default-background);\n",
              "}\n",
              "\n",
              "/* On hover, darken the color of the background */\n",
              "#sk-container-id-3 div.sk-label:hover label.sk-toggleable__label {\n",
              "  color: var(--sklearn-color-text);\n",
              "  background-color: var(--sklearn-color-unfitted-level-2);\n",
              "}\n",
              "\n",
              "/* Label box, darken color on hover, fitted */\n",
              "#sk-container-id-3 div.sk-label.fitted:hover label.sk-toggleable__label.fitted {\n",
              "  color: var(--sklearn-color-text);\n",
              "  background-color: var(--sklearn-color-fitted-level-2);\n",
              "}\n",
              "\n",
              "/* Estimator label */\n",
              "\n",
              "#sk-container-id-3 div.sk-label label {\n",
              "  font-family: monospace;\n",
              "  font-weight: bold;\n",
              "  display: inline-block;\n",
              "  line-height: 1.2em;\n",
              "}\n",
              "\n",
              "#sk-container-id-3 div.sk-label-container {\n",
              "  text-align: center;\n",
              "}\n",
              "\n",
              "/* Estimator-specific */\n",
              "#sk-container-id-3 div.sk-estimator {\n",
              "  font-family: monospace;\n",
              "  border: 1px dotted var(--sklearn-color-border-box);\n",
              "  border-radius: 0.25em;\n",
              "  box-sizing: border-box;\n",
              "  margin-bottom: 0.5em;\n",
              "  /* unfitted */\n",
              "  background-color: var(--sklearn-color-unfitted-level-0);\n",
              "}\n",
              "\n",
              "#sk-container-id-3 div.sk-estimator.fitted {\n",
              "  /* fitted */\n",
              "  background-color: var(--sklearn-color-fitted-level-0);\n",
              "}\n",
              "\n",
              "/* on hover */\n",
              "#sk-container-id-3 div.sk-estimator:hover {\n",
              "  /* unfitted */\n",
              "  background-color: var(--sklearn-color-unfitted-level-2);\n",
              "}\n",
              "\n",
              "#sk-container-id-3 div.sk-estimator.fitted:hover {\n",
              "  /* fitted */\n",
              "  background-color: var(--sklearn-color-fitted-level-2);\n",
              "}\n",
              "\n",
              "/* Specification for estimator info (e.g. \"i\" and \"?\") */\n",
              "\n",
              "/* Common style for \"i\" and \"?\" */\n",
              "\n",
              ".sk-estimator-doc-link,\n",
              "a:link.sk-estimator-doc-link,\n",
              "a:visited.sk-estimator-doc-link {\n",
              "  float: right;\n",
              "  font-size: smaller;\n",
              "  line-height: 1em;\n",
              "  font-family: monospace;\n",
              "  background-color: var(--sklearn-color-background);\n",
              "  border-radius: 1em;\n",
              "  height: 1em;\n",
              "  width: 1em;\n",
              "  text-decoration: none !important;\n",
              "  margin-left: 0.5em;\n",
              "  text-align: center;\n",
              "  /* unfitted */\n",
              "  border: var(--sklearn-color-unfitted-level-1) 1pt solid;\n",
              "  color: var(--sklearn-color-unfitted-level-1);\n",
              "}\n",
              "\n",
              ".sk-estimator-doc-link.fitted,\n",
              "a:link.sk-estimator-doc-link.fitted,\n",
              "a:visited.sk-estimator-doc-link.fitted {\n",
              "  /* fitted */\n",
              "  border: var(--sklearn-color-fitted-level-1) 1pt solid;\n",
              "  color: var(--sklearn-color-fitted-level-1);\n",
              "}\n",
              "\n",
              "/* On hover */\n",
              "div.sk-estimator:hover .sk-estimator-doc-link:hover,\n",
              ".sk-estimator-doc-link:hover,\n",
              "div.sk-label-container:hover .sk-estimator-doc-link:hover,\n",
              ".sk-estimator-doc-link:hover {\n",
              "  /* unfitted */\n",
              "  background-color: var(--sklearn-color-unfitted-level-3);\n",
              "  color: var(--sklearn-color-background);\n",
              "  text-decoration: none;\n",
              "}\n",
              "\n",
              "div.sk-estimator.fitted:hover .sk-estimator-doc-link.fitted:hover,\n",
              ".sk-estimator-doc-link.fitted:hover,\n",
              "div.sk-label-container:hover .sk-estimator-doc-link.fitted:hover,\n",
              ".sk-estimator-doc-link.fitted:hover {\n",
              "  /* fitted */\n",
              "  background-color: var(--sklearn-color-fitted-level-3);\n",
              "  color: var(--sklearn-color-background);\n",
              "  text-decoration: none;\n",
              "}\n",
              "\n",
              "/* Span, style for the box shown on hovering the info icon */\n",
              ".sk-estimator-doc-link span {\n",
              "  display: none;\n",
              "  z-index: 9999;\n",
              "  position: relative;\n",
              "  font-weight: normal;\n",
              "  right: .2ex;\n",
              "  padding: .5ex;\n",
              "  margin: .5ex;\n",
              "  width: min-content;\n",
              "  min-width: 20ex;\n",
              "  max-width: 50ex;\n",
              "  color: var(--sklearn-color-text);\n",
              "  box-shadow: 2pt 2pt 4pt #999;\n",
              "  /* unfitted */\n",
              "  background: var(--sklearn-color-unfitted-level-0);\n",
              "  border: .5pt solid var(--sklearn-color-unfitted-level-3);\n",
              "}\n",
              "\n",
              ".sk-estimator-doc-link.fitted span {\n",
              "  /* fitted */\n",
              "  background: var(--sklearn-color-fitted-level-0);\n",
              "  border: var(--sklearn-color-fitted-level-3);\n",
              "}\n",
              "\n",
              ".sk-estimator-doc-link:hover span {\n",
              "  display: block;\n",
              "}\n",
              "\n",
              "/* \"?\"-specific style due to the `<a>` HTML tag */\n",
              "\n",
              "#sk-container-id-3 a.estimator_doc_link {\n",
              "  float: right;\n",
              "  font-size: 1rem;\n",
              "  line-height: 1em;\n",
              "  font-family: monospace;\n",
              "  background-color: var(--sklearn-color-background);\n",
              "  border-radius: 1rem;\n",
              "  height: 1rem;\n",
              "  width: 1rem;\n",
              "  text-decoration: none;\n",
              "  /* unfitted */\n",
              "  color: var(--sklearn-color-unfitted-level-1);\n",
              "  border: var(--sklearn-color-unfitted-level-1) 1pt solid;\n",
              "}\n",
              "\n",
              "#sk-container-id-3 a.estimator_doc_link.fitted {\n",
              "  /* fitted */\n",
              "  border: var(--sklearn-color-fitted-level-1) 1pt solid;\n",
              "  color: var(--sklearn-color-fitted-level-1);\n",
              "}\n",
              "\n",
              "/* On hover */\n",
              "#sk-container-id-3 a.estimator_doc_link:hover {\n",
              "  /* unfitted */\n",
              "  background-color: var(--sklearn-color-unfitted-level-3);\n",
              "  color: var(--sklearn-color-background);\n",
              "  text-decoration: none;\n",
              "}\n",
              "\n",
              "#sk-container-id-3 a.estimator_doc_link.fitted:hover {\n",
              "  /* fitted */\n",
              "  background-color: var(--sklearn-color-fitted-level-3);\n",
              "}\n",
              "</style><div id=\"sk-container-id-3\" class=\"sk-top-container\"><div class=\"sk-text-repr-fallback\"><pre>LinearRegression()</pre><b>In a Jupyter environment, please rerun this cell to show the HTML representation or trust the notebook. <br />On GitHub, the HTML representation is unable to render, please try loading this page with nbviewer.org.</b></div><div class=\"sk-container\" hidden><div class=\"sk-item\"><div class=\"sk-estimator fitted sk-toggleable\"><input class=\"sk-toggleable__control sk-hidden--visually\" id=\"sk-estimator-id-3\" type=\"checkbox\" checked><label for=\"sk-estimator-id-3\" class=\"sk-toggleable__label fitted sk-toggleable__label-arrow\"><div><div>LinearRegression</div></div><div><a class=\"sk-estimator-doc-link fitted\" rel=\"noreferrer\" target=\"_blank\" href=\"https://scikit-learn.org/1.6/modules/generated/sklearn.linear_model.LinearRegression.html\">?<span>Documentation for LinearRegression</span></a><span class=\"sk-estimator-doc-link fitted\">i<span>Fitted</span></span></div></label><div class=\"sk-toggleable__content fitted\"><pre>LinearRegression()</pre></div> </div></div></div></div>"
            ]
          },
          "metadata": {},
          "execution_count": 28
        }
      ]
    },
    {
      "cell_type": "code",
      "source": [
        "# Valor de la intersección (a)\n",
        "lm_multiple.intercept_"
      ],
      "metadata": {
        "colab": {
          "base_uri": "https://localhost:8080/"
        },
        "id": "nYKuRVeahYGN",
        "outputId": "a51bc553-79b4-4359-b3f3-e36e7d68c6aa"
      },
      "execution_count": 29,
      "outputs": [
        {
          "output_type": "execute_result",
          "data": {
            "text/plain": [
              "array([-15806.62462633])"
            ]
          },
          "metadata": {},
          "execution_count": 29
        }
      ]
    },
    {
      "cell_type": "code",
      "source": [
        "# Valores de los coeficientes (b1, b2, b3, b4)\n",
        "lm_multiple.coef_"
      ],
      "metadata": {
        "colab": {
          "base_uri": "https://localhost:8080/"
        },
        "id": "f90TsFJxhe-m",
        "outputId": "bfa72c70-ae95-4e96-ad56-2534dcd78457"
      },
      "execution_count": 30,
      "outputs": [
        {
          "output_type": "execute_result",
          "data": {
            "text/plain": [
              "array([[53.49574423,  4.70770099, 81.53026382, 36.05748882]])"
            ]
          },
          "metadata": {},
          "execution_count": 30
        }
      ]
    },
    {
      "cell_type": "markdown",
      "source": [
        "### Modelo de Regresión Lineal Múltiple Estimado\n",
        "\n",
        "A partir del ajuste del modelo, obtenemos la siguiente ecuación de regresión:\n",
        "\n",
        "Price = -15678.74 + 52.66\n",
        "\n",
        "horsepower + 4.70\n",
        "\n",
        "curb-weight + 81.96\n",
        "\n",
        "engine-size + 33.58\n",
        "\n",
        "highway-mpg\n",
        "Donde:\n",
        "- **-15678.74** es el intercepto del modelo.\n",
        "- **52.66** es el coeficiente para la variable *horsepower*.\n",
        "- **4.70** es el coeficiente para la variable *curb-weight*.\n",
        "- **81.96** es el coeficiente para la variable *engine-size*.\n",
        "- **33.58** es el coeficiente para la variable *highway-mpg*.\n",
        "\n",
        "Esto significa que cada incremento en una de estas variables, manteniendo las demás constantes, afectará el precio del automóvil en la cantidad correspondiente al coeficiente asociado.\n"
      ],
      "metadata": {
        "id": "JMj136w2hzOC"
      }
    },
    {
      "cell_type": "markdown",
      "source": [
        "### 📌 Pregunta 2a - Creación y entrenamiento de un modelo de Regresión Lineal Múltiple\n",
        "\n",
        "En esta sección, crearemos y entrenaremos un modelo de **Regresión Lineal Múltiple** llamado `lm2`, en el cual la variable de respuesta será el **precio del automóvil** (`price`), mientras que las variables predictoras serán **las pérdidas normalizadas** (`normalized-losses`) y **el consumo en carretera** (`highway-mpg`).\n",
        "\n",
        "Este modelo nos permitirá analizar la relación conjunta de estas dos variables con el precio del vehículo.\n",
        "\n",
        "\n"
      ],
      "metadata": {
        "id": "SB-taDjdiGnc"
      }
    },
    {
      "cell_type": "code",
      "source": [
        "# Escribe tu codigo aqui:\n"
      ],
      "metadata": {
        "colab": {
          "base_uri": "https://localhost:8080/",
          "height": 80
        },
        "id": "EqUFoL0Jhn1K",
        "outputId": "ce3d3212-b522-4cae-8fff-bb6d8c111fc4"
      },
      "execution_count": 33,
      "outputs": [
        {
          "output_type": "execute_result",
          "data": {
            "text/plain": [
              "LinearRegression()"
            ],
            "text/html": [
              "<style>#sk-container-id-4 {\n",
              "  /* Definition of color scheme common for light and dark mode */\n",
              "  --sklearn-color-text: #000;\n",
              "  --sklearn-color-text-muted: #666;\n",
              "  --sklearn-color-line: gray;\n",
              "  /* Definition of color scheme for unfitted estimators */\n",
              "  --sklearn-color-unfitted-level-0: #fff5e6;\n",
              "  --sklearn-color-unfitted-level-1: #f6e4d2;\n",
              "  --sklearn-color-unfitted-level-2: #ffe0b3;\n",
              "  --sklearn-color-unfitted-level-3: chocolate;\n",
              "  /* Definition of color scheme for fitted estimators */\n",
              "  --sklearn-color-fitted-level-0: #f0f8ff;\n",
              "  --sklearn-color-fitted-level-1: #d4ebff;\n",
              "  --sklearn-color-fitted-level-2: #b3dbfd;\n",
              "  --sklearn-color-fitted-level-3: cornflowerblue;\n",
              "\n",
              "  /* Specific color for light theme */\n",
              "  --sklearn-color-text-on-default-background: var(--sg-text-color, var(--theme-code-foreground, var(--jp-content-font-color1, black)));\n",
              "  --sklearn-color-background: var(--sg-background-color, var(--theme-background, var(--jp-layout-color0, white)));\n",
              "  --sklearn-color-border-box: var(--sg-text-color, var(--theme-code-foreground, var(--jp-content-font-color1, black)));\n",
              "  --sklearn-color-icon: #696969;\n",
              "\n",
              "  @media (prefers-color-scheme: dark) {\n",
              "    /* Redefinition of color scheme for dark theme */\n",
              "    --sklearn-color-text-on-default-background: var(--sg-text-color, var(--theme-code-foreground, var(--jp-content-font-color1, white)));\n",
              "    --sklearn-color-background: var(--sg-background-color, var(--theme-background, var(--jp-layout-color0, #111)));\n",
              "    --sklearn-color-border-box: var(--sg-text-color, var(--theme-code-foreground, var(--jp-content-font-color1, white)));\n",
              "    --sklearn-color-icon: #878787;\n",
              "  }\n",
              "}\n",
              "\n",
              "#sk-container-id-4 {\n",
              "  color: var(--sklearn-color-text);\n",
              "}\n",
              "\n",
              "#sk-container-id-4 pre {\n",
              "  padding: 0;\n",
              "}\n",
              "\n",
              "#sk-container-id-4 input.sk-hidden--visually {\n",
              "  border: 0;\n",
              "  clip: rect(1px 1px 1px 1px);\n",
              "  clip: rect(1px, 1px, 1px, 1px);\n",
              "  height: 1px;\n",
              "  margin: -1px;\n",
              "  overflow: hidden;\n",
              "  padding: 0;\n",
              "  position: absolute;\n",
              "  width: 1px;\n",
              "}\n",
              "\n",
              "#sk-container-id-4 div.sk-dashed-wrapped {\n",
              "  border: 1px dashed var(--sklearn-color-line);\n",
              "  margin: 0 0.4em 0.5em 0.4em;\n",
              "  box-sizing: border-box;\n",
              "  padding-bottom: 0.4em;\n",
              "  background-color: var(--sklearn-color-background);\n",
              "}\n",
              "\n",
              "#sk-container-id-4 div.sk-container {\n",
              "  /* jupyter's `normalize.less` sets `[hidden] { display: none; }`\n",
              "     but bootstrap.min.css set `[hidden] { display: none !important; }`\n",
              "     so we also need the `!important` here to be able to override the\n",
              "     default hidden behavior on the sphinx rendered scikit-learn.org.\n",
              "     See: https://github.com/scikit-learn/scikit-learn/issues/21755 */\n",
              "  display: inline-block !important;\n",
              "  position: relative;\n",
              "}\n",
              "\n",
              "#sk-container-id-4 div.sk-text-repr-fallback {\n",
              "  display: none;\n",
              "}\n",
              "\n",
              "div.sk-parallel-item,\n",
              "div.sk-serial,\n",
              "div.sk-item {\n",
              "  /* draw centered vertical line to link estimators */\n",
              "  background-image: linear-gradient(var(--sklearn-color-text-on-default-background), var(--sklearn-color-text-on-default-background));\n",
              "  background-size: 2px 100%;\n",
              "  background-repeat: no-repeat;\n",
              "  background-position: center center;\n",
              "}\n",
              "\n",
              "/* Parallel-specific style estimator block */\n",
              "\n",
              "#sk-container-id-4 div.sk-parallel-item::after {\n",
              "  content: \"\";\n",
              "  width: 100%;\n",
              "  border-bottom: 2px solid var(--sklearn-color-text-on-default-background);\n",
              "  flex-grow: 1;\n",
              "}\n",
              "\n",
              "#sk-container-id-4 div.sk-parallel {\n",
              "  display: flex;\n",
              "  align-items: stretch;\n",
              "  justify-content: center;\n",
              "  background-color: var(--sklearn-color-background);\n",
              "  position: relative;\n",
              "}\n",
              "\n",
              "#sk-container-id-4 div.sk-parallel-item {\n",
              "  display: flex;\n",
              "  flex-direction: column;\n",
              "}\n",
              "\n",
              "#sk-container-id-4 div.sk-parallel-item:first-child::after {\n",
              "  align-self: flex-end;\n",
              "  width: 50%;\n",
              "}\n",
              "\n",
              "#sk-container-id-4 div.sk-parallel-item:last-child::after {\n",
              "  align-self: flex-start;\n",
              "  width: 50%;\n",
              "}\n",
              "\n",
              "#sk-container-id-4 div.sk-parallel-item:only-child::after {\n",
              "  width: 0;\n",
              "}\n",
              "\n",
              "/* Serial-specific style estimator block */\n",
              "\n",
              "#sk-container-id-4 div.sk-serial {\n",
              "  display: flex;\n",
              "  flex-direction: column;\n",
              "  align-items: center;\n",
              "  background-color: var(--sklearn-color-background);\n",
              "  padding-right: 1em;\n",
              "  padding-left: 1em;\n",
              "}\n",
              "\n",
              "\n",
              "/* Toggleable style: style used for estimator/Pipeline/ColumnTransformer box that is\n",
              "clickable and can be expanded/collapsed.\n",
              "- Pipeline and ColumnTransformer use this feature and define the default style\n",
              "- Estimators will overwrite some part of the style using the `sk-estimator` class\n",
              "*/\n",
              "\n",
              "/* Pipeline and ColumnTransformer style (default) */\n",
              "\n",
              "#sk-container-id-4 div.sk-toggleable {\n",
              "  /* Default theme specific background. It is overwritten whether we have a\n",
              "  specific estimator or a Pipeline/ColumnTransformer */\n",
              "  background-color: var(--sklearn-color-background);\n",
              "}\n",
              "\n",
              "/* Toggleable label */\n",
              "#sk-container-id-4 label.sk-toggleable__label {\n",
              "  cursor: pointer;\n",
              "  display: flex;\n",
              "  width: 100%;\n",
              "  margin-bottom: 0;\n",
              "  padding: 0.5em;\n",
              "  box-sizing: border-box;\n",
              "  text-align: center;\n",
              "  align-items: start;\n",
              "  justify-content: space-between;\n",
              "  gap: 0.5em;\n",
              "}\n",
              "\n",
              "#sk-container-id-4 label.sk-toggleable__label .caption {\n",
              "  font-size: 0.6rem;\n",
              "  font-weight: lighter;\n",
              "  color: var(--sklearn-color-text-muted);\n",
              "}\n",
              "\n",
              "#sk-container-id-4 label.sk-toggleable__label-arrow:before {\n",
              "  /* Arrow on the left of the label */\n",
              "  content: \"▸\";\n",
              "  float: left;\n",
              "  margin-right: 0.25em;\n",
              "  color: var(--sklearn-color-icon);\n",
              "}\n",
              "\n",
              "#sk-container-id-4 label.sk-toggleable__label-arrow:hover:before {\n",
              "  color: var(--sklearn-color-text);\n",
              "}\n",
              "\n",
              "/* Toggleable content - dropdown */\n",
              "\n",
              "#sk-container-id-4 div.sk-toggleable__content {\n",
              "  max-height: 0;\n",
              "  max-width: 0;\n",
              "  overflow: hidden;\n",
              "  text-align: left;\n",
              "  /* unfitted */\n",
              "  background-color: var(--sklearn-color-unfitted-level-0);\n",
              "}\n",
              "\n",
              "#sk-container-id-4 div.sk-toggleable__content.fitted {\n",
              "  /* fitted */\n",
              "  background-color: var(--sklearn-color-fitted-level-0);\n",
              "}\n",
              "\n",
              "#sk-container-id-4 div.sk-toggleable__content pre {\n",
              "  margin: 0.2em;\n",
              "  border-radius: 0.25em;\n",
              "  color: var(--sklearn-color-text);\n",
              "  /* unfitted */\n",
              "  background-color: var(--sklearn-color-unfitted-level-0);\n",
              "}\n",
              "\n",
              "#sk-container-id-4 div.sk-toggleable__content.fitted pre {\n",
              "  /* unfitted */\n",
              "  background-color: var(--sklearn-color-fitted-level-0);\n",
              "}\n",
              "\n",
              "#sk-container-id-4 input.sk-toggleable__control:checked~div.sk-toggleable__content {\n",
              "  /* Expand drop-down */\n",
              "  max-height: 200px;\n",
              "  max-width: 100%;\n",
              "  overflow: auto;\n",
              "}\n",
              "\n",
              "#sk-container-id-4 input.sk-toggleable__control:checked~label.sk-toggleable__label-arrow:before {\n",
              "  content: \"▾\";\n",
              "}\n",
              "\n",
              "/* Pipeline/ColumnTransformer-specific style */\n",
              "\n",
              "#sk-container-id-4 div.sk-label input.sk-toggleable__control:checked~label.sk-toggleable__label {\n",
              "  color: var(--sklearn-color-text);\n",
              "  background-color: var(--sklearn-color-unfitted-level-2);\n",
              "}\n",
              "\n",
              "#sk-container-id-4 div.sk-label.fitted input.sk-toggleable__control:checked~label.sk-toggleable__label {\n",
              "  background-color: var(--sklearn-color-fitted-level-2);\n",
              "}\n",
              "\n",
              "/* Estimator-specific style */\n",
              "\n",
              "/* Colorize estimator box */\n",
              "#sk-container-id-4 div.sk-estimator input.sk-toggleable__control:checked~label.sk-toggleable__label {\n",
              "  /* unfitted */\n",
              "  background-color: var(--sklearn-color-unfitted-level-2);\n",
              "}\n",
              "\n",
              "#sk-container-id-4 div.sk-estimator.fitted input.sk-toggleable__control:checked~label.sk-toggleable__label {\n",
              "  /* fitted */\n",
              "  background-color: var(--sklearn-color-fitted-level-2);\n",
              "}\n",
              "\n",
              "#sk-container-id-4 div.sk-label label.sk-toggleable__label,\n",
              "#sk-container-id-4 div.sk-label label {\n",
              "  /* The background is the default theme color */\n",
              "  color: var(--sklearn-color-text-on-default-background);\n",
              "}\n",
              "\n",
              "/* On hover, darken the color of the background */\n",
              "#sk-container-id-4 div.sk-label:hover label.sk-toggleable__label {\n",
              "  color: var(--sklearn-color-text);\n",
              "  background-color: var(--sklearn-color-unfitted-level-2);\n",
              "}\n",
              "\n",
              "/* Label box, darken color on hover, fitted */\n",
              "#sk-container-id-4 div.sk-label.fitted:hover label.sk-toggleable__label.fitted {\n",
              "  color: var(--sklearn-color-text);\n",
              "  background-color: var(--sklearn-color-fitted-level-2);\n",
              "}\n",
              "\n",
              "/* Estimator label */\n",
              "\n",
              "#sk-container-id-4 div.sk-label label {\n",
              "  font-family: monospace;\n",
              "  font-weight: bold;\n",
              "  display: inline-block;\n",
              "  line-height: 1.2em;\n",
              "}\n",
              "\n",
              "#sk-container-id-4 div.sk-label-container {\n",
              "  text-align: center;\n",
              "}\n",
              "\n",
              "/* Estimator-specific */\n",
              "#sk-container-id-4 div.sk-estimator {\n",
              "  font-family: monospace;\n",
              "  border: 1px dotted var(--sklearn-color-border-box);\n",
              "  border-radius: 0.25em;\n",
              "  box-sizing: border-box;\n",
              "  margin-bottom: 0.5em;\n",
              "  /* unfitted */\n",
              "  background-color: var(--sklearn-color-unfitted-level-0);\n",
              "}\n",
              "\n",
              "#sk-container-id-4 div.sk-estimator.fitted {\n",
              "  /* fitted */\n",
              "  background-color: var(--sklearn-color-fitted-level-0);\n",
              "}\n",
              "\n",
              "/* on hover */\n",
              "#sk-container-id-4 div.sk-estimator:hover {\n",
              "  /* unfitted */\n",
              "  background-color: var(--sklearn-color-unfitted-level-2);\n",
              "}\n",
              "\n",
              "#sk-container-id-4 div.sk-estimator.fitted:hover {\n",
              "  /* fitted */\n",
              "  background-color: var(--sklearn-color-fitted-level-2);\n",
              "}\n",
              "\n",
              "/* Specification for estimator info (e.g. \"i\" and \"?\") */\n",
              "\n",
              "/* Common style for \"i\" and \"?\" */\n",
              "\n",
              ".sk-estimator-doc-link,\n",
              "a:link.sk-estimator-doc-link,\n",
              "a:visited.sk-estimator-doc-link {\n",
              "  float: right;\n",
              "  font-size: smaller;\n",
              "  line-height: 1em;\n",
              "  font-family: monospace;\n",
              "  background-color: var(--sklearn-color-background);\n",
              "  border-radius: 1em;\n",
              "  height: 1em;\n",
              "  width: 1em;\n",
              "  text-decoration: none !important;\n",
              "  margin-left: 0.5em;\n",
              "  text-align: center;\n",
              "  /* unfitted */\n",
              "  border: var(--sklearn-color-unfitted-level-1) 1pt solid;\n",
              "  color: var(--sklearn-color-unfitted-level-1);\n",
              "}\n",
              "\n",
              ".sk-estimator-doc-link.fitted,\n",
              "a:link.sk-estimator-doc-link.fitted,\n",
              "a:visited.sk-estimator-doc-link.fitted {\n",
              "  /* fitted */\n",
              "  border: var(--sklearn-color-fitted-level-1) 1pt solid;\n",
              "  color: var(--sklearn-color-fitted-level-1);\n",
              "}\n",
              "\n",
              "/* On hover */\n",
              "div.sk-estimator:hover .sk-estimator-doc-link:hover,\n",
              ".sk-estimator-doc-link:hover,\n",
              "div.sk-label-container:hover .sk-estimator-doc-link:hover,\n",
              ".sk-estimator-doc-link:hover {\n",
              "  /* unfitted */\n",
              "  background-color: var(--sklearn-color-unfitted-level-3);\n",
              "  color: var(--sklearn-color-background);\n",
              "  text-decoration: none;\n",
              "}\n",
              "\n",
              "div.sk-estimator.fitted:hover .sk-estimator-doc-link.fitted:hover,\n",
              ".sk-estimator-doc-link.fitted:hover,\n",
              "div.sk-label-container:hover .sk-estimator-doc-link.fitted:hover,\n",
              ".sk-estimator-doc-link.fitted:hover {\n",
              "  /* fitted */\n",
              "  background-color: var(--sklearn-color-fitted-level-3);\n",
              "  color: var(--sklearn-color-background);\n",
              "  text-decoration: none;\n",
              "}\n",
              "\n",
              "/* Span, style for the box shown on hovering the info icon */\n",
              ".sk-estimator-doc-link span {\n",
              "  display: none;\n",
              "  z-index: 9999;\n",
              "  position: relative;\n",
              "  font-weight: normal;\n",
              "  right: .2ex;\n",
              "  padding: .5ex;\n",
              "  margin: .5ex;\n",
              "  width: min-content;\n",
              "  min-width: 20ex;\n",
              "  max-width: 50ex;\n",
              "  color: var(--sklearn-color-text);\n",
              "  box-shadow: 2pt 2pt 4pt #999;\n",
              "  /* unfitted */\n",
              "  background: var(--sklearn-color-unfitted-level-0);\n",
              "  border: .5pt solid var(--sklearn-color-unfitted-level-3);\n",
              "}\n",
              "\n",
              ".sk-estimator-doc-link.fitted span {\n",
              "  /* fitted */\n",
              "  background: var(--sklearn-color-fitted-level-0);\n",
              "  border: var(--sklearn-color-fitted-level-3);\n",
              "}\n",
              "\n",
              ".sk-estimator-doc-link:hover span {\n",
              "  display: block;\n",
              "}\n",
              "\n",
              "/* \"?\"-specific style due to the `<a>` HTML tag */\n",
              "\n",
              "#sk-container-id-4 a.estimator_doc_link {\n",
              "  float: right;\n",
              "  font-size: 1rem;\n",
              "  line-height: 1em;\n",
              "  font-family: monospace;\n",
              "  background-color: var(--sklearn-color-background);\n",
              "  border-radius: 1rem;\n",
              "  height: 1rem;\n",
              "  width: 1rem;\n",
              "  text-decoration: none;\n",
              "  /* unfitted */\n",
              "  color: var(--sklearn-color-unfitted-level-1);\n",
              "  border: var(--sklearn-color-unfitted-level-1) 1pt solid;\n",
              "}\n",
              "\n",
              "#sk-container-id-4 a.estimator_doc_link.fitted {\n",
              "  /* fitted */\n",
              "  border: var(--sklearn-color-fitted-level-1) 1pt solid;\n",
              "  color: var(--sklearn-color-fitted-level-1);\n",
              "}\n",
              "\n",
              "/* On hover */\n",
              "#sk-container-id-4 a.estimator_doc_link:hover {\n",
              "  /* unfitted */\n",
              "  background-color: var(--sklearn-color-unfitted-level-3);\n",
              "  color: var(--sklearn-color-background);\n",
              "  text-decoration: none;\n",
              "}\n",
              "\n",
              "#sk-container-id-4 a.estimator_doc_link.fitted:hover {\n",
              "  /* fitted */\n",
              "  background-color: var(--sklearn-color-fitted-level-3);\n",
              "}\n",
              "</style><div id=\"sk-container-id-4\" class=\"sk-top-container\"><div class=\"sk-text-repr-fallback\"><pre>LinearRegression()</pre><b>In a Jupyter environment, please rerun this cell to show the HTML representation or trust the notebook. <br />On GitHub, the HTML representation is unable to render, please try loading this page with nbviewer.org.</b></div><div class=\"sk-container\" hidden><div class=\"sk-item\"><div class=\"sk-estimator fitted sk-toggleable\"><input class=\"sk-toggleable__control sk-hidden--visually\" id=\"sk-estimator-id-4\" type=\"checkbox\" checked><label for=\"sk-estimator-id-4\" class=\"sk-toggleable__label fitted sk-toggleable__label-arrow\"><div><div>LinearRegression</div></div><div><a class=\"sk-estimator-doc-link fitted\" rel=\"noreferrer\" target=\"_blank\" href=\"https://scikit-learn.org/1.6/modules/generated/sklearn.linear_model.LinearRegression.html\">?<span>Documentation for LinearRegression</span></a><span class=\"sk-estimator-doc-link fitted\">i<span>Fitted</span></span></div></label><div class=\"sk-toggleable__content fitted\"><pre>LinearRegression()</pre></div> </div></div></div></div>"
            ]
          },
          "metadata": {},
          "execution_count": 33
        }
      ]
    },
    {
      "cell_type": "markdown",
      "source": [
        "<details><summary>Clic aqui para ver la solucion</summary>\n",
        "\n",
        "```python\n",
        "# Importar la librería necesaria\n",
        "from sklearn.linear_model import LinearRegression\n",
        "\n",
        "# Crear el objeto de regresión lineal múltiple\n",
        "lm2 = LinearRegression()\n",
        "\n",
        "# Entrenar el modelo usando las variables 'normalized-losses' y 'highway-mpg' como predictoras,\n",
        "# y 'price' como la variable dependiente.\n",
        "lm2.fit(df[['normalized-losses', 'highway-mpg']], df['price'])\n",
        "```\n",
        "\n",
        "</details>"
      ],
      "metadata": {
        "id": "qO-FrZd3iOeT"
      }
    },
    {
      "cell_type": "markdown",
      "source": [
        "### 📌 Pregunta 2b - Obtener los coeficientes del modelo\n",
        "\n",
        "Ahora, vamos a calcular los coeficientes del modelo de **Regresión Lineal Múltiple** `lm2`. Estos coeficientes nos indican cuánto cambia el precio del automóvil (`price`) en función de cada una de las variables predictoras (`normalized-losses` y `highway-mpg`), manteniendo las demás constantes.\n",
        "\n"
      ],
      "metadata": {
        "id": "_ng9N2pminBM"
      }
    },
    {
      "cell_type": "code",
      "source": [
        "# Escribe tu codigo aqui:\n"
      ],
      "metadata": {
        "id": "d7a0aOgDiHlu"
      },
      "execution_count": 35,
      "outputs": []
    },
    {
      "cell_type": "markdown",
      "source": [
        "<details><summary>Clic aqui para ver la solucion</summary>\n",
        "\n",
        "```python\n",
        "# Obtener los coeficientes del modelo\n",
        "lm2.coef_\n",
        "```\n",
        "\n",
        "</details>"
      ],
      "metadata": {
        "id": "Wya7TrMkiw5C"
      }
    },
    {
      "cell_type": "markdown",
      "source": [
        "### 📊 Evaluación del Modelo Mediante Visualización\n",
        "\n",
        "Después de desarrollar varios modelos, es fundamental evaluar su rendimiento para determinar cuál es el más adecuado. Una forma efectiva de hacerlo es mediante el uso de visualizaciones gráficas, que nos permiten analizar la relación entre las predicciones y los valores reales.\n",
        "\n",
        "Para ello, importaremos la biblioteca `seaborn`, que facilita la creación de gráficos estadísticos en Python.\n",
        "\n",
        "### 📈 Gráfico de Regresión\n",
        "\n",
        "Para la regresión lineal simple, una excelente manera de visualizar el ajuste del modelo es mediante gráficos de regresión.\n",
        "\n",
        "Este gráfico combina un diagrama de dispersión con una línea de regresión ajustada a los datos. De esta forma, podemos estimar visualmente la relación entre las dos variables, evaluar la fuerza de la correlación y determinar su dirección (positiva o negativa).\n",
        "\n",
        "A continuación, visualizaremos la relación entre `highway-mpg` como variable predictora y `price` como variable de respuesta:\n",
        "\n"
      ],
      "metadata": {
        "id": "QXN1NX3ii_Zn"
      }
    },
    {
      "cell_type": "code",
      "source": [
        "# Crear un gráfico de regresión para highway-mpg y price\n",
        "sns.regplot(x=\"highway-mpg\", y=\"price\", data=df)"
      ],
      "metadata": {
        "colab": {
          "base_uri": "https://localhost:8080/",
          "height": 579
        },
        "id": "eOgB_1y5jHtW",
        "outputId": "01f6f321-4dce-461c-c085-6b06f17de304"
      },
      "execution_count": 37,
      "outputs": [
        {
          "output_type": "execute_result",
          "data": {
            "text/plain": [
              "<Axes: xlabel='highway-mpg', ylabel='price'>"
            ]
          },
          "metadata": {},
          "execution_count": 37
        },
        {
          "output_type": "display_data",
          "data": {
            "text/plain": [
              "<Figure size 1000x600 with 1 Axes>"
            ],
            "image/png": "[encoded data removed]"
          },
          "metadata": {}
        }
      ]
    },
    {
      "cell_type": "markdown",
      "source": [
        "### 📉 Interpretación del Gráfico de Regresión\n",
        "\n",
        "A partir del gráfico, podemos observar que el precio (`price`) está negativamente correlacionado con el consumo en carretera (`highway-mpg`), ya que la pendiente de la regresión es negativa.\n",
        "\n",
        "🔍 **Consideraciones clave**:\n",
        "- Es importante analizar qué tan dispersos están los puntos de datos alrededor de la línea de regresión.  \n",
        "- Si los puntos están muy alejados, significa que hay una gran variabilidad en los datos, lo que podría indicar que un modelo lineal no es la mejor opción para esta relación.  \n",
        "- Si los puntos están cerca de la línea, significa que el modelo lineal se ajusta bien a los datos.\n",
        "\n",
        "Ahora, comparemos este gráfico con el de `peak-rpm` como variable predictora:\n",
        "\n"
      ],
      "metadata": {
        "id": "dfWbQ4iVjYkr"
      }
    },
    {
      "cell_type": "code",
      "source": [
        "# Crear un gráfico de regresión para peak-rpm y price\n",
        "sns.regplot(x=\"peak-rpm\", y=\"price\", data=df)"
      ],
      "metadata": {
        "colab": {
          "base_uri": "https://localhost:8080/",
          "height": 459
        },
        "id": "b8ZazkZ_jah-",
        "outputId": "28d5644c-c7fb-43b9-a54b-bedd4f0397a2"
      },
      "execution_count": 38,
      "outputs": [
        {
          "output_type": "execute_result",
          "data": {
            "text/plain": [
              "<Axes: xlabel='peak-rpm', ylabel='price'>"
            ]
          },
          "metadata": {},
          "execution_count": 38
        },
        {
          "output_type": "display_data",
          "data": {
            "text/plain": [
              "<Figure size 1000x600 with 1 Axes>"
            ],
            "image/png": "[encoded data removed]"
          },
          "metadata": {}
        }
      ]
    },
    {
      "cell_type": "markdown",
      "source": [
        "### 📊 Comparación de los Gráficos de Regresión: \"peak-rpm\" vs. \"highway-mpg\"\n",
        "\n",
        "Al comparar los gráficos de regresión de `peak-rpm` y `highway-mpg`, observamos lo siguiente:\n",
        "\n",
        "✅ **`highway-mpg` como predictor de `price`**:  \n",
        "- Los puntos de datos están más cerca de la línea de regresión.  \n",
        "- Existe una tendencia clara y descendente, lo que indica una fuerte correlación negativa.  \n",
        "\n",
        "⚠️ **`peak-rpm` como predictor de `price`**:  \n",
        "- Los puntos están más dispersos en torno a la línea de regresión.  \n",
        "- No es fácil determinar una tendencia clara (si los valores de `price` aumentan o disminuyen con `peak-rpm`).  \n",
        "- Esto sugiere que `peak-rpm` no es un buen predictor de `price` en comparación con `highway-mpg`.  \n",
        "\n",
        "🔎 **Conclusión**:  \n",
        "`highway-mpg` es una mejor variable predictora del precio (`price`) en comparación con `peak-rpm`, ya que muestra una relación más fuerte y consistente en el gráfico de regresión.\n"
      ],
      "metadata": {
        "id": "Fat3qiVmjk0C"
      }
    },
    {
      "cell_type": "markdown",
      "source": [
        "### ❓ Pregunta 3.  \n",
        "Dado los gráficos de regresión anteriores, ¿qué variable está más fuertemente correlacionada con \"price\": \"peak-rpm\" o \"highway-mpg\"? Usa el método `.corr()` para verificar tu respuesta.\n"
      ],
      "metadata": {
        "id": "IPh7vpXKjm8h"
      }
    },
    {
      "cell_type": "code",
      "source": [
        "# Escribe tu codigo aqui:\n"
      ],
      "metadata": {
        "id": "xX_S5qLnkKWn"
      },
      "execution_count": 40,
      "outputs": []
    },
    {
      "cell_type": "markdown",
      "source": [
        "<details><summary>Clic aqui para ver la solucion</summary>\n",
        "\n",
        "```python\n",
        "# Calculamos la matriz de correlación entre \"peak-rpm\", \"highway-mpg\" y \"price\"\n",
        "df[[\"peak-rpm\", \"highway-mpg\", \"price\"]].corr()\n",
        "```\n",
        "\n",
        "</details>"
      ],
      "metadata": {
        "id": "Qk0BEtGzkAn6"
      }
    },
    {
      "cell_type": "markdown",
      "source": [
        "### 📊 Gráfico de Residuos  \n",
        "\n",
        "#### 📌 ¿Qué es un residuo?  \n",
        "El residuo (𝑒) es la diferencia entre el valor observado (𝑦) y el valor predicho (𝑌̂) en un modelo de regresión. En un gráfico de regresión, el residuo representa la distancia de cada punto de datos a la línea de regresión ajustada.  \n",
        "\n",
        "#### 📌 ¿Qué es un gráfico de residuos?  \n",
        "Un gráfico de residuos es una representación visual donde los residuos se muestran en el eje vertical (𝑦), mientras que la variable independiente se coloca en el eje horizontal (𝑥).  \n",
        "\n",
        "#### 📌 ¿Qué debemos observar en un gráfico de residuos?  \n",
        "Nos enfocamos en la dispersión de los residuos:  \n",
        "\n",
        "- Si los puntos en el gráfico de residuos están dispersos de manera aleatoria alrededor del eje 𝑥, entonces el modelo lineal es adecuado para los datos.  \n",
        "\n",
        "#### ✅ ¿Por qué es importante?  \n",
        "Si los residuos se distribuyen de manera aleatoria, significa que la varianza es constante y, por lo tanto, el modelo lineal se ajusta bien a los datos.  \n"
      ],
      "metadata": {
        "id": "aqT5WNyrkbZb"
      }
    },
    {
      "cell_type": "code",
      "source": [
        "width = 12  # Ancho de la figura\n",
        "height = 10  # Altura de la figura\n",
        "plt.figure(figsize=(width, height))  # Establece el tamaño del gráfico\n",
        "\n",
        "sns.residplot(x=df['highway-mpg'], y=df['price'])  # Crea el gráfico de residuos\n",
        "plt.show()  # Muestra el gráfico"
      ],
      "metadata": {
        "colab": {
          "base_uri": "https://localhost:8080/",
          "height": 583
        },
        "id": "5NgQtT97khm9",
        "outputId": "a1b91c1b-e2e9-43cc-a4b6-73c263a62d9c"
      },
      "execution_count": 41,
      "outputs": [
        {
          "output_type": "display_data",
          "data": {
            "text/plain": [
              "<Figure size 1200x1000 with 1 Axes>"
            ],
            "image/png": "[encoded data removed]"
          },
          "metadata": {}
        }
      ]
    },
    {
      "cell_type": "markdown",
      "source": [
        "### 📊 ¿Qué nos dice este gráfico?  \n",
        "\n",
        "Al observar el gráfico de residuos, notamos que los residuos no están dispersos de manera aleatoria alrededor del eje 𝑥. Esto sugiere que el modelo lineal podría no ser el más adecuado para estos datos y que, en su lugar, un modelo no lineal podría proporcionar un mejor ajuste.  \n"
      ],
      "metadata": {
        "id": "0nLuhYywkiWT"
      }
    },
    {
      "cell_type": "markdown",
      "source": [
        "### Regresión Lineal Múltiple  \n",
        "¿Cómo podemos visualizar un modelo de Regresión Lineal Múltiple?  \n",
        "\n",
        "Esto se vuelve más complicado, ya que no se puede visualizar con un gráfico de regresión o de residuos como en la regresión lineal simple.  \n",
        "\n",
        "Una forma de evaluar el ajuste del modelo es utilizando un **gráfico de distribución**. En este gráfico, comparamos la distribución de los valores predichos por el modelo con la distribución de los valores reales.\n"
      ],
      "metadata": {
        "id": "X-OwAEvukyea"
      }
    },
    {
      "cell_type": "markdown",
      "source": [
        "### Predicción y Evaluación del Modelo  \n",
        "\n",
        "Primero, realicemos una predicción utilizando el modelo de Regresión Lineal Múltiple:\n"
      ],
      "metadata": {
        "id": "cGVgEgGpk7xD"
      }
    },
    {
      "cell_type": "code",
      "source": [
        "# Definir el tamaño de la figura\n",
        "width = 12\n",
        "height = 10\n",
        "plt.figure(figsize=(width, height))\n",
        "\n",
        "# Definir el dataframe (Asegúrate de que df ya esté cargado con los datos)\n",
        "# df = pd.read_csv(\"ruta/del/archivo.csv\")  # Descomentar si necesitas cargar datos\n",
        "\n",
        "# Definir las variables predictoras y la variable objetivo\n",
        "X = df[['horsepower', 'curb-weight', 'engine-size', 'highway-mpg']]\n",
        "Y = df['price']\n",
        "\n",
        "# Crear el modelo de regresión\n",
        "lm = LinearRegression()\n",
        "lm.fit(X, Y)\n",
        "\n",
        "# Hacer la predicción de los valores de 'price'\n",
        "Y_hat = lm.predict(X)\n",
        "\n",
        "# Graficar la distribución de los valores reales\n",
        "sns.kdeplot(df['price'], color=\"r\", label=\"Actual Value\", fill=True)\n",
        "\n",
        "# Graficar la distribución de los valores predichos\n",
        "sns.kdeplot(Y_hat, color=\"b\", label=\"Fitted Values\", fill=True)\n",
        "\n",
        "# Agregar etiquetas y título\n",
        "plt.title('Actual vs Fitted Values for Price')\n",
        "plt.xlabel('Price (in dollars)')\n",
        "plt.ylabel('Density')\n",
        "\n",
        "# Mostrar la leyenda y el gráfico\n",
        "plt.legend()\n",
        "plt.show()"
      ],
      "metadata": {
        "colab": {
          "base_uri": "https://localhost:8080/",
          "height": 625
        },
        "id": "xRUZ3Y_Fk9z_",
        "outputId": "f6e4ddd9-4654-4ff8-9cb7-1571131600fc"
      },
      "execution_count": 45,
      "outputs": [
        {
          "output_type": "display_data",
          "data": {
            "text/plain": [
              "<Figure size 1200x1000 with 1 Axes>"
            ],
            "image/png": "[encoded data removed]"
          },
          "metadata": {}
        }
      ]
    },
    {
      "cell_type": "markdown",
      "source": [
        "Podemos observar que los valores ajustados (Fitted Values) están razonablemente cerca de los valores reales (Actual Value) ya que ambas distribuciones se superponen en cierta medida. Sin embargo, hay margen de mejora en la precisión del modelo."
      ],
      "metadata": {
        "id": "i3SvlsVslGg3"
      }
    },
    {
      "cell_type": "markdown",
      "source": [
        "## 3. Regresión Polinómica y Pipelines  \n",
        "\n",
        "La regresión polinómica es un caso particular del modelo general de regresión lineal o de modelos de regresión lineal múltiple.  \n",
        "\n",
        "Obtenemos relaciones no lineales elevando al cuadrado o estableciendo términos de orden superior en las variables predictoras.  \n",
        "\n",
        "Existen diferentes órdenes de regresión polinómica:  \n",
        "\n",
        "- **Cuadrática** - 2° Orden  \n",
        "- **Cúbica** - 3° Orden  \n",
        "- **Orden superior**  \n",
        "\n",
        "Vimos anteriormente que un modelo lineal no proporcionó el mejor ajuste al usar \"highway-mpg\" como variable predictora. Veamos si podemos intentar ajustar un modelo polinómico a los datos en su lugar.  \n"
      ],
      "metadata": {
        "id": "BFPi1aAYlqW_"
      }
    },
    {
      "cell_type": "markdown",
      "source": [
        "### Ajuste de un Modelo Polinómico  \n",
        "\n",
        "Para visualizar el ajuste de un modelo polinómico, usaremos una función que nos permitirá graficar la relación entre una variable independiente y la variable dependiente.  \n",
        "\n",
        "### Definición de la función `PlotPolly`\n",
        "\n",
        "La siguiente función genera un gráfico utilizando **Matplotlib** para representar el ajuste de un modelo polinómico sobre los datos.  \n"
      ],
      "metadata": {
        "id": "X11Zc0Rpl6pp"
      }
    },
    {
      "cell_type": "code",
      "source": [
        "# Cargar el dataset (asegúrate de que `df` esté definido)\n",
        "# df = pd.read_csv(\"ruta/del/dataset.csv\")  # Si no lo has cargado\n",
        "\n",
        "# Extraer las variables\n",
        "x = df['highway-mpg']\n",
        "y = df['price']\n",
        "\n",
        "# Eliminar valores NaN para evitar errores\n",
        "df_clean = df[['highway-mpg', 'price']].dropna()\n",
        "x = df_clean['highway-mpg']\n",
        "y = df_clean['price']\n",
        "\n",
        "# Ajustar un modelo polinómico de grado 2\n",
        "grado = 2  # Puedes cambiar el grado del polinomio\n",
        "coeficientes = np.polyfit(x, y, grado)\n",
        "modelo_polinomico = np.poly1d(coeficientes)\n",
        "\n",
        "# Función para graficar el ajuste polinómico\n",
        "def PlotPolly(model, independent_variable, dependent_variable, Name):\n",
        "    \"\"\"\n",
        "    Parámetros:\n",
        "    - model: Modelo polinómico ajustado (numpy.poly1d)\n",
        "    - independent_variable: Variable independiente (array o lista)\n",
        "    - dependent_variable: Variable dependiente (array o lista)\n",
        "    - Name: Nombre de la variable independiente\n",
        "\n",
        "    Descripción:\n",
        "    - Genera una gráfica con los datos reales y la curva del modelo polinómico.\n",
        "    \"\"\"\n",
        "    x_new = np.linspace(min(independent_variable), max(independent_variable), 100)\n",
        "    y_new = model(x_new)\n",
        "\n",
        "    plt.scatter(independent_variable, dependent_variable, label='Datos reales', color='blue')\n",
        "    plt.plot(x_new, y_new, '-', label=f'Ajuste Polinómico (grado {grado})', color='red')\n",
        "\n",
        "    plt.title(f'Ajuste Polinómico para Precio ~ {Name}')\n",
        "    plt.xlabel(Name)\n",
        "    plt.ylabel('Precio de los Autos')\n",
        "    plt.legend()\n",
        "    plt.grid(True, linestyle='--', alpha=0.6)\n",
        "    plt.show()\n",
        "\n",
        "# Graficar el ajuste polinómico\n",
        "PlotPolly(modelo_polinomico, x, y, \"highway-mpg\")\n"
      ],
      "metadata": {
        "colab": {
          "base_uri": "https://localhost:8080/",
          "height": 460
        },
        "id": "UTSoeOsimBHb",
        "outputId": "d34c4910-f2d0-4bf4-b6cb-e9fbbde5d9b2"
      },
      "execution_count": 48,
      "outputs": [
        {
          "output_type": "display_data",
          "data": {
            "text/plain": [
              "<Figure size 1000x600 with 1 Axes>"
            ],
            "image/png": "[encoded data removed]"
          },
          "metadata": {}
        }
      ]
    },
    {
      "cell_type": "markdown",
      "source": [
        "### Ajuste Polinómico de Tercer Orden (Cúbico)"
      ],
      "metadata": {
        "id": "2wm-A8wmnCSP"
      }
    },
    {
      "cell_type": "code",
      "source": [
        "# Ajustar un modelo polinómico de grado 3 (cúbico)\n",
        "grado = 3  # Cambiar el grado si se quiere probar con otros valores\n",
        "f = np.polyfit(x, y, grado)  # Ajuste polinómico\n",
        "p = np.poly1d(f)  # Crear el modelo polinómico\n",
        "\n",
        "# Mostrar la función polinómica obtenida\n",
        "print(\"Modelo Polinómico Ajustado:\")\n",
        "print(p)  # Esto imprime la ecuación del polinomio\n",
        "\n",
        "# Graficar el ajuste polinómico\n",
        "PlotPolly(p, x, y, \"highway-mpg\")"
      ],
      "metadata": {
        "colab": {
          "base_uri": "https://localhost:8080/",
          "height": 512
        },
        "id": "tqCdVe5onR-g",
        "outputId": "fbae15e6-d1f7-4c79-fff5-bd88e22528dd"
      },
      "execution_count": 49,
      "outputs": [
        {
          "output_type": "stream",
          "name": "stdout",
          "text": [
            "Modelo Polinómico Ajustado:\n",
            "        3         2\n",
            "-1.557 x + 204.8 x - 8965 x + 1.379e+05\n"
          ]
        },
        {
          "output_type": "display_data",
          "data": {
            "text/plain": [
              "<Figure size 1000x600 with 1 Axes>"
            ],
            "image/png": "[encoded data removed]"
          },
          "metadata": {}
        }
      ]
    },
    {
      "cell_type": "markdown",
      "source": [
        "### Graficando la Función Polinómica\n",
        "Ahora graficamos el modelo polinómico para visualizar su ajuste a los datos:"
      ],
      "metadata": {
        "id": "WaRsY9zMngdQ"
      }
    },
    {
      "cell_type": "code",
      "source": [
        "# Graficar la función polinómica ajustada\n",
        "PlotPolly(p, x, y, 'highway-mpg')\n",
        "\n",
        "# Volvemos a ajustar el polinomio de grado 3 (opcional, para verificar los coeficientes)\n",
        "np.polyfit(x, y, 3)"
      ],
      "metadata": {
        "colab": {
          "base_uri": "https://localhost:8080/",
          "height": 602
        },
        "id": "X_HZlKcHniVG",
        "outputId": "497f1bbb-86b8-4830-fe7e-4b3d4960d2c4"
      },
      "execution_count": 50,
      "outputs": [
        {
          "output_type": "display_data",
          "data": {
            "text/plain": [
              "<Figure size 1000x600 with 1 Axes>"
            ],
            "image/png": "[encoded data removed]"
          },
          "metadata": {}
        },
        {
          "output_type": "execute_result",
          "data": {
            "text/plain": [
              "array([-1.55663829e+00,  2.04754306e+02, -8.96543312e+03,  1.37923594e+05])"
            ]
          },
          "metadata": {},
          "execution_count": 50
        }
      ]
    },
    {
      "cell_type": "markdown",
      "source": [
        "### Análisis del Modelo Polinómico\n",
        "Al observar la gráfica, podemos notar que este modelo polinómico se ajusta mejor a los datos en comparación con el modelo lineal.\n",
        "\n",
        "***¿Por qué es mejor?***\n",
        "\n",
        "✅ La curva generada pasa por más puntos de datos.\n",
        "✅ Representa mejor la relación no lineal entre \"highway-mpg\" y \"price\".\n",
        "\n"
      ],
      "metadata": {
        "id": "cGl0Wge6nvmw"
      }
    },
    {
      "cell_type": "markdown",
      "source": [
        "### **Pregunta #4:**  \n",
        "Crea un modelo polinómico de **grado 11** utilizando las variables `x` y `y` definidas anteriormente.  \n",
        "\n",
        "\n"
      ],
      "metadata": {
        "id": "YbJVitAKn16J"
      }
    },
    {
      "cell_type": "code",
      "source": [
        "# Escribe aqui tu codigo\n"
      ],
      "metadata": {
        "id": "dI8X8eUZoie0"
      },
      "execution_count": 52,
      "outputs": []
    },
    {
      "cell_type": "markdown",
      "source": [
        "<details>  \n",
        "<summary>Haz clic aquí para ver la solución</summary>  \n",
        "\n",
        "```python\n",
        "# Ajustar un modelo polinómico de orden 11\n",
        "f1 = np.polyfit(x, y, 11)  # Calculamos los coeficientes del polinomio\n",
        "p1 = np.poly1d(f1)  # Creamos la función polinómica con los coeficientes obtenidos\n",
        "\n",
        "# Imprimir la ecuación del polinomio resultante\n",
        "print(p1)\n",
        "\n",
        "# Graficar la función ajustada al modelo polinómico de orden 11\n",
        "PlotPolly(p1, x, y, 'Highway MPG')\n",
        "```\n"
      ],
      "metadata": {
        "id": "NQq0upnkoi3M"
      }
    },
    {
      "cell_type": "markdown",
      "source": [
        "## **Expresión Analítica para una Función Polinómica Multivariada**  \n",
        "\n",
        "A medida que aumentamos el número de variables y el grado del polinomio, la expresión analítica se vuelve más compleja.  \n",
        "Por ejemplo, la expresión para un **polinomio de segundo orden (grado = 2)** con dos variables se representa de la siguiente manera:\n",
        "\n",
        "$$\n",
        "Yhat = b_0 + b_1X_1 + b_2X_2 + b_3X_1^2 + b_4X_2^2 + b_5X_1X_2\n",
        "$$\n",
        "\n",
        "Podemos realizar una **transformación polinómica** sobre múltiples características en nuestro conjunto de datos.  \n",
        "Primero, importamos el módulo necesario:  \n"
      ],
      "metadata": {
        "id": "NkaTRFm4o3x4"
      }
    },
    {
      "cell_type": "code",
      "source": [
        "from sklearn.preprocessing import PolynomialFeatures"
      ],
      "metadata": {
        "id": "CpRZ3WvOpOxK"
      },
      "execution_count": 53,
      "outputs": []
    },
    {
      "cell_type": "markdown",
      "source": [
        "## **Transformación de variables con PolynomialFeatures**  \n",
        "\n",
        "Para aplicar la transformación polinómica a nuestras variables, seguimos los siguientes pasos:\n",
        "\n",
        "### **1️⃣ Crear el Objeto `PolynomialFeatures`**\n",
        "Definimos un objeto `PolynomialFeatures` con **grado 2**:\n"
      ],
      "metadata": {
        "id": "QtZAqH7npWfm"
      }
    },
    {
      "cell_type": "code",
      "source": [
        "pr = PolynomialFeatures(degree=2)\n",
        "pr"
      ],
      "metadata": {
        "colab": {
          "base_uri": "https://localhost:8080/",
          "height": 80
        },
        "id": "lrvuIhmWpYqd",
        "outputId": "977fa55a-af0b-4cf9-eb0e-fb33a3732311"
      },
      "execution_count": 55,
      "outputs": [
        {
          "output_type": "execute_result",
          "data": {
            "text/plain": [
              "PolynomialFeatures()"
            ],
            "text/html": [
              "<style>#sk-container-id-5 {\n",
              "  /* Definition of color scheme common for light and dark mode */\n",
              "  --sklearn-color-text: #000;\n",
              "  --sklearn-color-text-muted: #666;\n",
              "  --sklearn-color-line: gray;\n",
              "  /* Definition of color scheme for unfitted estimators */\n",
              "  --sklearn-color-unfitted-level-0: #fff5e6;\n",
              "  --sklearn-color-unfitted-level-1: #f6e4d2;\n",
              "  --sklearn-color-unfitted-level-2: #ffe0b3;\n",
              "  --sklearn-color-unfitted-level-3: chocolate;\n",
              "  /* Definition of color scheme for fitted estimators */\n",
              "  --sklearn-color-fitted-level-0: #f0f8ff;\n",
              "  --sklearn-color-fitted-level-1: #d4ebff;\n",
              "  --sklearn-color-fitted-level-2: #b3dbfd;\n",
              "  --sklearn-color-fitted-level-3: cornflowerblue;\n",
              "\n",
              "  /* Specific color for light theme */\n",
              "  --sklearn-color-text-on-default-background: var(--sg-text-color, var(--theme-code-foreground, var(--jp-content-font-color1, black)));\n",
              "  --sklearn-color-background: var(--sg-background-color, var(--theme-background, var(--jp-layout-color0, white)));\n",
              "  --sklearn-color-border-box: var(--sg-text-color, var(--theme-code-foreground, var(--jp-content-font-color1, black)));\n",
              "  --sklearn-color-icon: #696969;\n",
              "\n",
              "  @media (prefers-color-scheme: dark) {\n",
              "    /* Redefinition of color scheme for dark theme */\n",
              "    --sklearn-color-text-on-default-background: var(--sg-text-color, var(--theme-code-foreground, var(--jp-content-font-color1, white)));\n",
              "    --sklearn-color-background: var(--sg-background-color, var(--theme-background, var(--jp-layout-color0, #111)));\n",
              "    --sklearn-color-border-box: var(--sg-text-color, var(--theme-code-foreground, var(--jp-content-font-color1, white)));\n",
              "    --sklearn-color-icon: #878787;\n",
              "  }\n",
              "}\n",
              "\n",
              "#sk-container-id-5 {\n",
              "  color: var(--sklearn-color-text);\n",
              "}\n",
              "\n",
              "#sk-container-id-5 pre {\n",
              "  padding: 0;\n",
              "}\n",
              "\n",
              "#sk-container-id-5 input.sk-hidden--visually {\n",
              "  border: 0;\n",
              "  clip: rect(1px 1px 1px 1px);\n",
              "  clip: rect(1px, 1px, 1px, 1px);\n",
              "  height: 1px;\n",
              "  margin: -1px;\n",
              "  overflow: hidden;\n",
              "  padding: 0;\n",
              "  position: absolute;\n",
              "  width: 1px;\n",
              "}\n",
              "\n",
              "#sk-container-id-5 div.sk-dashed-wrapped {\n",
              "  border: 1px dashed var(--sklearn-color-line);\n",
              "  margin: 0 0.4em 0.5em 0.4em;\n",
              "  box-sizing: border-box;\n",
              "  padding-bottom: 0.4em;\n",
              "  background-color: var(--sklearn-color-background);\n",
              "}\n",
              "\n",
              "#sk-container-id-5 div.sk-container {\n",
              "  /* jupyter's `normalize.less` sets `[hidden] { display: none; }`\n",
              "     but bootstrap.min.css set `[hidden] { display: none !important; }`\n",
              "     so we also need the `!important` here to be able to override the\n",
              "     default hidden behavior on the sphinx rendered scikit-learn.org.\n",
              "     See: https://github.com/scikit-learn/scikit-learn/issues/21755 */\n",
              "  display: inline-block !important;\n",
              "  position: relative;\n",
              "}\n",
              "\n",
              "#sk-container-id-5 div.sk-text-repr-fallback {\n",
              "  display: none;\n",
              "}\n",
              "\n",
              "div.sk-parallel-item,\n",
              "div.sk-serial,\n",
              "div.sk-item {\n",
              "  /* draw centered vertical line to link estimators */\n",
              "  background-image: linear-gradient(var(--sklearn-color-text-on-default-background), var(--sklearn-color-text-on-default-background));\n",
              "  background-size: 2px 100%;\n",
              "  background-repeat: no-repeat;\n",
              "  background-position: center center;\n",
              "}\n",
              "\n",
              "/* Parallel-specific style estimator block */\n",
              "\n",
              "#sk-container-id-5 div.sk-parallel-item::after {\n",
              "  content: \"\";\n",
              "  width: 100%;\n",
              "  border-bottom: 2px solid var(--sklearn-color-text-on-default-background);\n",
              "  flex-grow: 1;\n",
              "}\n",
              "\n",
              "#sk-container-id-5 div.sk-parallel {\n",
              "  display: flex;\n",
              "  align-items: stretch;\n",
              "  justify-content: center;\n",
              "  background-color: var(--sklearn-color-background);\n",
              "  position: relative;\n",
              "}\n",
              "\n",
              "#sk-container-id-5 div.sk-parallel-item {\n",
              "  display: flex;\n",
              "  flex-direction: column;\n",
              "}\n",
              "\n",
              "#sk-container-id-5 div.sk-parallel-item:first-child::after {\n",
              "  align-self: flex-end;\n",
              "  width: 50%;\n",
              "}\n",
              "\n",
              "#sk-container-id-5 div.sk-parallel-item:last-child::after {\n",
              "  align-self: flex-start;\n",
              "  width: 50%;\n",
              "}\n",
              "\n",
              "#sk-container-id-5 div.sk-parallel-item:only-child::after {\n",
              "  width: 0;\n",
              "}\n",
              "\n",
              "/* Serial-specific style estimator block */\n",
              "\n",
              "#sk-container-id-5 div.sk-serial {\n",
              "  display: flex;\n",
              "  flex-direction: column;\n",
              "  align-items: center;\n",
              "  background-color: var(--sklearn-color-background);\n",
              "  padding-right: 1em;\n",
              "  padding-left: 1em;\n",
              "}\n",
              "\n",
              "\n",
              "/* Toggleable style: style used for estimator/Pipeline/ColumnTransformer box that is\n",
              "clickable and can be expanded/collapsed.\n",
              "- Pipeline and ColumnTransformer use this feature and define the default style\n",
              "- Estimators will overwrite some part of the style using the `sk-estimator` class\n",
              "*/\n",
              "\n",
              "/* Pipeline and ColumnTransformer style (default) */\n",
              "\n",
              "#sk-container-id-5 div.sk-toggleable {\n",
              "  /* Default theme specific background. It is overwritten whether we have a\n",
              "  specific estimator or a Pipeline/ColumnTransformer */\n",
              "  background-color: var(--sklearn-color-background);\n",
              "}\n",
              "\n",
              "/* Toggleable label */\n",
              "#sk-container-id-5 label.sk-toggleable__label {\n",
              "  cursor: pointer;\n",
              "  display: flex;\n",
              "  width: 100%;\n",
              "  margin-bottom: 0;\n",
              "  padding: 0.5em;\n",
              "  box-sizing: border-box;\n",
              "  text-align: center;\n",
              "  align-items: start;\n",
              "  justify-content: space-between;\n",
              "  gap: 0.5em;\n",
              "}\n",
              "\n",
              "#sk-container-id-5 label.sk-toggleable__label .caption {\n",
              "  font-size: 0.6rem;\n",
              "  font-weight: lighter;\n",
              "  color: var(--sklearn-color-text-muted);\n",
              "}\n",
              "\n",
              "#sk-container-id-5 label.sk-toggleable__label-arrow:before {\n",
              "  /* Arrow on the left of the label */\n",
              "  content: \"▸\";\n",
              "  float: left;\n",
              "  margin-right: 0.25em;\n",
              "  color: var(--sklearn-color-icon);\n",
              "}\n",
              "\n",
              "#sk-container-id-5 label.sk-toggleable__label-arrow:hover:before {\n",
              "  color: var(--sklearn-color-text);\n",
              "}\n",
              "\n",
              "/* Toggleable content - dropdown */\n",
              "\n",
              "#sk-container-id-5 div.sk-toggleable__content {\n",
              "  max-height: 0;\n",
              "  max-width: 0;\n",
              "  overflow: hidden;\n",
              "  text-align: left;\n",
              "  /* unfitted */\n",
              "  background-color: var(--sklearn-color-unfitted-level-0);\n",
              "}\n",
              "\n",
              "#sk-container-id-5 div.sk-toggleable__content.fitted {\n",
              "  /* fitted */\n",
              "  background-color: var(--sklearn-color-fitted-level-0);\n",
              "}\n",
              "\n",
              "#sk-container-id-5 div.sk-toggleable__content pre {\n",
              "  margin: 0.2em;\n",
              "  border-radius: 0.25em;\n",
              "  color: var(--sklearn-color-text);\n",
              "  /* unfitted */\n",
              "  background-color: var(--sklearn-color-unfitted-level-0);\n",
              "}\n",
              "\n",
              "#sk-container-id-5 div.sk-toggleable__content.fitted pre {\n",
              "  /* unfitted */\n",
              "  background-color: var(--sklearn-color-fitted-level-0);\n",
              "}\n",
              "\n",
              "#sk-container-id-5 input.sk-toggleable__control:checked~div.sk-toggleable__content {\n",
              "  /* Expand drop-down */\n",
              "  max-height: 200px;\n",
              "  max-width: 100%;\n",
              "  overflow: auto;\n",
              "}\n",
              "\n",
              "#sk-container-id-5 input.sk-toggleable__control:checked~label.sk-toggleable__label-arrow:before {\n",
              "  content: \"▾\";\n",
              "}\n",
              "\n",
              "/* Pipeline/ColumnTransformer-specific style */\n",
              "\n",
              "#sk-container-id-5 div.sk-label input.sk-toggleable__control:checked~label.sk-toggleable__label {\n",
              "  color: var(--sklearn-color-text);\n",
              "  background-color: var(--sklearn-color-unfitted-level-2);\n",
              "}\n",
              "\n",
              "#sk-container-id-5 div.sk-label.fitted input.sk-toggleable__control:checked~label.sk-toggleable__label {\n",
              "  background-color: var(--sklearn-color-fitted-level-2);\n",
              "}\n",
              "\n",
              "/* Estimator-specific style */\n",
              "\n",
              "/* Colorize estimator box */\n",
              "#sk-container-id-5 div.sk-estimator input.sk-toggleable__control:checked~label.sk-toggleable__label {\n",
              "  /* unfitted */\n",
              "  background-color: var(--sklearn-color-unfitted-level-2);\n",
              "}\n",
              "\n",
              "#sk-container-id-5 div.sk-estimator.fitted input.sk-toggleable__control:checked~label.sk-toggleable__label {\n",
              "  /* fitted */\n",
              "  background-color: var(--sklearn-color-fitted-level-2);\n",
              "}\n",
              "\n",
              "#sk-container-id-5 div.sk-label label.sk-toggleable__label,\n",
              "#sk-container-id-5 div.sk-label label {\n",
              "  /* The background is the default theme color */\n",
              "  color: var(--sklearn-color-text-on-default-background);\n",
              "}\n",
              "\n",
              "/* On hover, darken the color of the background */\n",
              "#sk-container-id-5 div.sk-label:hover label.sk-toggleable__label {\n",
              "  color: var(--sklearn-color-text);\n",
              "  background-color: var(--sklearn-color-unfitted-level-2);\n",
              "}\n",
              "\n",
              "/* Label box, darken color on hover, fitted */\n",
              "#sk-container-id-5 div.sk-label.fitted:hover label.sk-toggleable__label.fitted {\n",
              "  color: var(--sklearn-color-text);\n",
              "  background-color: var(--sklearn-color-fitted-level-2);\n",
              "}\n",
              "\n",
              "/* Estimator label */\n",
              "\n",
              "#sk-container-id-5 div.sk-label label {\n",
              "  font-family: monospace;\n",
              "  font-weight: bold;\n",
              "  display: inline-block;\n",
              "  line-height: 1.2em;\n",
              "}\n",
              "\n",
              "#sk-container-id-5 div.sk-label-container {\n",
              "  text-align: center;\n",
              "}\n",
              "\n",
              "/* Estimator-specific */\n",
              "#sk-container-id-5 div.sk-estimator {\n",
              "  font-family: monospace;\n",
              "  border: 1px dotted var(--sklearn-color-border-box);\n",
              "  border-radius: 0.25em;\n",
              "  box-sizing: border-box;\n",
              "  margin-bottom: 0.5em;\n",
              "  /* unfitted */\n",
              "  background-color: var(--sklearn-color-unfitted-level-0);\n",
              "}\n",
              "\n",
              "#sk-container-id-5 div.sk-estimator.fitted {\n",
              "  /* fitted */\n",
              "  background-color: var(--sklearn-color-fitted-level-0);\n",
              "}\n",
              "\n",
              "/* on hover */\n",
              "#sk-container-id-5 div.sk-estimator:hover {\n",
              "  /* unfitted */\n",
              "  background-color: var(--sklearn-color-unfitted-level-2);\n",
              "}\n",
              "\n",
              "#sk-container-id-5 div.sk-estimator.fitted:hover {\n",
              "  /* fitted */\n",
              "  background-color: var(--sklearn-color-fitted-level-2);\n",
              "}\n",
              "\n",
              "/* Specification for estimator info (e.g. \"i\" and \"?\") */\n",
              "\n",
              "/* Common style for \"i\" and \"?\" */\n",
              "\n",
              ".sk-estimator-doc-link,\n",
              "a:link.sk-estimator-doc-link,\n",
              "a:visited.sk-estimator-doc-link {\n",
              "  float: right;\n",
              "  font-size: smaller;\n",
              "  line-height: 1em;\n",
              "  font-family: monospace;\n",
              "  background-color: var(--sklearn-color-background);\n",
              "  border-radius: 1em;\n",
              "  height: 1em;\n",
              "  width: 1em;\n",
              "  text-decoration: none !important;\n",
              "  margin-left: 0.5em;\n",
              "  text-align: center;\n",
              "  /* unfitted */\n",
              "  border: var(--sklearn-color-unfitted-level-1) 1pt solid;\n",
              "  color: var(--sklearn-color-unfitted-level-1);\n",
              "}\n",
              "\n",
              ".sk-estimator-doc-link.fitted,\n",
              "a:link.sk-estimator-doc-link.fitted,\n",
              "a:visited.sk-estimator-doc-link.fitted {\n",
              "  /* fitted */\n",
              "  border: var(--sklearn-color-fitted-level-1) 1pt solid;\n",
              "  color: var(--sklearn-color-fitted-level-1);\n",
              "}\n",
              "\n",
              "/* On hover */\n",
              "div.sk-estimator:hover .sk-estimator-doc-link:hover,\n",
              ".sk-estimator-doc-link:hover,\n",
              "div.sk-label-container:hover .sk-estimator-doc-link:hover,\n",
              ".sk-estimator-doc-link:hover {\n",
              "  /* unfitted */\n",
              "  background-color: var(--sklearn-color-unfitted-level-3);\n",
              "  color: var(--sklearn-color-background);\n",
              "  text-decoration: none;\n",
              "}\n",
              "\n",
              "div.sk-estimator.fitted:hover .sk-estimator-doc-link.fitted:hover,\n",
              ".sk-estimator-doc-link.fitted:hover,\n",
              "div.sk-label-container:hover .sk-estimator-doc-link.fitted:hover,\n",
              ".sk-estimator-doc-link.fitted:hover {\n",
              "  /* fitted */\n",
              "  background-color: var(--sklearn-color-fitted-level-3);\n",
              "  color: var(--sklearn-color-background);\n",
              "  text-decoration: none;\n",
              "}\n",
              "\n",
              "/* Span, style for the box shown on hovering the info icon */\n",
              ".sk-estimator-doc-link span {\n",
              "  display: none;\n",
              "  z-index: 9999;\n",
              "  position: relative;\n",
              "  font-weight: normal;\n",
              "  right: .2ex;\n",
              "  padding: .5ex;\n",
              "  margin: .5ex;\n",
              "  width: min-content;\n",
              "  min-width: 20ex;\n",
              "  max-width: 50ex;\n",
              "  color: var(--sklearn-color-text);\n",
              "  box-shadow: 2pt 2pt 4pt #999;\n",
              "  /* unfitted */\n",
              "  background: var(--sklearn-color-unfitted-level-0);\n",
              "  border: .5pt solid var(--sklearn-color-unfitted-level-3);\n",
              "}\n",
              "\n",
              ".sk-estimator-doc-link.fitted span {\n",
              "  /* fitted */\n",
              "  background: var(--sklearn-color-fitted-level-0);\n",
              "  border: var(--sklearn-color-fitted-level-3);\n",
              "}\n",
              "\n",
              ".sk-estimator-doc-link:hover span {\n",
              "  display: block;\n",
              "}\n",
              "\n",
              "/* \"?\"-specific style due to the `<a>` HTML tag */\n",
              "\n",
              "#sk-container-id-5 a.estimator_doc_link {\n",
              "  float: right;\n",
              "  font-size: 1rem;\n",
              "  line-height: 1em;\n",
              "  font-family: monospace;\n",
              "  background-color: var(--sklearn-color-background);\n",
              "  border-radius: 1rem;\n",
              "  height: 1rem;\n",
              "  width: 1rem;\n",
              "  text-decoration: none;\n",
              "  /* unfitted */\n",
              "  color: var(--sklearn-color-unfitted-level-1);\n",
              "  border: var(--sklearn-color-unfitted-level-1) 1pt solid;\n",
              "}\n",
              "\n",
              "#sk-container-id-5 a.estimator_doc_link.fitted {\n",
              "  /* fitted */\n",
              "  border: var(--sklearn-color-fitted-level-1) 1pt solid;\n",
              "  color: var(--sklearn-color-fitted-level-1);\n",
              "}\n",
              "\n",
              "/* On hover */\n",
              "#sk-container-id-5 a.estimator_doc_link:hover {\n",
              "  /* unfitted */\n",
              "  background-color: var(--sklearn-color-unfitted-level-3);\n",
              "  color: var(--sklearn-color-background);\n",
              "  text-decoration: none;\n",
              "}\n",
              "\n",
              "#sk-container-id-5 a.estimator_doc_link.fitted:hover {\n",
              "  /* fitted */\n",
              "  background-color: var(--sklearn-color-fitted-level-3);\n",
              "}\n",
              "</style><div id=\"sk-container-id-5\" class=\"sk-top-container\"><div class=\"sk-text-repr-fallback\"><pre>PolynomialFeatures()</pre><b>In a Jupyter environment, please rerun this cell to show the HTML representation or trust the notebook. <br />On GitHub, the HTML representation is unable to render, please try loading this page with nbviewer.org.</b></div><div class=\"sk-container\" hidden><div class=\"sk-item\"><div class=\"sk-estimator  sk-toggleable\"><input class=\"sk-toggleable__control sk-hidden--visually\" id=\"sk-estimator-id-5\" type=\"checkbox\" checked><label for=\"sk-estimator-id-5\" class=\"sk-toggleable__label  sk-toggleable__label-arrow\"><div><div>PolynomialFeatures</div></div><div><a class=\"sk-estimator-doc-link \" rel=\"noreferrer\" target=\"_blank\" href=\"https://scikit-learn.org/1.6/modules/generated/sklearn.preprocessing.PolynomialFeatures.html\">?<span>Documentation for PolynomialFeatures</span></a><span class=\"sk-estimator-doc-link \">i<span>Not fitted</span></span></div></label><div class=\"sk-toggleable__content \"><pre>PolynomialFeatures()</pre></div> </div></div></div></div>"
            ]
          },
          "metadata": {},
          "execution_count": 55
        }
      ]
    },
    {
      "cell_type": "markdown",
      "source": [
        "2️⃣ Transformar los Datos\n",
        "Aplicamos la transformación a nuestra matriz de características 𝑍:"
      ],
      "metadata": {
        "id": "9Yv30Krupa7_"
      }
    },
    {
      "cell_type": "code",
      "source": [
        "# Seleccionar las características independientes\n",
        "Z = df[['horsepower', 'curb-weight', 'engine-size', 'highway-mpg']]\n",
        "\n",
        "# Crear un objeto PolynomialFeatures de grado 2\n",
        "pr = PolynomialFeatures(degree=2)\n",
        "\n",
        "# Transformar las características en términos polinómicos\n",
        "Z_pr = pr.fit_transform(Z)\n",
        "\n",
        "# Verificar la nueva dimensión de los datos\n",
        "print(\"Dimensión original:\", Z.shape)\n",
        "print(\"Nueva dimensión tras transformación polinómica:\", Z_pr.shape)\n"
      ],
      "metadata": {
        "colab": {
          "base_uri": "https://localhost:8080/"
        },
        "id": "Q8V26bg-p5jq",
        "outputId": "890a52b5-817b-4d4c-de4c-d57f42af574b"
      },
      "execution_count": 57,
      "outputs": [
        {
          "output_type": "stream",
          "name": "stdout",
          "text": [
            "Dimensión original: (201, 4)\n",
            "Nueva dimensión tras transformación polinómica: (201, 15)\n"
          ]
        }
      ]
    },
    {
      "cell_type": "markdown",
      "source": [
        "Después de la transformación polinómica, el número de muestras sigue siendo 201, pero el número de características ha aumentado a 15.\n",
        "\n",
        "Esto ocurre porque la transformación polinómica de segundo grado genera términos adicionales, incluyendo los productos entre variables y sus versiones elevadas al cuadrado."
      ],
      "metadata": {
        "id": "afUq-stHqYnw"
      }
    },
    {
      "cell_type": "markdown",
      "source": [
        "# **Pipeline en Machine Learning**\n",
        "\n",
        "Los **Data Pipelines** simplifican los pasos de procesamiento de datos. Usaremos el módulo `Pipeline` para crear un flujo de trabajo estructurado y `StandardScaler` como un paso en nuestro pipeline.\n",
        "\n",
        "## **1. Importar las librerías necesarias**\n",
        "```python\n",
        "from sklearn.pipeline import Pipeline\n",
        "from sklearn.preprocessing import StandardScaler, PolynomialFeatures\n",
        "from sklearn.linear_model import LinearRegression\n"
      ],
      "metadata": {
        "id": "yk4U4D49qqnJ"
      }
    },
    {
      "cell_type": "code",
      "source": [
        "# Importar librerías necesarias\n",
        "from sklearn.pipeline import Pipeline\n",
        "from sklearn.preprocessing import StandardScaler, PolynomialFeatures\n",
        "from sklearn.linear_model import LinearRegression\n",
        "import numpy as np"
      ],
      "metadata": {
        "id": "6y6B8-2JrPoE"
      },
      "execution_count": 60,
      "outputs": []
    },
    {
      "cell_type": "markdown",
      "source": [
        "2. Definir los pasos del pipeline"
      ],
      "metadata": {
        "id": "CUCEbKBdqwJk"
      }
    },
    {
      "cell_type": "code",
      "source": [
        "Input = [\n",
        "    ('scale', StandardScaler()),  # Normalización\n",
        "    ('polynomial', PolynomialFeatures(include_bias=False)),  # Transformación polinómica\n",
        "    ('model', LinearRegression())  # Modelo de regresión lineal\n",
        "]"
      ],
      "metadata": {
        "id": "N-aF-BblqykW"
      },
      "execution_count": 61,
      "outputs": []
    },
    {
      "cell_type": "code",
      "source": [
        "# Crear el pipeline\n",
        "pipe = Pipeline(Input)"
      ],
      "metadata": {
        "id": "wdtGahxMrU70"
      },
      "execution_count": 62,
      "outputs": []
    },
    {
      "cell_type": "code",
      "source": [
        "# Verificar que 'Z' esté definido y sea de tipo float\n",
        "Z = Z.astype(float)  # Convertir los datos a tipo float\n",
        "y = y.astype(float)  # Asegurar que y también sea float"
      ],
      "metadata": {
        "id": "RvOnMmCyrYOC"
      },
      "execution_count": 63,
      "outputs": []
    },
    {
      "cell_type": "code",
      "source": [
        "# Ajustar el modelo\n",
        "pipe.fit(Z, y)"
      ],
      "metadata": {
        "colab": {
          "base_uri": "https://localhost:8080/",
          "height": 197
        },
        "id": "Lpqthvz2rbCY",
        "outputId": "9baaa7ff-8282-4ee4-ec4b-e80675bbecb5"
      },
      "execution_count": 64,
      "outputs": [
        {
          "output_type": "execute_result",
          "data": {
            "text/plain": [
              "Pipeline(steps=[('scale', StandardScaler()),\n",
              "                ('polynomial', PolynomialFeatures(include_bias=False)),\n",
              "                ('model', LinearRegression())])"
            ],
            "text/html": [
              "<style>#sk-container-id-6 {\n",
              "  /* Definition of color scheme common for light and dark mode */\n",
              "  --sklearn-color-text: #000;\n",
              "  --sklearn-color-text-muted: #666;\n",
              "  --sklearn-color-line: gray;\n",
              "  /* Definition of color scheme for unfitted estimators */\n",
              "  --sklearn-color-unfitted-level-0: #fff5e6;\n",
              "  --sklearn-color-unfitted-level-1: #f6e4d2;\n",
              "  --sklearn-color-unfitted-level-2: #ffe0b3;\n",
              "  --sklearn-color-unfitted-level-3: chocolate;\n",
              "  /* Definition of color scheme for fitted estimators */\n",
              "  --sklearn-color-fitted-level-0: #f0f8ff;\n",
              "  --sklearn-color-fitted-level-1: #d4ebff;\n",
              "  --sklearn-color-fitted-level-2: #b3dbfd;\n",
              "  --sklearn-color-fitted-level-3: cornflowerblue;\n",
              "\n",
              "  /* Specific color for light theme */\n",
              "  --sklearn-color-text-on-default-background: var(--sg-text-color, var(--theme-code-foreground, var(--jp-content-font-color1, black)));\n",
              "  --sklearn-color-background: var(--sg-background-color, var(--theme-background, var(--jp-layout-color0, white)));\n",
              "  --sklearn-color-border-box: var(--sg-text-color, var(--theme-code-foreground, var(--jp-content-font-color1, black)));\n",
              "  --sklearn-color-icon: #696969;\n",
              "\n",
              "  @media (prefers-color-scheme: dark) {\n",
              "    /* Redefinition of color scheme for dark theme */\n",
              "    --sklearn-color-text-on-default-background: var(--sg-text-color, var(--theme-code-foreground, var(--jp-content-font-color1, white)));\n",
              "    --sklearn-color-background: var(--sg-background-color, var(--theme-background, var(--jp-layout-color0, #111)));\n",
              "    --sklearn-color-border-box: var(--sg-text-color, var(--theme-code-foreground, var(--jp-content-font-color1, white)));\n",
              "    --sklearn-color-icon: #878787;\n",
              "  }\n",
              "}\n",
              "\n",
              "#sk-container-id-6 {\n",
              "  color: var(--sklearn-color-text);\n",
              "}\n",
              "\n",
              "#sk-container-id-6 pre {\n",
              "  padding: 0;\n",
              "}\n",
              "\n",
              "#sk-container-id-6 input.sk-hidden--visually {\n",
              "  border: 0;\n",
              "  clip: rect(1px 1px 1px 1px);\n",
              "  clip: rect(1px, 1px, 1px, 1px);\n",
              "  height: 1px;\n",
              "  margin: -1px;\n",
              "  overflow: hidden;\n",
              "  padding: 0;\n",
              "  position: absolute;\n",
              "  width: 1px;\n",
              "}\n",
              "\n",
              "#sk-container-id-6 div.sk-dashed-wrapped {\n",
              "  border: 1px dashed var(--sklearn-color-line);\n",
              "  margin: 0 0.4em 0.5em 0.4em;\n",
              "  box-sizing: border-box;\n",
              "  padding-bottom: 0.4em;\n",
              "  background-color: var(--sklearn-color-background);\n",
              "}\n",
              "\n",
              "#sk-container-id-6 div.sk-container {\n",
              "  /* jupyter's `normalize.less` sets `[hidden] { display: none; }`\n",
              "     but bootstrap.min.css set `[hidden] { display: none !important; }`\n",
              "     so we also need the `!important` here to be able to override the\n",
              "     default hidden behavior on the sphinx rendered scikit-learn.org.\n",
              "     See: https://github.com/scikit-learn/scikit-learn/issues/21755 */\n",
              "  display: inline-block !important;\n",
              "  position: relative;\n",
              "}\n",
              "\n",
              "#sk-container-id-6 div.sk-text-repr-fallback {\n",
              "  display: none;\n",
              "}\n",
              "\n",
              "div.sk-parallel-item,\n",
              "div.sk-serial,\n",
              "div.sk-item {\n",
              "  /* draw centered vertical line to link estimators */\n",
              "  background-image: linear-gradient(var(--sklearn-color-text-on-default-background), var(--sklearn-color-text-on-default-background));\n",
              "  background-size: 2px 100%;\n",
              "  background-repeat: no-repeat;\n",
              "  background-position: center center;\n",
              "}\n",
              "\n",
              "/* Parallel-specific style estimator block */\n",
              "\n",
              "#sk-container-id-6 div.sk-parallel-item::after {\n",
              "  content: \"\";\n",
              "  width: 100%;\n",
              "  border-bottom: 2px solid var(--sklearn-color-text-on-default-background);\n",
              "  flex-grow: 1;\n",
              "}\n",
              "\n",
              "#sk-container-id-6 div.sk-parallel {\n",
              "  display: flex;\n",
              "  align-items: stretch;\n",
              "  justify-content: center;\n",
              "  background-color: var(--sklearn-color-background);\n",
              "  position: relative;\n",
              "}\n",
              "\n",
              "#sk-container-id-6 div.sk-parallel-item {\n",
              "  display: flex;\n",
              "  flex-direction: column;\n",
              "}\n",
              "\n",
              "#sk-container-id-6 div.sk-parallel-item:first-child::after {\n",
              "  align-self: flex-end;\n",
              "  width: 50%;\n",
              "}\n",
              "\n",
              "#sk-container-id-6 div.sk-parallel-item:last-child::after {\n",
              "  align-self: flex-start;\n",
              "  width: 50%;\n",
              "}\n",
              "\n",
              "#sk-container-id-6 div.sk-parallel-item:only-child::after {\n",
              "  width: 0;\n",
              "}\n",
              "\n",
              "/* Serial-specific style estimator block */\n",
              "\n",
              "#sk-container-id-6 div.sk-serial {\n",
              "  display: flex;\n",
              "  flex-direction: column;\n",
              "  align-items: center;\n",
              "  background-color: var(--sklearn-color-background);\n",
              "  padding-right: 1em;\n",
              "  padding-left: 1em;\n",
              "}\n",
              "\n",
              "\n",
              "/* Toggleable style: style used for estimator/Pipeline/ColumnTransformer box that is\n",
              "clickable and can be expanded/collapsed.\n",
              "- Pipeline and ColumnTransformer use this feature and define the default style\n",
              "- Estimators will overwrite some part of the style using the `sk-estimator` class\n",
              "*/\n",
              "\n",
              "/* Pipeline and ColumnTransformer style (default) */\n",
              "\n",
              "#sk-container-id-6 div.sk-toggleable {\n",
              "  /* Default theme specific background. It is overwritten whether we have a\n",
              "  specific estimator or a Pipeline/ColumnTransformer */\n",
              "  background-color: var(--sklearn-color-background);\n",
              "}\n",
              "\n",
              "/* Toggleable label */\n",
              "#sk-container-id-6 label.sk-toggleable__label {\n",
              "  cursor: pointer;\n",
              "  display: flex;\n",
              "  width: 100%;\n",
              "  margin-bottom: 0;\n",
              "  padding: 0.5em;\n",
              "  box-sizing: border-box;\n",
              "  text-align: center;\n",
              "  align-items: start;\n",
              "  justify-content: space-between;\n",
              "  gap: 0.5em;\n",
              "}\n",
              "\n",
              "#sk-container-id-6 label.sk-toggleable__label .caption {\n",
              "  font-size: 0.6rem;\n",
              "  font-weight: lighter;\n",
              "  color: var(--sklearn-color-text-muted);\n",
              "}\n",
              "\n",
              "#sk-container-id-6 label.sk-toggleable__label-arrow:before {\n",
              "  /* Arrow on the left of the label */\n",
              "  content: \"▸\";\n",
              "  float: left;\n",
              "  margin-right: 0.25em;\n",
              "  color: var(--sklearn-color-icon);\n",
              "}\n",
              "\n",
              "#sk-container-id-6 label.sk-toggleable__label-arrow:hover:before {\n",
              "  color: var(--sklearn-color-text);\n",
              "}\n",
              "\n",
              "/* Toggleable content - dropdown */\n",
              "\n",
              "#sk-container-id-6 div.sk-toggleable__content {\n",
              "  max-height: 0;\n",
              "  max-width: 0;\n",
              "  overflow: hidden;\n",
              "  text-align: left;\n",
              "  /* unfitted */\n",
              "  background-color: var(--sklearn-color-unfitted-level-0);\n",
              "}\n",
              "\n",
              "#sk-container-id-6 div.sk-toggleable__content.fitted {\n",
              "  /* fitted */\n",
              "  background-color: var(--sklearn-color-fitted-level-0);\n",
              "}\n",
              "\n",
              "#sk-container-id-6 div.sk-toggleable__content pre {\n",
              "  margin: 0.2em;\n",
              "  border-radius: 0.25em;\n",
              "  color: var(--sklearn-color-text);\n",
              "  /* unfitted */\n",
              "  background-color: var(--sklearn-color-unfitted-level-0);\n",
              "}\n",
              "\n",
              "#sk-container-id-6 div.sk-toggleable__content.fitted pre {\n",
              "  /* unfitted */\n",
              "  background-color: var(--sklearn-color-fitted-level-0);\n",
              "}\n",
              "\n",
              "#sk-container-id-6 input.sk-toggleable__control:checked~div.sk-toggleable__content {\n",
              "  /* Expand drop-down */\n",
              "  max-height: 200px;\n",
              "  max-width: 100%;\n",
              "  overflow: auto;\n",
              "}\n",
              "\n",
              "#sk-container-id-6 input.sk-toggleable__control:checked~label.sk-toggleable__label-arrow:before {\n",
              "  content: \"▾\";\n",
              "}\n",
              "\n",
              "/* Pipeline/ColumnTransformer-specific style */\n",
              "\n",
              "#sk-container-id-6 div.sk-label input.sk-toggleable__control:checked~label.sk-toggleable__label {\n",
              "  color: var(--sklearn-color-text);\n",
              "  background-color: var(--sklearn-color-unfitted-level-2);\n",
              "}\n",
              "\n",
              "#sk-container-id-6 div.sk-label.fitted input.sk-toggleable__control:checked~label.sk-toggleable__label {\n",
              "  background-color: var(--sklearn-color-fitted-level-2);\n",
              "}\n",
              "\n",
              "/* Estimator-specific style */\n",
              "\n",
              "/* Colorize estimator box */\n",
              "#sk-container-id-6 div.sk-estimator input.sk-toggleable__control:checked~label.sk-toggleable__label {\n",
              "  /* unfitted */\n",
              "  background-color: var(--sklearn-color-unfitted-level-2);\n",
              "}\n",
              "\n",
              "#sk-container-id-6 div.sk-estimator.fitted input.sk-toggleable__control:checked~label.sk-toggleable__label {\n",
              "  /* fitted */\n",
              "  background-color: var(--sklearn-color-fitted-level-2);\n",
              "}\n",
              "\n",
              "#sk-container-id-6 div.sk-label label.sk-toggleable__label,\n",
              "#sk-container-id-6 div.sk-label label {\n",
              "  /* The background is the default theme color */\n",
              "  color: var(--sklearn-color-text-on-default-background);\n",
              "}\n",
              "\n",
              "/* On hover, darken the color of the background */\n",
              "#sk-container-id-6 div.sk-label:hover label.sk-toggleable__label {\n",
              "  color: var(--sklearn-color-text);\n",
              "  background-color: var(--sklearn-color-unfitted-level-2);\n",
              "}\n",
              "\n",
              "/* Label box, darken color on hover, fitted */\n",
              "#sk-container-id-6 div.sk-label.fitted:hover label.sk-toggleable__label.fitted {\n",
              "  color: var(--sklearn-color-text);\n",
              "  background-color: var(--sklearn-color-fitted-level-2);\n",
              "}\n",
              "\n",
              "/* Estimator label */\n",
              "\n",
              "#sk-container-id-6 div.sk-label label {\n",
              "  font-family: monospace;\n",
              "  font-weight: bold;\n",
              "  display: inline-block;\n",
              "  line-height: 1.2em;\n",
              "}\n",
              "\n",
              "#sk-container-id-6 div.sk-label-container {\n",
              "  text-align: center;\n",
              "}\n",
              "\n",
              "/* Estimator-specific */\n",
              "#sk-container-id-6 div.sk-estimator {\n",
              "  font-family: monospace;\n",
              "  border: 1px dotted var(--sklearn-color-border-box);\n",
              "  border-radius: 0.25em;\n",
              "  box-sizing: border-box;\n",
              "  margin-bottom: 0.5em;\n",
              "  /* unfitted */\n",
              "  background-color: var(--sklearn-color-unfitted-level-0);\n",
              "}\n",
              "\n",
              "#sk-container-id-6 div.sk-estimator.fitted {\n",
              "  /* fitted */\n",
              "  background-color: var(--sklearn-color-fitted-level-0);\n",
              "}\n",
              "\n",
              "/* on hover */\n",
              "#sk-container-id-6 div.sk-estimator:hover {\n",
              "  /* unfitted */\n",
              "  background-color: var(--sklearn-color-unfitted-level-2);\n",
              "}\n",
              "\n",
              "#sk-container-id-6 div.sk-estimator.fitted:hover {\n",
              "  /* fitted */\n",
              "  background-color: var(--sklearn-color-fitted-level-2);\n",
              "}\n",
              "\n",
              "/* Specification for estimator info (e.g. \"i\" and \"?\") */\n",
              "\n",
              "/* Common style for \"i\" and \"?\" */\n",
              "\n",
              ".sk-estimator-doc-link,\n",
              "a:link.sk-estimator-doc-link,\n",
              "a:visited.sk-estimator-doc-link {\n",
              "  float: right;\n",
              "  font-size: smaller;\n",
              "  line-height: 1em;\n",
              "  font-family: monospace;\n",
              "  background-color: var(--sklearn-color-background);\n",
              "  border-radius: 1em;\n",
              "  height: 1em;\n",
              "  width: 1em;\n",
              "  text-decoration: none !important;\n",
              "  margin-left: 0.5em;\n",
              "  text-align: center;\n",
              "  /* unfitted */\n",
              "  border: var(--sklearn-color-unfitted-level-1) 1pt solid;\n",
              "  color: var(--sklearn-color-unfitted-level-1);\n",
              "}\n",
              "\n",
              ".sk-estimator-doc-link.fitted,\n",
              "a:link.sk-estimator-doc-link.fitted,\n",
              "a:visited.sk-estimator-doc-link.fitted {\n",
              "  /* fitted */\n",
              "  border: var(--sklearn-color-fitted-level-1) 1pt solid;\n",
              "  color: var(--sklearn-color-fitted-level-1);\n",
              "}\n",
              "\n",
              "/* On hover */\n",
              "div.sk-estimator:hover .sk-estimator-doc-link:hover,\n",
              ".sk-estimator-doc-link:hover,\n",
              "div.sk-label-container:hover .sk-estimator-doc-link:hover,\n",
              ".sk-estimator-doc-link:hover {\n",
              "  /* unfitted */\n",
              "  background-color: var(--sklearn-color-unfitted-level-3);\n",
              "  color: var(--sklearn-color-background);\n",
              "  text-decoration: none;\n",
              "}\n",
              "\n",
              "div.sk-estimator.fitted:hover .sk-estimator-doc-link.fitted:hover,\n",
              ".sk-estimator-doc-link.fitted:hover,\n",
              "div.sk-label-container:hover .sk-estimator-doc-link.fitted:hover,\n",
              ".sk-estimator-doc-link.fitted:hover {\n",
              "  /* fitted */\n",
              "  background-color: var(--sklearn-color-fitted-level-3);\n",
              "  color: var(--sklearn-color-background);\n",
              "  text-decoration: none;\n",
              "}\n",
              "\n",
              "/* Span, style for the box shown on hovering the info icon */\n",
              ".sk-estimator-doc-link span {\n",
              "  display: none;\n",
              "  z-index: 9999;\n",
              "  position: relative;\n",
              "  font-weight: normal;\n",
              "  right: .2ex;\n",
              "  padding: .5ex;\n",
              "  margin: .5ex;\n",
              "  width: min-content;\n",
              "  min-width: 20ex;\n",
              "  max-width: 50ex;\n",
              "  color: var(--sklearn-color-text);\n",
              "  box-shadow: 2pt 2pt 4pt #999;\n",
              "  /* unfitted */\n",
              "  background: var(--sklearn-color-unfitted-level-0);\n",
              "  border: .5pt solid var(--sklearn-color-unfitted-level-3);\n",
              "}\n",
              "\n",
              ".sk-estimator-doc-link.fitted span {\n",
              "  /* fitted */\n",
              "  background: var(--sklearn-color-fitted-level-0);\n",
              "  border: var(--sklearn-color-fitted-level-3);\n",
              "}\n",
              "\n",
              ".sk-estimator-doc-link:hover span {\n",
              "  display: block;\n",
              "}\n",
              "\n",
              "/* \"?\"-specific style due to the `<a>` HTML tag */\n",
              "\n",
              "#sk-container-id-6 a.estimator_doc_link {\n",
              "  float: right;\n",
              "  font-size: 1rem;\n",
              "  line-height: 1em;\n",
              "  font-family: monospace;\n",
              "  background-color: var(--sklearn-color-background);\n",
              "  border-radius: 1rem;\n",
              "  height: 1rem;\n",
              "  width: 1rem;\n",
              "  text-decoration: none;\n",
              "  /* unfitted */\n",
              "  color: var(--sklearn-color-unfitted-level-1);\n",
              "  border: var(--sklearn-color-unfitted-level-1) 1pt solid;\n",
              "}\n",
              "\n",
              "#sk-container-id-6 a.estimator_doc_link.fitted {\n",
              "  /* fitted */\n",
              "  border: var(--sklearn-color-fitted-level-1) 1pt solid;\n",
              "  color: var(--sklearn-color-fitted-level-1);\n",
              "}\n",
              "\n",
              "/* On hover */\n",
              "#sk-container-id-6 a.estimator_doc_link:hover {\n",
              "  /* unfitted */\n",
              "  background-color: var(--sklearn-color-unfitted-level-3);\n",
              "  color: var(--sklearn-color-background);\n",
              "  text-decoration: none;\n",
              "}\n",
              "\n",
              "#sk-container-id-6 a.estimator_doc_link.fitted:hover {\n",
              "  /* fitted */\n",
              "  background-color: var(--sklearn-color-fitted-level-3);\n",
              "}\n",
              "</style><div id=\"sk-container-id-6\" class=\"sk-top-container\"><div class=\"sk-text-repr-fallback\"><pre>Pipeline(steps=[(&#x27;scale&#x27;, StandardScaler()),\n",
              "                (&#x27;polynomial&#x27;, PolynomialFeatures(include_bias=False)),\n",
              "                (&#x27;model&#x27;, LinearRegression())])</pre><b>In a Jupyter environment, please rerun this cell to show the HTML representation or trust the notebook. <br />On GitHub, the HTML representation is unable to render, please try loading this page with nbviewer.org.</b></div><div class=\"sk-container\" hidden><div class=\"sk-item sk-dashed-wrapped\"><div class=\"sk-label-container\"><div class=\"sk-label fitted sk-toggleable\"><input class=\"sk-toggleable__control sk-hidden--visually\" id=\"sk-estimator-id-6\" type=\"checkbox\" ><label for=\"sk-estimator-id-6\" class=\"sk-toggleable__label fitted sk-toggleable__label-arrow\"><div><div>Pipeline</div></div><div><a class=\"sk-estimator-doc-link fitted\" rel=\"noreferrer\" target=\"_blank\" href=\"https://scikit-learn.org/1.6/modules/generated/sklearn.pipeline.Pipeline.html\">?<span>Documentation for Pipeline</span></a><span class=\"sk-estimator-doc-link fitted\">i<span>Fitted</span></span></div></label><div class=\"sk-toggleable__content fitted\"><pre>Pipeline(steps=[(&#x27;scale&#x27;, StandardScaler()),\n",
              "                (&#x27;polynomial&#x27;, PolynomialFeatures(include_bias=False)),\n",
              "                (&#x27;model&#x27;, LinearRegression())])</pre></div> </div></div><div class=\"sk-serial\"><div class=\"sk-item\"><div class=\"sk-estimator fitted sk-toggleable\"><input class=\"sk-toggleable__control sk-hidden--visually\" id=\"sk-estimator-id-7\" type=\"checkbox\" ><label for=\"sk-estimator-id-7\" class=\"sk-toggleable__label fitted sk-toggleable__label-arrow\"><div><div>StandardScaler</div></div><div><a class=\"sk-estimator-doc-link fitted\" rel=\"noreferrer\" target=\"_blank\" href=\"https://scikit-learn.org/1.6/modules/generated/sklearn.preprocessing.StandardScaler.html\">?<span>Documentation for StandardScaler</span></a></div></label><div class=\"sk-toggleable__content fitted\"><pre>StandardScaler()</pre></div> </div></div><div class=\"sk-item\"><div class=\"sk-estimator fitted sk-toggleable\"><input class=\"sk-toggleable__control sk-hidden--visually\" id=\"sk-estimator-id-8\" type=\"checkbox\" ><label for=\"sk-estimator-id-8\" class=\"sk-toggleable__label fitted sk-toggleable__label-arrow\"><div><div>PolynomialFeatures</div></div><div><a class=\"sk-estimator-doc-link fitted\" rel=\"noreferrer\" target=\"_blank\" href=\"https://scikit-learn.org/1.6/modules/generated/sklearn.preprocessing.PolynomialFeatures.html\">?<span>Documentation for PolynomialFeatures</span></a></div></label><div class=\"sk-toggleable__content fitted\"><pre>PolynomialFeatures(include_bias=False)</pre></div> </div></div><div class=\"sk-item\"><div class=\"sk-estimator fitted sk-toggleable\"><input class=\"sk-toggleable__control sk-hidden--visually\" id=\"sk-estimator-id-9\" type=\"checkbox\" ><label for=\"sk-estimator-id-9\" class=\"sk-toggleable__label fitted sk-toggleable__label-arrow\"><div><div>LinearRegression</div></div><div><a class=\"sk-estimator-doc-link fitted\" rel=\"noreferrer\" target=\"_blank\" href=\"https://scikit-learn.org/1.6/modules/generated/sklearn.linear_model.LinearRegression.html\">?<span>Documentation for LinearRegression</span></a></div></label><div class=\"sk-toggleable__content fitted\"><pre>LinearRegression()</pre></div> </div></div></div></div></div></div>"
            ]
          },
          "metadata": {},
          "execution_count": 64
        }
      ]
    },
    {
      "cell_type": "code",
      "source": [
        "# Realizar predicciones\n",
        "ypipe = pipe.predict(Z)"
      ],
      "metadata": {
        "id": "lkR93icbrdbi"
      },
      "execution_count": 65,
      "outputs": []
    },
    {
      "cell_type": "code",
      "source": [
        "# Mostrar las primeras 4 predicciones\n",
        "print(ypipe[:4])"
      ],
      "metadata": {
        "colab": {
          "base_uri": "https://localhost:8080/"
        },
        "id": "ZaZ9mmQyrf0Y",
        "outputId": "bb0d88ee-42a8-466e-b52d-7954993f957e"
      },
      "execution_count": 66,
      "outputs": [
        {
          "output_type": "stream",
          "name": "stdout",
          "text": [
            "[13102.74784201 13102.74784201 18225.54572197 10390.29636555]\n"
          ]
        }
      ]
    },
    {
      "cell_type": "markdown",
      "source": [
        "## 🚀 Pregunta 5. Creación de un Pipeline con Normalización y Regresión Lineal\n",
        "\n",
        "### Objetivo:\n",
        "Crear un **pipeline** que primero estandarice los datos y luego realice una predicción utilizando un modelo de regresión lineal, empleando las características `Z` y la variable objetivo `y`.\n",
        "\n"
      ],
      "metadata": {
        "id": "0jrup7oQrGme"
      }
    },
    {
      "cell_type": "code",
      "source": [
        "# Escribe aqui tu respuesta\n"
      ],
      "metadata": {
        "id": "8SxQ5sNvr88s"
      },
      "execution_count": 68,
      "outputs": []
    },
    {
      "cell_type": "markdown",
      "source": [
        "<details>  \n",
        "<summary>Haz clic aquí para ver la solución</summary>  \n",
        "\n",
        "```python\n",
        "# Importar las librerías necesarias\n",
        "from sklearn.pipeline import Pipeline\n",
        "from sklearn.preprocessing import StandardScaler\n",
        "from sklearn.linear_model import LinearRegression\n",
        "\n",
        "# Definir el pipeline con normalización y regresión lineal\n",
        "Input = [\n",
        "    ('scale', StandardScaler()),  # Normalización de los datos\n",
        "    ('model', LinearRegression())  # Modelo de regresión lineal\n",
        "]\n",
        "\n",
        "# Crear el pipeline\n",
        "pipe = Pipeline(Input)\n",
        "\n",
        "# Verificar que Z y y están definidos correctamente\n",
        "try:\n",
        "    Z = Z.astype(float)  # Convertir a tipo float\n",
        "    y = y.astype(float)  # Convertir a tipo float\n",
        "\n",
        "    # Ajustar el modelo con los datos de entrada\n",
        "    pipe.fit(Z, y)\n",
        "\n",
        "    # Realizar predicciones con el pipeline\n",
        "    ypipe = pipe.predict(Z)\n",
        "\n",
        "    # Mostrar las primeras 10 predicciones\n",
        "    print(\"Primeras 10 predicciones:\", ypipe[:10])\n",
        "\n",
        "except NameError as e:\n",
        "    print(\"Error: Asegúrate de que las variables 'Z' y 'y' están definidas antes de ejecutar este código.\")\n",
        "    print(\"Detalle del error:\", e)\n",
        "```"
      ],
      "metadata": {
        "id": "VNLJ1pqDr-ko"
      }
    },
    {
      "cell_type": "markdown",
      "source": [
        "## 4. Medidas para la Evaluación Dentro de la Muestra  \n",
        "\n",
        "Al evaluar nuestros modelos, no solo queremos visualizar los resultados, sino que también queremos una medida cuantitativa para determinar qué tan preciso es el modelo.  \n",
        "\n",
        "Dos medidas muy importantes que se utilizan a menudo en estadística para determinar la precisión de un modelo son:  \n",
        "\n",
        "- **R² / R-squared (Coeficiente de determinación)**  \n",
        "- **Error Cuadrático Medio (MSE, Mean Squared Error)**  \n",
        "\n",
        "### 📌 R² (Coeficiente de Determinación)  \n",
        "\n",
        "El **R²**, también conocido como coeficiente de determinación, es una medida que indica qué tan cerca están los datos de la línea de regresión ajustada.  \n",
        "\n",
        "El valor de **R²** representa el porcentaje de variación de la variable de respuesta (`y`) que es explicado por un modelo lineal.  \n",
        "\n",
        "---\n",
        "\n",
        "### 📌 Error Cuadrático Medio (MSE)  \n",
        "\n",
        "El **Error Cuadrático Medio (MSE)** mide el promedio de los cuadrados de los errores, es decir, la diferencia entre el valor real (`y`) y el valor estimado (`ŷ`).  \n",
        "\n",
        "\n"
      ],
      "metadata": {
        "id": "bkNpv4DDsUL5"
      }
    },
    {
      "cell_type": "markdown",
      "source": [
        "## Modelo 1: Regresión Lineal Simple  \n",
        "\n",
        "Calculemos el **R²**:  \n"
      ],
      "metadata": {
        "id": "4RWi4XAatabx"
      }
    },
    {
      "cell_type": "code",
      "source": [
        "# Ajustar el modelo con los datos\n",
        "lm.fit(X, Y)\n",
        "\n",
        "# Calcular el coeficiente de determinación R²\n",
        "print('El valor de R² es: ', lm.score(X, Y))"
      ],
      "metadata": {
        "colab": {
          "base_uri": "https://localhost:8080/"
        },
        "id": "BCHnpLKGsifO",
        "outputId": "179bfbac-6081-43ca-c046-ffba8a08b666"
      },
      "execution_count": 69,
      "outputs": [
        {
          "output_type": "stream",
          "name": "stdout",
          "text": [
            "El valor de R² es:  0.8093562806577457\n"
          ]
        }
      ]
    },
    {
      "cell_type": "markdown",
      "source": [
        "Podemos decir que aproximadamente el **80.94%** de la variación del precio es explicada por este modelo de regresión lineal simple **\"horsepower_fit\"**.  \n"
      ],
      "metadata": {
        "id": "926xJy8nttEi"
      }
    },
    {
      "cell_type": "markdown",
      "source": [
        "### Cálculo del Error Cuadrático Medio (MSE)\n",
        "\n",
        "Podemos predecir la salida, es decir, **\"yhat\"** utilizando el método `predict`, donde **X** es la variable de entrada:\n"
      ],
      "metadata": {
        "id": "rvMWDMBvt0Dy"
      }
    },
    {
      "cell_type": "code",
      "source": [
        "Yhat = lm.predict(X)\n",
        "print('Los primeros cuatro valores predichos son: ', Yhat[0:4])"
      ],
      "metadata": {
        "colab": {
          "base_uri": "https://localhost:8080/"
        },
        "id": "OHz68Kiat2EJ",
        "outputId": "da7a8364-0d5e-44c2-a6c1-aed78683517c"
      },
      "execution_count": 70,
      "outputs": [
        {
          "output_type": "stream",
          "name": "stdout",
          "text": [
            "Los primeros cuatro valores predichos son:  [13699.11161184 13699.11161184 19051.65470233 10620.36193015]\n"
          ]
        }
      ]
    },
    {
      "cell_type": "markdown",
      "source": [
        "### Importación de la función `mean_squared_error`\n",
        "\n",
        "Para calcular el Error Cuadrático Medio (MSE), primero importamos la función `mean_squared_error` del módulo `metrics` de `sklearn`:\n"
      ],
      "metadata": {
        "id": "WsvA66NSt_Ep"
      }
    },
    {
      "cell_type": "code",
      "source": [
        "from sklearn.metrics import mean_squared_error"
      ],
      "metadata": {
        "id": "DPqz5dw9uBem"
      },
      "execution_count": 71,
      "outputs": []
    },
    {
      "cell_type": "markdown",
      "source": [
        "### Comparación de los resultados predichos con los valores reales\n",
        "\n",
        "Ahora, calculamos el Error Cuadrático Medio (MSE) comparando los valores reales de `price` con los valores predichos `Yhat`:\n",
        "\n"
      ],
      "metadata": {
        "id": "UIStRGWtuI0P"
      }
    },
    {
      "cell_type": "code",
      "source": [
        "mse = mean_squared_error(df['price'], Yhat)\n",
        "print('El error cuadrático medio entre el precio real y el valor predicho es: ', mse)"
      ],
      "metadata": {
        "colab": {
          "base_uri": "https://localhost:8080/"
        },
        "id": "VY8xM-gGuLwi",
        "outputId": "318b92ce-aabf-4730-8ea3-03b41f284701"
      },
      "execution_count": 72,
      "outputs": [
        {
          "output_type": "stream",
          "name": "stdout",
          "text": [
            "El error cuadrático medio entre el precio real y el valor predicho es:  11980366.87072649\n"
          ]
        }
      ]
    },
    {
      "cell_type": "markdown",
      "source": [
        "### Modelo 2: Regresión Lineal Múltiple\n",
        "\n",
        "Ahora calculamos el valor de R² para el modelo de regresión lineal múltiple:\n"
      ],
      "metadata": {
        "id": "UKkqsHeluvRl"
      }
    },
    {
      "cell_type": "code",
      "source": [
        "# Ajustamos el modelo\n",
        "lm.fit(Z, df['price'])\n",
        "\n",
        "# Calculamos R²\n",
        "print('El valor de R² es: ', lm.score(Z, df['price']))"
      ],
      "metadata": {
        "colab": {
          "base_uri": "https://localhost:8080/"
        },
        "id": "oLJL8pSkux_T",
        "outputId": "80905f80-ca53-4f2a-c5e8-8992f0bbb16f"
      },
      "execution_count": 73,
      "outputs": [
        {
          "output_type": "stream",
          "name": "stdout",
          "text": [
            "El valor de R² es:  0.8093562806577457\n"
          ]
        }
      ]
    },
    {
      "cell_type": "markdown",
      "source": [
        "Podemos decir que aproximadamente el 80.896% de la variación del precio es explicada por este modelo de regresión lineal múltiple \"multi_fit\".  \n",
        "\n"
      ],
      "metadata": {
        "id": "a89c1spJvQkR"
      }
    },
    {
      "cell_type": "markdown",
      "source": [
        "### Cálculo del Error Cuadrático Medio (MSE)\n",
        "\n",
        "Ahora, calculamos el MSE para evaluar la precisión del modelo:\n"
      ],
      "metadata": {
        "id": "wIo0Z81lvSs9"
      }
    },
    {
      "cell_type": "code",
      "source": [
        "# Predecimos los valores de precio\n",
        "Y_predict_multifit = lm.predict(Z)\n",
        "\n",
        "# Calculamos el error cuadrático medio\n",
        "mse_multi = mean_squared_error(df['price'], Y_predict_multifit)\n",
        "print('El error cuadrático medio del precio y el valor predicho es: ', mse_multi)"
      ],
      "metadata": {
        "colab": {
          "base_uri": "https://localhost:8080/"
        },
        "id": "LRdm8c0vvXif",
        "outputId": "650cc3e8-5e4a-4438-b08f-afe8e39d43f9"
      },
      "execution_count": 74,
      "outputs": [
        {
          "output_type": "stream",
          "name": "stdout",
          "text": [
            "El error cuadrático medio del precio y el valor predicho es:  11980366.87072649\n"
          ]
        }
      ]
    },
    {
      "cell_type": "markdown",
      "source": [
        "### Comparación de los resultados predichos con los reales\n",
        "\n",
        "Ahora, comparamos los valores predichos con los valores reales para evaluar el desempeño del modelo:\n"
      ],
      "metadata": {
        "id": "ugFCYTmzvgYz"
      }
    },
    {
      "cell_type": "code",
      "source": [
        "print('El error cuadrático medio del precio y el valor predicho usando multifit es: ', \\\n",
        "      mean_squared_error(df['price'], Y_predict_multifit))"
      ],
      "metadata": {
        "colab": {
          "base_uri": "https://localhost:8080/"
        },
        "id": "jBLHhN9zvjBT",
        "outputId": "664e172d-6b9e-4210-b294-f3eaa0bb5778"
      },
      "execution_count": 75,
      "outputs": [
        {
          "output_type": "stream",
          "name": "stdout",
          "text": [
            "El error cuadrático medio del precio y el valor predicho usando multifit es:  11980366.87072649\n"
          ]
        }
      ]
    },
    {
      "cell_type": "markdown",
      "source": [
        "El error cuadrático medio (MSE) obtenido es **11,980,366.87**. Este valor representa la media de los errores al cuadrado entre los valores reales y los valores predichos por el modelo de regresión múltiple. Un MSE más bajo indica un mejor ajuste del modelo.\n"
      ],
      "metadata": {
        "id": "LqpV9Qs8voxP"
      }
    },
    {
      "cell_type": "markdown",
      "source": [
        "### Modelo 3: Ajuste Polinómico  \n",
        "Calculemos el valor de R².\n",
        "\n",
        "Importamos la función `r2_score` del módulo `metrics`, ya que utilizaremos una función diferente.\n",
        "\n"
      ],
      "metadata": {
        "id": "PFijtLz1wIK9"
      }
    },
    {
      "cell_type": "code",
      "source": [
        "from sklearn.metrics import r2_score"
      ],
      "metadata": {
        "id": "qZQqMIeewKnP"
      },
      "execution_count": 76,
      "outputs": []
    },
    {
      "cell_type": "markdown",
      "source": [
        "Calculamos el valor de R² utilizando la función `r2_score`:\n",
        "\n"
      ],
      "metadata": {
        "id": "XEkAFCKxwSs5"
      }
    },
    {
      "cell_type": "code",
      "source": [
        "r_squared = r2_score(y, p(x))\n",
        "print('The R-square value is: ', r_squared)"
      ],
      "metadata": {
        "colab": {
          "base_uri": "https://localhost:8080/"
        },
        "id": "woaj9VfgwR6l",
        "outputId": "5a456136-3dc1-4922-96a9-c467ed3838d5"
      },
      "execution_count": 77,
      "outputs": [
        {
          "output_type": "stream",
          "name": "stdout",
          "text": [
            "The R-square value is:  0.674194666390652\n"
          ]
        }
      ]
    },
    {
      "cell_type": "markdown",
      "source": [
        "Podemos decir que aproximadamente el 67.419 % de la variación del precio es explicada por este ajuste polinómico.\n"
      ],
      "metadata": {
        "id": "teJxluIvwd1p"
      }
    },
    {
      "cell_type": "markdown",
      "source": [
        "### Error Cuadrático Medio (MSE)\n",
        "\n",
        "También podemos calcular el MSE:\n",
        "\n",
        "\n"
      ],
      "metadata": {
        "id": "2PBzFZ2BwhRS"
      }
    },
    {
      "cell_type": "code",
      "source": [
        "mean_squared_error(df['price'], p(x))"
      ],
      "metadata": {
        "colab": {
          "base_uri": "https://localhost:8080/"
        },
        "id": "MFtmS_1awsVj",
        "outputId": "4f38ee87-2a57-4311-f3ef-ea842e1620b8"
      },
      "execution_count": 78,
      "outputs": [
        {
          "output_type": "execute_result",
          "data": {
            "text/plain": [
              "20474146.426361218"
            ]
          },
          "metadata": {},
          "execution_count": 78
        }
      ]
    },
    {
      "cell_type": "markdown",
      "source": [
        "## 5. Predicción y Toma de Decisiones\n",
        "\n",
        "### Predicción\n",
        "\n",
        "En la sección anterior, entrenamos el modelo utilizando el método `fit`. Ahora usaremos el método `predict` para generar una predicción. Importemos `pyplot` para graficar; también utilizaremos algunas funciones de `numpy`.\n",
        "\n"
      ],
      "metadata": {
        "id": "z_JXCKs0w2dB"
      }
    },
    {
      "cell_type": "code",
      "source": [
        "import matplotlib.pyplot as plt\n",
        "import numpy as np\n",
        "\n",
        "%matplotlib inline"
      ],
      "metadata": {
        "id": "Kjr248IUw5Wh"
      },
      "execution_count": 79,
      "outputs": []
    },
    {
      "cell_type": "markdown",
      "source": [
        "### Crear una nueva entrada\n",
        "\n",
        "Ahora creamos una nueva entrada para la predicción:\n"
      ],
      "metadata": {
        "id": "mFi9m7q2xBWv"
      }
    },
    {
      "cell_type": "code",
      "source": [
        "new_input = np.arange(1, 100, 1).reshape(-1, 1)"
      ],
      "metadata": {
        "id": "6y8UUIUSxDJj"
      },
      "execution_count": 80,
      "outputs": []
    },
    {
      "cell_type": "markdown",
      "source": [
        "### Ajustar el modelo\n",
        "\n",
        "Ajustamos el modelo de regresión lineal con los datos de entrada y salida:\n",
        "\n"
      ],
      "metadata": {
        "id": "SyuZl3MYxLEL"
      }
    },
    {
      "cell_type": "code",
      "source": [
        "lm.fit(X, Y)\n",
        "lm"
      ],
      "metadata": {
        "colab": {
          "base_uri": "https://localhost:8080/",
          "height": 80
        },
        "id": "GP8rqBtIxM21",
        "outputId": "daa5a490-06e9-4c42-be7b-a44bc293b0cd"
      },
      "execution_count": 81,
      "outputs": [
        {
          "output_type": "execute_result",
          "data": {
            "text/plain": [
              "LinearRegression()"
            ],
            "text/html": [
              "<style>#sk-container-id-7 {\n",
              "  /* Definition of color scheme common for light and dark mode */\n",
              "  --sklearn-color-text: #000;\n",
              "  --sklearn-color-text-muted: #666;\n",
              "  --sklearn-color-line: gray;\n",
              "  /* Definition of color scheme for unfitted estimators */\n",
              "  --sklearn-color-unfitted-level-0: #fff5e6;\n",
              "  --sklearn-color-unfitted-level-1: #f6e4d2;\n",
              "  --sklearn-color-unfitted-level-2: #ffe0b3;\n",
              "  --sklearn-color-unfitted-level-3: chocolate;\n",
              "  /* Definition of color scheme for fitted estimators */\n",
              "  --sklearn-color-fitted-level-0: #f0f8ff;\n",
              "  --sklearn-color-fitted-level-1: #d4ebff;\n",
              "  --sklearn-color-fitted-level-2: #b3dbfd;\n",
              "  --sklearn-color-fitted-level-3: cornflowerblue;\n",
              "\n",
              "  /* Specific color for light theme */\n",
              "  --sklearn-color-text-on-default-background: var(--sg-text-color, var(--theme-code-foreground, var(--jp-content-font-color1, black)));\n",
              "  --sklearn-color-background: var(--sg-background-color, var(--theme-background, var(--jp-layout-color0, white)));\n",
              "  --sklearn-color-border-box: var(--sg-text-color, var(--theme-code-foreground, var(--jp-content-font-color1, black)));\n",
              "  --sklearn-color-icon: #696969;\n",
              "\n",
              "  @media (prefers-color-scheme: dark) {\n",
              "    /* Redefinition of color scheme for dark theme */\n",
              "    --sklearn-color-text-on-default-background: var(--sg-text-color, var(--theme-code-foreground, var(--jp-content-font-color1, white)));\n",
              "    --sklearn-color-background: var(--sg-background-color, var(--theme-background, var(--jp-layout-color0, #111)));\n",
              "    --sklearn-color-border-box: var(--sg-text-color, var(--theme-code-foreground, var(--jp-content-font-color1, white)));\n",
              "    --sklearn-color-icon: #878787;\n",
              "  }\n",
              "}\n",
              "\n",
              "#sk-container-id-7 {\n",
              "  color: var(--sklearn-color-text);\n",
              "}\n",
              "\n",
              "#sk-container-id-7 pre {\n",
              "  padding: 0;\n",
              "}\n",
              "\n",
              "#sk-container-id-7 input.sk-hidden--visually {\n",
              "  border: 0;\n",
              "  clip: rect(1px 1px 1px 1px);\n",
              "  clip: rect(1px, 1px, 1px, 1px);\n",
              "  height: 1px;\n",
              "  margin: -1px;\n",
              "  overflow: hidden;\n",
              "  padding: 0;\n",
              "  position: absolute;\n",
              "  width: 1px;\n",
              "}\n",
              "\n",
              "#sk-container-id-7 div.sk-dashed-wrapped {\n",
              "  border: 1px dashed var(--sklearn-color-line);\n",
              "  margin: 0 0.4em 0.5em 0.4em;\n",
              "  box-sizing: border-box;\n",
              "  padding-bottom: 0.4em;\n",
              "  background-color: var(--sklearn-color-background);\n",
              "}\n",
              "\n",
              "#sk-container-id-7 div.sk-container {\n",
              "  /* jupyter's `normalize.less` sets `[hidden] { display: none; }`\n",
              "     but bootstrap.min.css set `[hidden] { display: none !important; }`\n",
              "     so we also need the `!important` here to be able to override the\n",
              "     default hidden behavior on the sphinx rendered scikit-learn.org.\n",
              "     See: https://github.com/scikit-learn/scikit-learn/issues/21755 */\n",
              "  display: inline-block !important;\n",
              "  position: relative;\n",
              "}\n",
              "\n",
              "#sk-container-id-7 div.sk-text-repr-fallback {\n",
              "  display: none;\n",
              "}\n",
              "\n",
              "div.sk-parallel-item,\n",
              "div.sk-serial,\n",
              "div.sk-item {\n",
              "  /* draw centered vertical line to link estimators */\n",
              "  background-image: linear-gradient(var(--sklearn-color-text-on-default-background), var(--sklearn-color-text-on-default-background));\n",
              "  background-size: 2px 100%;\n",
              "  background-repeat: no-repeat;\n",
              "  background-position: center center;\n",
              "}\n",
              "\n",
              "/* Parallel-specific style estimator block */\n",
              "\n",
              "#sk-container-id-7 div.sk-parallel-item::after {\n",
              "  content: \"\";\n",
              "  width: 100%;\n",
              "  border-bottom: 2px solid var(--sklearn-color-text-on-default-background);\n",
              "  flex-grow: 1;\n",
              "}\n",
              "\n",
              "#sk-container-id-7 div.sk-parallel {\n",
              "  display: flex;\n",
              "  align-items: stretch;\n",
              "  justify-content: center;\n",
              "  background-color: var(--sklearn-color-background);\n",
              "  position: relative;\n",
              "}\n",
              "\n",
              "#sk-container-id-7 div.sk-parallel-item {\n",
              "  display: flex;\n",
              "  flex-direction: column;\n",
              "}\n",
              "\n",
              "#sk-container-id-7 div.sk-parallel-item:first-child::after {\n",
              "  align-self: flex-end;\n",
              "  width: 50%;\n",
              "}\n",
              "\n",
              "#sk-container-id-7 div.sk-parallel-item:last-child::after {\n",
              "  align-self: flex-start;\n",
              "  width: 50%;\n",
              "}\n",
              "\n",
              "#sk-container-id-7 div.sk-parallel-item:only-child::after {\n",
              "  width: 0;\n",
              "}\n",
              "\n",
              "/* Serial-specific style estimator block */\n",
              "\n",
              "#sk-container-id-7 div.sk-serial {\n",
              "  display: flex;\n",
              "  flex-direction: column;\n",
              "  align-items: center;\n",
              "  background-color: var(--sklearn-color-background);\n",
              "  padding-right: 1em;\n",
              "  padding-left: 1em;\n",
              "}\n",
              "\n",
              "\n",
              "/* Toggleable style: style used for estimator/Pipeline/ColumnTransformer box that is\n",
              "clickable and can be expanded/collapsed.\n",
              "- Pipeline and ColumnTransformer use this feature and define the default style\n",
              "- Estimators will overwrite some part of the style using the `sk-estimator` class\n",
              "*/\n",
              "\n",
              "/* Pipeline and ColumnTransformer style (default) */\n",
              "\n",
              "#sk-container-id-7 div.sk-toggleable {\n",
              "  /* Default theme specific background. It is overwritten whether we have a\n",
              "  specific estimator or a Pipeline/ColumnTransformer */\n",
              "  background-color: var(--sklearn-color-background);\n",
              "}\n",
              "\n",
              "/* Toggleable label */\n",
              "#sk-container-id-7 label.sk-toggleable__label {\n",
              "  cursor: pointer;\n",
              "  display: flex;\n",
              "  width: 100%;\n",
              "  margin-bottom: 0;\n",
              "  padding: 0.5em;\n",
              "  box-sizing: border-box;\n",
              "  text-align: center;\n",
              "  align-items: start;\n",
              "  justify-content: space-between;\n",
              "  gap: 0.5em;\n",
              "}\n",
              "\n",
              "#sk-container-id-7 label.sk-toggleable__label .caption {\n",
              "  font-size: 0.6rem;\n",
              "  font-weight: lighter;\n",
              "  color: var(--sklearn-color-text-muted);\n",
              "}\n",
              "\n",
              "#sk-container-id-7 label.sk-toggleable__label-arrow:before {\n",
              "  /* Arrow on the left of the label */\n",
              "  content: \"▸\";\n",
              "  float: left;\n",
              "  margin-right: 0.25em;\n",
              "  color: var(--sklearn-color-icon);\n",
              "}\n",
              "\n",
              "#sk-container-id-7 label.sk-toggleable__label-arrow:hover:before {\n",
              "  color: var(--sklearn-color-text);\n",
              "}\n",
              "\n",
              "/* Toggleable content - dropdown */\n",
              "\n",
              "#sk-container-id-7 div.sk-toggleable__content {\n",
              "  max-height: 0;\n",
              "  max-width: 0;\n",
              "  overflow: hidden;\n",
              "  text-align: left;\n",
              "  /* unfitted */\n",
              "  background-color: var(--sklearn-color-unfitted-level-0);\n",
              "}\n",
              "\n",
              "#sk-container-id-7 div.sk-toggleable__content.fitted {\n",
              "  /* fitted */\n",
              "  background-color: var(--sklearn-color-fitted-level-0);\n",
              "}\n",
              "\n",
              "#sk-container-id-7 div.sk-toggleable__content pre {\n",
              "  margin: 0.2em;\n",
              "  border-radius: 0.25em;\n",
              "  color: var(--sklearn-color-text);\n",
              "  /* unfitted */\n",
              "  background-color: var(--sklearn-color-unfitted-level-0);\n",
              "}\n",
              "\n",
              "#sk-container-id-7 div.sk-toggleable__content.fitted pre {\n",
              "  /* unfitted */\n",
              "  background-color: var(--sklearn-color-fitted-level-0);\n",
              "}\n",
              "\n",
              "#sk-container-id-7 input.sk-toggleable__control:checked~div.sk-toggleable__content {\n",
              "  /* Expand drop-down */\n",
              "  max-height: 200px;\n",
              "  max-width: 100%;\n",
              "  overflow: auto;\n",
              "}\n",
              "\n",
              "#sk-container-id-7 input.sk-toggleable__control:checked~label.sk-toggleable__label-arrow:before {\n",
              "  content: \"▾\";\n",
              "}\n",
              "\n",
              "/* Pipeline/ColumnTransformer-specific style */\n",
              "\n",
              "#sk-container-id-7 div.sk-label input.sk-toggleable__control:checked~label.sk-toggleable__label {\n",
              "  color: var(--sklearn-color-text);\n",
              "  background-color: var(--sklearn-color-unfitted-level-2);\n",
              "}\n",
              "\n",
              "#sk-container-id-7 div.sk-label.fitted input.sk-toggleable__control:checked~label.sk-toggleable__label {\n",
              "  background-color: var(--sklearn-color-fitted-level-2);\n",
              "}\n",
              "\n",
              "/* Estimator-specific style */\n",
              "\n",
              "/* Colorize estimator box */\n",
              "#sk-container-id-7 div.sk-estimator input.sk-toggleable__control:checked~label.sk-toggleable__label {\n",
              "  /* unfitted */\n",
              "  background-color: var(--sklearn-color-unfitted-level-2);\n",
              "}\n",
              "\n",
              "#sk-container-id-7 div.sk-estimator.fitted input.sk-toggleable__control:checked~label.sk-toggleable__label {\n",
              "  /* fitted */\n",
              "  background-color: var(--sklearn-color-fitted-level-2);\n",
              "}\n",
              "\n",
              "#sk-container-id-7 div.sk-label label.sk-toggleable__label,\n",
              "#sk-container-id-7 div.sk-label label {\n",
              "  /* The background is the default theme color */\n",
              "  color: var(--sklearn-color-text-on-default-background);\n",
              "}\n",
              "\n",
              "/* On hover, darken the color of the background */\n",
              "#sk-container-id-7 div.sk-label:hover label.sk-toggleable__label {\n",
              "  color: var(--sklearn-color-text);\n",
              "  background-color: var(--sklearn-color-unfitted-level-2);\n",
              "}\n",
              "\n",
              "/* Label box, darken color on hover, fitted */\n",
              "#sk-container-id-7 div.sk-label.fitted:hover label.sk-toggleable__label.fitted {\n",
              "  color: var(--sklearn-color-text);\n",
              "  background-color: var(--sklearn-color-fitted-level-2);\n",
              "}\n",
              "\n",
              "/* Estimator label */\n",
              "\n",
              "#sk-container-id-7 div.sk-label label {\n",
              "  font-family: monospace;\n",
              "  font-weight: bold;\n",
              "  display: inline-block;\n",
              "  line-height: 1.2em;\n",
              "}\n",
              "\n",
              "#sk-container-id-7 div.sk-label-container {\n",
              "  text-align: center;\n",
              "}\n",
              "\n",
              "/* Estimator-specific */\n",
              "#sk-container-id-7 div.sk-estimator {\n",
              "  font-family: monospace;\n",
              "  border: 1px dotted var(--sklearn-color-border-box);\n",
              "  border-radius: 0.25em;\n",
              "  box-sizing: border-box;\n",
              "  margin-bottom: 0.5em;\n",
              "  /* unfitted */\n",
              "  background-color: var(--sklearn-color-unfitted-level-0);\n",
              "}\n",
              "\n",
              "#sk-container-id-7 div.sk-estimator.fitted {\n",
              "  /* fitted */\n",
              "  background-color: var(--sklearn-color-fitted-level-0);\n",
              "}\n",
              "\n",
              "/* on hover */\n",
              "#sk-container-id-7 div.sk-estimator:hover {\n",
              "  /* unfitted */\n",
              "  background-color: var(--sklearn-color-unfitted-level-2);\n",
              "}\n",
              "\n",
              "#sk-container-id-7 div.sk-estimator.fitted:hover {\n",
              "  /* fitted */\n",
              "  background-color: var(--sklearn-color-fitted-level-2);\n",
              "}\n",
              "\n",
              "/* Specification for estimator info (e.g. \"i\" and \"?\") */\n",
              "\n",
              "/* Common style for \"i\" and \"?\" */\n",
              "\n",
              ".sk-estimator-doc-link,\n",
              "a:link.sk-estimator-doc-link,\n",
              "a:visited.sk-estimator-doc-link {\n",
              "  float: right;\n",
              "  font-size: smaller;\n",
              "  line-height: 1em;\n",
              "  font-family: monospace;\n",
              "  background-color: var(--sklearn-color-background);\n",
              "  border-radius: 1em;\n",
              "  height: 1em;\n",
              "  width: 1em;\n",
              "  text-decoration: none !important;\n",
              "  margin-left: 0.5em;\n",
              "  text-align: center;\n",
              "  /* unfitted */\n",
              "  border: var(--sklearn-color-unfitted-level-1) 1pt solid;\n",
              "  color: var(--sklearn-color-unfitted-level-1);\n",
              "}\n",
              "\n",
              ".sk-estimator-doc-link.fitted,\n",
              "a:link.sk-estimator-doc-link.fitted,\n",
              "a:visited.sk-estimator-doc-link.fitted {\n",
              "  /* fitted */\n",
              "  border: var(--sklearn-color-fitted-level-1) 1pt solid;\n",
              "  color: var(--sklearn-color-fitted-level-1);\n",
              "}\n",
              "\n",
              "/* On hover */\n",
              "div.sk-estimator:hover .sk-estimator-doc-link:hover,\n",
              ".sk-estimator-doc-link:hover,\n",
              "div.sk-label-container:hover .sk-estimator-doc-link:hover,\n",
              ".sk-estimator-doc-link:hover {\n",
              "  /* unfitted */\n",
              "  background-color: var(--sklearn-color-unfitted-level-3);\n",
              "  color: var(--sklearn-color-background);\n",
              "  text-decoration: none;\n",
              "}\n",
              "\n",
              "div.sk-estimator.fitted:hover .sk-estimator-doc-link.fitted:hover,\n",
              ".sk-estimator-doc-link.fitted:hover,\n",
              "div.sk-label-container:hover .sk-estimator-doc-link.fitted:hover,\n",
              ".sk-estimator-doc-link.fitted:hover {\n",
              "  /* fitted */\n",
              "  background-color: var(--sklearn-color-fitted-level-3);\n",
              "  color: var(--sklearn-color-background);\n",
              "  text-decoration: none;\n",
              "}\n",
              "\n",
              "/* Span, style for the box shown on hovering the info icon */\n",
              ".sk-estimator-doc-link span {\n",
              "  display: none;\n",
              "  z-index: 9999;\n",
              "  position: relative;\n",
              "  font-weight: normal;\n",
              "  right: .2ex;\n",
              "  padding: .5ex;\n",
              "  margin: .5ex;\n",
              "  width: min-content;\n",
              "  min-width: 20ex;\n",
              "  max-width: 50ex;\n",
              "  color: var(--sklearn-color-text);\n",
              "  box-shadow: 2pt 2pt 4pt #999;\n",
              "  /* unfitted */\n",
              "  background: var(--sklearn-color-unfitted-level-0);\n",
              "  border: .5pt solid var(--sklearn-color-unfitted-level-3);\n",
              "}\n",
              "\n",
              ".sk-estimator-doc-link.fitted span {\n",
              "  /* fitted */\n",
              "  background: var(--sklearn-color-fitted-level-0);\n",
              "  border: var(--sklearn-color-fitted-level-3);\n",
              "}\n",
              "\n",
              ".sk-estimator-doc-link:hover span {\n",
              "  display: block;\n",
              "}\n",
              "\n",
              "/* \"?\"-specific style due to the `<a>` HTML tag */\n",
              "\n",
              "#sk-container-id-7 a.estimator_doc_link {\n",
              "  float: right;\n",
              "  font-size: 1rem;\n",
              "  line-height: 1em;\n",
              "  font-family: monospace;\n",
              "  background-color: var(--sklearn-color-background);\n",
              "  border-radius: 1rem;\n",
              "  height: 1rem;\n",
              "  width: 1rem;\n",
              "  text-decoration: none;\n",
              "  /* unfitted */\n",
              "  color: var(--sklearn-color-unfitted-level-1);\n",
              "  border: var(--sklearn-color-unfitted-level-1) 1pt solid;\n",
              "}\n",
              "\n",
              "#sk-container-id-7 a.estimator_doc_link.fitted {\n",
              "  /* fitted */\n",
              "  border: var(--sklearn-color-fitted-level-1) 1pt solid;\n",
              "  color: var(--sklearn-color-fitted-level-1);\n",
              "}\n",
              "\n",
              "/* On hover */\n",
              "#sk-container-id-7 a.estimator_doc_link:hover {\n",
              "  /* unfitted */\n",
              "  background-color: var(--sklearn-color-unfitted-level-3);\n",
              "  color: var(--sklearn-color-background);\n",
              "  text-decoration: none;\n",
              "}\n",
              "\n",
              "#sk-container-id-7 a.estimator_doc_link.fitted:hover {\n",
              "  /* fitted */\n",
              "  background-color: var(--sklearn-color-fitted-level-3);\n",
              "}\n",
              "</style><div id=\"sk-container-id-7\" class=\"sk-top-container\"><div class=\"sk-text-repr-fallback\"><pre>LinearRegression()</pre><b>In a Jupyter environment, please rerun this cell to show the HTML representation or trust the notebook. <br />On GitHub, the HTML representation is unable to render, please try loading this page with nbviewer.org.</b></div><div class=\"sk-container\" hidden><div class=\"sk-item\"><div class=\"sk-estimator fitted sk-toggleable\"><input class=\"sk-toggleable__control sk-hidden--visually\" id=\"sk-estimator-id-10\" type=\"checkbox\" checked><label for=\"sk-estimator-id-10\" class=\"sk-toggleable__label fitted sk-toggleable__label-arrow\"><div><div>LinearRegression</div></div><div><a class=\"sk-estimator-doc-link fitted\" rel=\"noreferrer\" target=\"_blank\" href=\"https://scikit-learn.org/1.6/modules/generated/sklearn.linear_model.LinearRegression.html\">?<span>Documentation for LinearRegression</span></a><span class=\"sk-estimator-doc-link fitted\">i<span>Fitted</span></span></div></label><div class=\"sk-toggleable__content fitted\"><pre>LinearRegression()</pre></div> </div></div></div></div>"
            ]
          },
          "metadata": {},
          "execution_count": 81
        }
      ]
    },
    {
      "cell_type": "markdown",
      "source": [
        "### Generar una predicción\n",
        "\n",
        "Utilizamos el modelo ajustado para predecir valores a partir de la nueva entrada:\n"
      ],
      "metadata": {
        "id": "lipERGEnxXlK"
      }
    },
    {
      "cell_type": "code",
      "source": [
        "import pandas as pd\n",
        "\n",
        "new_input_df = pd.DataFrame(new_input, columns=X.columns)  # Usa los mismos nombres de columnas\n",
        "yhat = lm.predict(new_input_df)\n",
        "print(yhat[0:5])"
      ],
      "metadata": {
        "colab": {
          "base_uri": "https://localhost:8080/"
        },
        "id": "NSJG_y1bxZFp",
        "outputId": "6ce7bc82-399c-4a4b-8498-3b812e1029e0"
      },
      "execution_count": 84,
      "outputs": [
        {
          "output_type": "stream",
          "name": "stdout",
          "text": [
            "[-15354.89273338 -14651.72794195 -13948.56315052 -13245.39835908\n",
            " -12542.23356765]\n"
          ]
        }
      ]
    },
    {
      "cell_type": "markdown",
      "source": [
        "## Graficar los resultados\n",
        "Finalmente, representamos gráficamente la predicción del modelo:\n",
        "\n"
      ],
      "metadata": {
        "id": "N3KgQdInxzH-"
      }
    },
    {
      "cell_type": "code",
      "source": [
        "plt.plot(new_input, yhat, label=\"Predicción del modelo\")\n",
        "plt.xlabel(\"Entrada\")\n",
        "plt.ylabel(\"Predicción\")\n",
        "plt.title(\"Predicción del Modelo de Regresión Lineal\")\n",
        "plt.legend()\n",
        "plt.show()"
      ],
      "metadata": {
        "colab": {
          "base_uri": "https://localhost:8080/",
          "height": 455
        },
        "id": "4xdIim-Qx1X-",
        "outputId": "dce9f7d0-a2b7-49ff-9160-835aecd4329d"
      },
      "execution_count": 86,
      "outputs": [
        {
          "output_type": "display_data",
          "data": {
            "text/plain": [
              "<Figure size 1000x600 with 1 Axes>"
            ],
            "image/png": "[encoded data removed]"
          },
          "metadata": {}
        }
      ]
    },
    {
      "cell_type": "markdown",
      "source": [
        "## Toma de Decisiones: Determinando un Buen Ajuste del Modelo  \n",
        "\n",
        "Ahora que hemos visualizado los diferentes modelos y generado los valores de **R-cuadrado (R²)** y **Error Cuadrático Medio (MSE)** para cada ajuste, ¿cómo determinamos cuál es el mejor modelo?  \n",
        "\n",
        "### ¿Qué es un buen valor de R-cuadrado?  \n",
        "Al comparar modelos, **el modelo con el valor de R² más alto** es el que mejor se ajusta a los datos.  \n",
        "\n",
        "### ¿Qué es un buen MSE?  \n",
        "Al comparar modelos, **el modelo con el valor de MSE más bajo** es el que mejor se ajusta a los datos.  \n",
        "\n",
        "### Comparación de Modelos  \n",
        "A continuación, observamos los valores obtenidos para cada modelo:  \n",
        "\n",
        "#### **Regresión Lineal Simple** (Usando `Highway-mpg` como variable predictora del precio)  \n",
        "- **R²**: 0.4966  \n",
        "- **MSE**: 3.16 × 10⁷  \n",
        "\n",
        "#### **Regresión Lineal Múltiple** (Usando `Horsepower`, `Curb-weight`, `Engine-size` y `Highway-mpg` como variables predictoras del precio)  \n",
        "- **R²**: 0.8090  \n",
        "- **MSE**: 1.2 × 10⁷  \n",
        "\n",
        "#### **Ajuste Polinomial** (Usando `Highway-mpg` como variable predictora del precio)  \n",
        "- **R²**: 0.6742  \n",
        "- **MSE**: 2.05 × 10⁷  \n",
        "\n",
        "\n",
        "## Comparación entre el Modelo de Regresión Lineal Simple (SLR) y el Modelo de Regresión Lineal Múltiple (MLR)  \n",
        "\n",
        "Por lo general, cuantas más variables tienes, mejor será tu modelo para predecir. Sin embargo, esto no siempre es cierto. A veces, podrías no tener suficientes datos, podrías enfrentar problemas numéricos o muchas de las variables podrían no ser útiles y hasta actuar como ruido. Por lo tanto, siempre es recomendable revisar el **MSE** y el **R²**.  \n",
        "\n",
        "Para comparar los resultados entre los modelos **MLR** y **SLR**, analizamos una combinación de ambos, **R-cuadrado** y **MSE**, para llegar a la mejor conclusión sobre el ajuste del modelo.\n",
        "\n",
        "### Comparación de MSE:  \n",
        "- El **MSE** del **SLR** es de **3.16x10⁷**, mientras que el **MSE** del **MLR** es de **1.2x10⁷**. El **MSE** de **MLR** es mucho más pequeño.  \n",
        "\n",
        "### Comparación de R-cuadrado:  \n",
        "- En este caso, también podemos ver que hay una gran diferencia entre el **R²** del **SLR** y el **R²** del **MLR**. El **R²** del **SLR (~0.497)** es muy pequeño comparado con el **R²** del **MLR (~0.809)**.  \n",
        "Este **R²** combinado con el **MSE** demuestra que el **MLR** parece ser el modelo de mejor ajuste en este caso, en comparación con el **SLR**.\n",
        "\n",
        "---\n",
        "\n",
        "## Comparación entre el Modelo de Regresión Lineal Simple (SLR) y el Ajuste Polinomial\n",
        "\n",
        "### Comparación de MSE:  \n",
        "Podemos ver que el **Ajuste Polinomial** redujo el **MSE**, ya que este valor es más pequeño que el **MSE** del **SLR**.  \n",
        "\n",
        "### Comparación de R-cuadrado:  \n",
        "El **R²** del **Ajuste Polinomial** es más grande que el **R²** del **SLR**, por lo que el **Ajuste Polinomial** también mejoró significativamente el **R²**.  \n",
        "\n",
        "Dado que el **Ajuste Polinomial** resultó en un **MSE** más bajo y un **R²** más alto, podemos concluir que este modelo tiene un mejor ajuste que la regresión lineal simple para predecir el \"precio\" con \"highway-mpg\" como variable predictora.\n",
        "\n",
        "---\n",
        "\n",
        "## Comparación entre la Regresión Lineal Múltiple (MLR) y el Ajuste Polinomial\n",
        "\n",
        "### Comparación de MSE:  \n",
        "El **MSE** del **MLR** es más pequeño que el **MSE** del **Ajuste Polinomial**.  \n",
        "\n",
        "### Comparación de R-cuadrado:  \n",
        "El **R²** del **MLR** también es mucho mayor que el del **Ajuste Polinomial**.  \n",
        "\n",
        "### Conclusión:  \n",
        "Al comparar estos tres modelos, concluimos que el modelo **MLR** es el mejor para predecir el precio a partir de nuestro conjunto de datos. Este resultado tiene sentido, ya que tenemos 27 variables en total y sabemos que más de una de esas variables son predictores potenciales del precio final del automóvil.\n"
      ],
      "metadata": {
        "id": "LNDgfKNlyYvG"
      }
    }
  ]
}